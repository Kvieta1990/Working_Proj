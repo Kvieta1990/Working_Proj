{
 "cells": [
  {
   "cell_type": "markdown",
   "id": "339ce9b4-0942-480e-b62e-c085220a4d6c",
   "metadata": {},
   "source": [
    "# Running time comparison\n",
    "\n",
    "> Here the old implementation of `mantidtotalscattering` for reducing the total scattering data is compared to the new implementation in terms of both consistence and running time. The major difference between the old and new routines is the way of performing the absortion correction. In the old routine, the absorption (and multiple scattering) correction is performed on a pixel-by-pixel basis, whereas in the new routine, the absorption correction is performed in a group manner. First, a preliminary absorption calaculation is performed for all the pixels and then an unsupervised machine learning clustering algorithm is applied to group all the spectra into a certain number of groups.\n",
    "\n",
    "> A typical user data set was used for the test here and the overall size of data involved in the test reduction for both the old and new routines is ~50 Gb"
   ]
  },
  {
   "cell_type": "markdown",
   "id": "3d6459d2-d59f-4d6b-a495-4b47f23524cd",
   "metadata": {},
   "source": [
    "## New routine - Abs correction"
   ]
  },
  {
   "cell_type": "code",
   "execution_count": 1,
   "id": "39f866f9-96a0-42c6-b10f-ba9227e2258f",
   "metadata": {
    "execution": {
     "iopub.execute_input": "2023-04-24T20:05:37.156538Z",
     "iopub.status.busy": "2023-04-24T20:05:37.155667Z",
     "iopub.status.idle": "2023-04-24T20:05:37.160709Z",
     "shell.execute_reply": "2023-04-24T20:05:37.160110Z",
     "shell.execute_reply.started": "2023-04-24T20:05:37.156514Z"
    }
   },
   "outputs": [
    {
     "name": "stdout",
     "output_type": "stream",
     "text": [
      "Group level reduction running time:  1.9000000000000001  minutes\n"
     ]
    }
   ],
   "source": [
    "start_time = 1682343716  # in seconds\n",
    "stop_time = 1682343830   # in seconds\n",
    "\n",
    "run_time = (stop_time - start_time) / 3600. * 60.  # in minutes\n",
    "print(\"Group level reduction running time: \", run_time, \" minutes\")"
   ]
  },
  {
   "cell_type": "markdown",
   "id": "b1dfb8c2-5399-4b24-bd27-906de7b288d3",
   "metadata": {},
   "source": [
    "## New routine - No abs correction"
   ]
  },
  {
   "cell_type": "code",
   "execution_count": 2,
   "id": "8c4d3853-ab78-453a-a4b9-e2654727ba46",
   "metadata": {
    "execution": {
     "iopub.execute_input": "2023-04-24T20:05:55.239459Z",
     "iopub.status.busy": "2023-04-24T20:05:55.238602Z",
     "iopub.status.idle": "2023-04-24T20:05:55.243887Z",
     "shell.execute_reply": "2023-04-24T20:05:55.243258Z",
     "shell.execute_reply.started": "2023-04-24T20:05:55.239433Z"
    }
   },
   "outputs": [
    {
     "name": "stdout",
     "output_type": "stream",
     "text": [
      "Group level reduction running time:  0.8333333333333333  minutes\n"
     ]
    }
   ],
   "source": [
    "start_time = 1682343969  # in seconds\n",
    "stop_time = 1682344019   # in seconds\n",
    "\n",
    "run_time = (stop_time - start_time) / 3600. * 60.  # in minutes\n",
    "print(\"Group level reduction running time: \", run_time, \" minutes\")"
   ]
  },
  {
   "cell_type": "markdown",
   "id": "ec9d00d3-0e14-4484-8730-4ae7b6a03627",
   "metadata": {},
   "source": [
    "## Old routine - Abs correction"
   ]
  },
  {
   "cell_type": "code",
   "execution_count": 3,
   "id": "53444d65-6128-474e-a394-bd14779e1a6a",
   "metadata": {
    "execution": {
     "iopub.execute_input": "2023-04-24T20:06:14.128240Z",
     "iopub.status.busy": "2023-04-24T20:06:14.127492Z",
     "iopub.status.idle": "2023-04-24T20:06:14.132746Z",
     "shell.execute_reply": "2023-04-24T20:06:14.132010Z",
     "shell.execute_reply.started": "2023-04-24T20:06:14.128218Z"
    }
   },
   "outputs": [
    {
     "name": "stdout",
     "output_type": "stream",
     "text": [
      "Pixel-by-pixel level reduction running time:  20.05  minutes\n"
     ]
    }
   ],
   "source": [
    "start_time = 1681919345  # in seconds\n",
    "stop_time = 1681920548   # in seconds\n",
    "\n",
    "run_time = (stop_time - start_time) / 3600. * 60.  # in minutes\n",
    "print(\"Pixel-by-pixel level reduction running time: \", run_time, \" minutes\")"
   ]
  },
  {
   "cell_type": "markdown",
   "id": "538cfcc7-38b1-401a-9da7-286e6151c512",
   "metadata": {},
   "source": [
    "## Old routine - No abs correction"
   ]
  },
  {
   "cell_type": "code",
   "execution_count": 4,
   "id": "fd4d96c1-5355-4412-8401-5aff7e6fb160",
   "metadata": {
    "execution": {
     "iopub.execute_input": "2023-04-24T20:06:32.664963Z",
     "iopub.status.busy": "2023-04-24T20:06:32.664179Z",
     "iopub.status.idle": "2023-04-24T20:06:32.669428Z",
     "shell.execute_reply": "2023-04-24T20:06:32.668749Z",
     "shell.execute_reply.started": "2023-04-24T20:06:32.664928Z"
    }
   },
   "outputs": [
    {
     "name": "stdout",
     "output_type": "stream",
     "text": [
      "Pixel-by-pixel level reduction running time:  17.366666666666667  minutes\n"
     ]
    }
   ],
   "source": [
    "start_time = 1682345068  # in seconds\n",
    "stop_time = 1682346110   # in seconds\n",
    "\n",
    "run_time = (stop_time - start_time) / 3600. * 60.  # in minutes\n",
    "print(\"Pixel-by-pixel level reduction running time: \", run_time, \" minutes\")"
   ]
  },
  {
   "cell_type": "code",
   "execution_count": null,
   "id": "32f700de-21a4-4d4f-8aad-6935195d5e43",
   "metadata": {},
   "outputs": [],
   "source": []
  }
 ],
 "metadata": {
  "kernelspec": {
   "display_name": "Python (default)",
   "language": "python",
   "name": "python3"
  },
  "language_info": {
   "codemirror_mode": {
    "name": "ipython",
    "version": 3
   },
   "file_extension": ".py",
   "mimetype": "text/x-python",
   "name": "python",
   "nbconvert_exporter": "python",
   "pygments_lexer": "ipython3",
   "version": "3.7.13"
  },
  "widgets": {
   "application/vnd.jupyter.widget-state+json": {
    "state": {},
    "version_major": 2,
    "version_minor": 0
   }
  }
 },
 "nbformat": 4,
 "nbformat_minor": 5
}
