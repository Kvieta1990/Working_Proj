{
 "cells": [
  {
   "cell_type": "code",
   "execution_count": 29,
   "id": "d5c8b80e-03d6-4135-ae74-326e334da542",
   "metadata": {
    "execution": {
     "iopub.execute_input": "2023-04-25T03:36:12.604173Z",
     "iopub.status.busy": "2023-04-25T03:36:12.603310Z",
     "iopub.status.idle": "2023-04-25T03:36:12.609919Z",
     "shell.execute_reply": "2023-04-25T03:36:12.609320Z",
     "shell.execute_reply.started": "2023-04-25T03:36:12.604148Z"
    },
    "tags": []
   },
   "outputs": [],
   "source": [
    "def chem_form_normalizer(chem_form_in):\n",
    "    list_in = chem_form_in.split()\n",
    "    list_out = dict()\n",
    "    coeff_all = 0.\n",
    "    for item in list_in:\n",
    "        if not any(char.isdigit() for char in item):\n",
    "            ele_tmp = item\n",
    "            coeff_tmp = 1.\n",
    "        else:\n",
    "            pos = 0\n",
    "            for char in item:\n",
    "                if char.isdigit() or char == \".\":\n",
    "                    break\n",
    "                else:\n",
    "                    pos += 1\n",
    "            ele_tmp = item[:pos]\n",
    "            coeff_tmp = float(item[pos:])\n",
    "        list_out[ele_tmp] = coeff_tmp\n",
    "        coeff_all += coeff_tmp\n",
    "\n",
    "    chem_form_out = list()\n",
    "    for key, item in list_out.items():\n",
    "        str_tmp = key + \"%.2g\" % (item / coeff_all)\n",
    "        chem_form_out.append(str_tmp)\n",
    "\n",
    "    return \" \".join(chem_form_out)"
   ]
  },
  {
   "cell_type": "code",
   "execution_count": 32,
   "id": "c44873e3-190c-4deb-ba3c-96c0f4644dfe",
   "metadata": {
    "execution": {
     "iopub.execute_input": "2023-04-25T03:39:28.567386Z",
     "iopub.status.busy": "2023-04-25T03:39:28.566512Z",
     "iopub.status.idle": "2023-04-25T03:39:28.570660Z",
     "shell.execute_reply": "2023-04-25T03:39:28.570069Z",
     "shell.execute_reply.started": "2023-04-25T03:39:28.567361Z"
    },
    "tags": []
   },
   "outputs": [],
   "source": [
    "test = chem_form_normalizer(\"V\")"
   ]
  },
  {
   "cell_type": "code",
   "execution_count": 33,
   "id": "0dd12864-8750-4d3a-9046-4ac053c5e0af",
   "metadata": {
    "execution": {
     "iopub.execute_input": "2023-04-25T03:39:28.935917Z",
     "iopub.status.busy": "2023-04-25T03:39:28.935731Z",
     "iopub.status.idle": "2023-04-25T03:39:28.939177Z",
     "shell.execute_reply": "2023-04-25T03:39:28.938570Z",
     "shell.execute_reply.started": "2023-04-25T03:39:28.935900Z"
    },
    "tags": []
   },
   "outputs": [
    {
     "name": "stdout",
     "output_type": "stream",
     "text": [
      "V1\n"
     ]
    }
   ],
   "source": [
    "print(test)"
   ]
  },
  {
   "cell_type": "code",
   "execution_count": 41,
   "id": "bd00b69e-c3f4-495c-9c3a-1df44917a270",
   "metadata": {
    "execution": {
     "iopub.execute_input": "2023-04-25T03:41:19.316488Z",
     "iopub.status.busy": "2023-04-25T03:41:19.315718Z",
     "iopub.status.idle": "2023-04-25T03:41:19.321311Z",
     "shell.execute_reply": "2023-04-25T03:41:19.320688Z",
     "shell.execute_reply.started": "2023-04-25T03:41:19.316457Z"
    },
    "tags": []
   },
   "outputs": [
    {
     "data": {
      "text/plain": [
       "'1.2e-06'"
      ]
     },
     "execution_count": 41,
     "metadata": {},
     "output_type": "execute_result"
    }
   ],
   "source": [
    "\"%.2g\" % 0.000001222"
   ]
  },
  {
   "cell_type": "code",
   "execution_count": 46,
   "id": "d9023c5c-a21d-4d92-94ce-7008a0c1cffc",
   "metadata": {
    "execution": {
     "iopub.execute_input": "2023-04-25T03:43:16.957959Z",
     "iopub.status.busy": "2023-04-25T03:43:16.956965Z",
     "iopub.status.idle": "2023-04-25T03:43:16.965383Z",
     "shell.execute_reply": "2023-04-25T03:43:16.964512Z",
     "shell.execute_reply.started": "2023-04-25T03:43:16.957931Z"
    },
    "tags": []
   },
   "outputs": [
    {
     "ename": "ValueError",
     "evalue": "Invalid format specifier",
     "output_type": "error",
     "traceback": [
      "\u001b[0;31m---------------------------------------------------------------------------\u001b[0m",
      "\u001b[0;31mValueError\u001b[0m                                Traceback (most recent call last)",
      "\u001b[0;32m/tmp/ipykernel_2376010/1000988945.py\u001b[0m in \u001b[0;36m<module>\u001b[0;34m\u001b[0m\n\u001b[0;32m----> 1\u001b[0;31m \u001b[0;34m\"{:.2ng}\"\u001b[0m\u001b[0;34m.\u001b[0m\u001b[0mformat\u001b[0m\u001b[0;34m(\u001b[0m\u001b[0;36m0.00000012333\u001b[0m\u001b[0;34m)\u001b[0m\u001b[0;34m\u001b[0m\u001b[0;34m\u001b[0m\u001b[0m\n\u001b[0m",
      "\u001b[0;31mValueError\u001b[0m: Invalid format specifier"
     ]
    }
   ],
   "source": [
    "\"{:.2g}\".format(0.00000012333)"
   ]
  },
  {
   "cell_type": "code",
   "execution_count": null,
   "id": "601bd658-038e-4820-8192-b9c0837b444d",
   "metadata": {},
   "outputs": [],
   "source": []
  }
 ],
 "metadata": {
  "kernelspec": {
   "display_name": "Python (default)",
   "language": "python",
   "name": "python3"
  },
  "language_info": {
   "codemirror_mode": {
    "name": "ipython",
    "version": 3
   },
   "file_extension": ".py",
   "mimetype": "text/x-python",
   "name": "python",
   "nbconvert_exporter": "python",
   "pygments_lexer": "ipython3",
   "version": "3.7.13"
  },
  "widgets": {
   "application/vnd.jupyter.widget-state+json": {
    "state": {},
    "version_major": 2,
    "version_minor": 0
   }
  }
 },
 "nbformat": 4,
 "nbformat_minor": 5
}
