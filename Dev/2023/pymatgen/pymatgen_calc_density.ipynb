{
 "cells": [
  {
   "cell_type": "code",
   "execution_count": null,
   "id": "36498388-3c9b-41ce-9fdf-ae52a6bc4701",
   "metadata": {
    "execution": {
     "iopub.execute_input": "2023-04-08T02:44:26.104788Z",
     "iopub.status.busy": "2023-04-08T02:44:26.104454Z",
     "iopub.status.idle": "2023-04-08T02:44:26.108580Z",
     "shell.execute_reply": "2023-04-08T02:44:26.107922Z",
     "shell.execute_reply.started": "2023-04-08T02:44:26.104767Z"
    },
    "tags": []
   },
   "outputs": [],
   "source": [
    "from pymatgen.core.structure import Structure"
   ]
  },
  {
   "cell_type": "markdown",
   "id": "4810813d-4eec-4a44-9907-63a8b8f8669e",
   "metadata": {},
   "source": [
    "## Load in CIF file"
   ]
  },
  {
   "cell_type": "code",
   "execution_count": 25,
   "id": "a5b505f4-1ff1-4ace-ab30-74f5faf2ddca",
   "metadata": {
    "execution": {
     "iopub.execute_input": "2023-04-08T02:44:55.295669Z",
     "iopub.status.busy": "2023-04-08T02:44:55.294471Z",
     "iopub.status.idle": "2023-04-08T02:44:55.324861Z",
     "shell.execute_reply": "2023-04-08T02:44:55.324252Z",
     "shell.execute_reply.started": "2023-04-08T02:44:55.295644Z"
    }
   },
   "outputs": [],
   "source": [
    "structure = Structure.from_file('LTNNO_charged.cif')"
   ]
  },
  {
   "cell_type": "markdown",
   "id": "b6ca0393-9767-494c-867b-f74f8eb837ba",
   "metadata": {},
   "source": [
    "## Calculate the mass density"
   ]
  },
  {
   "cell_type": "code",
   "execution_count": 23,
   "id": "5bae0339-0acf-4ea8-b121-2e1aad6d1e48",
   "metadata": {
    "execution": {
     "iopub.execute_input": "2023-04-08T02:44:07.435514Z",
     "iopub.status.busy": "2023-04-08T02:44:07.435179Z",
     "iopub.status.idle": "2023-04-08T02:44:07.466959Z",
     "shell.execute_reply": "2023-04-08T02:44:07.466287Z",
     "shell.execute_reply.started": "2023-04-08T02:44:07.435494Z"
    },
    "tags": []
   },
   "outputs": [],
   "source": [
    "mass_density = structure.density"
   ]
  },
  {
   "cell_type": "markdown",
   "id": "13f9ec3b-f7e7-4034-8516-c58ecb5a8503",
   "metadata": {},
   "source": [
    "## Calculate the number density"
   ]
  },
  {
   "cell_type": "code",
   "execution_count": 21,
   "id": "eb3913dd-5230-43b8-8f1f-ecd5f3539597",
   "metadata": {
    "execution": {
     "iopub.execute_input": "2023-04-08T02:18:31.639606Z",
     "iopub.status.busy": "2023-04-08T02:18:31.639268Z",
     "iopub.status.idle": "2023-04-08T02:18:31.643667Z",
     "shell.execute_reply": "2023-04-08T02:18:31.643085Z",
     "shell.execute_reply.started": "2023-04-08T02:18:31.639585Z"
    },
    "tags": []
   },
   "outputs": [],
   "source": [
    "num_atoms = 0\n",
    "for site in structure:\n",
    "    num_atoms += site.species.num_atoms\n",
    "volume = structure.volume\n",
    "num_density = num_atoms / volume"
   ]
  }
 ],
 "metadata": {
  "kernelspec": {
   "display_name": "Python (pymatgen)",
   "language": "python",
   "name": "pymatgen"
  },
  "language_info": {
   "codemirror_mode": {
    "name": "ipython",
    "version": 3
   },
   "file_extension": ".py",
   "mimetype": "text/x-python",
   "name": "python",
   "nbconvert_exporter": "python",
   "pygments_lexer": "ipython3",
   "version": "3.10.10"
  },
  "widgets": {
   "application/vnd.jupyter.widget-state+json": {
    "state": {},
    "version_major": 2,
    "version_minor": 0
   }
  }
 },
 "nbformat": 4,
 "nbformat_minor": 5
}
