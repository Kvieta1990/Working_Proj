{
 "cells": [
  {
   "cell_type": "code",
   "execution_count": 7,
   "id": "36498388-3c9b-41ce-9fdf-ae52a6bc4701",
   "metadata": {
    "execution": {
     "iopub.execute_input": "2023-04-08T03:37:05.713991Z",
     "iopub.status.busy": "2023-04-08T03:37:05.713184Z",
     "iopub.status.idle": "2023-04-08T03:37:05.717661Z",
     "shell.execute_reply": "2023-04-08T03:37:05.717070Z",
     "shell.execute_reply.started": "2023-04-08T03:37:05.713968Z"
    },
    "tags": []
   },
   "outputs": [],
   "source": [
    "from pymatgen.core.structure import Structure\n",
    "from pymatgen.symmetry.analyzer import SpacegroupAnalyzer"
   ]
  },
  {
   "cell_type": "markdown",
   "id": "4810813d-4eec-4a44-9907-63a8b8f8669e",
   "metadata": {},
   "source": [
    "# Load in CIF file"
   ]
  },
  {
   "cell_type": "code",
   "execution_count": 2,
   "id": "a5b505f4-1ff1-4ace-ab30-74f5faf2ddca",
   "metadata": {
    "execution": {
     "iopub.execute_input": "2023-04-08T03:35:54.334351Z",
     "iopub.status.busy": "2023-04-08T03:35:54.334157Z",
     "iopub.status.idle": "2023-04-08T03:35:54.716387Z",
     "shell.execute_reply": "2023-04-08T03:35:54.715580Z",
     "shell.execute_reply.started": "2023-04-08T03:35:54.334336Z"
    },
    "tags": []
   },
   "outputs": [],
   "source": [
    "structure = Structure.from_file('LTNNO_charged.cif')"
   ]
  },
  {
   "cell_type": "markdown",
   "id": "ccfe2a64-709d-4271-b4d0-672673b531c8",
   "metadata": {},
   "source": [
    "# Density"
   ]
  },
  {
   "cell_type": "markdown",
   "id": "b6ca0393-9767-494c-867b-f74f8eb837ba",
   "metadata": {},
   "source": [
    "## Calculate the mass density"
   ]
  },
  {
   "cell_type": "code",
   "execution_count": 3,
   "id": "5bae0339-0acf-4ea8-b121-2e1aad6d1e48",
   "metadata": {
    "execution": {
     "iopub.execute_input": "2023-04-08T03:35:54.762576Z",
     "iopub.status.busy": "2023-04-08T03:35:54.762409Z",
     "iopub.status.idle": "2023-04-08T03:35:54.766652Z",
     "shell.execute_reply": "2023-04-08T03:35:54.766074Z",
     "shell.execute_reply.started": "2023-04-08T03:35:54.762562Z"
    },
    "tags": []
   },
   "outputs": [],
   "source": [
    "mass_density = structure.density"
   ]
  },
  {
   "cell_type": "markdown",
   "id": "13f9ec3b-f7e7-4034-8516-c58ecb5a8503",
   "metadata": {},
   "source": [
    "## Calculate the number density"
   ]
  },
  {
   "cell_type": "code",
   "execution_count": 4,
   "id": "eb3913dd-5230-43b8-8f1f-ecd5f3539597",
   "metadata": {
    "execution": {
     "iopub.execute_input": "2023-04-08T03:35:55.596848Z",
     "iopub.status.busy": "2023-04-08T03:35:55.596408Z",
     "iopub.status.idle": "2023-04-08T03:35:55.599998Z",
     "shell.execute_reply": "2023-04-08T03:35:55.599398Z",
     "shell.execute_reply.started": "2023-04-08T03:35:55.596831Z"
    },
    "tags": []
   },
   "outputs": [],
   "source": [
    "num_atoms = 0\n",
    "for site in structure:\n",
    "    num_atoms += site.species.num_atoms\n",
    "volume = structure.volume\n",
    "num_density = num_atoms / volume"
   ]
  },
  {
   "cell_type": "markdown",
   "id": "214d70b6-8a50-4f79-9c08-d864a8d62c12",
   "metadata": {},
   "source": [
    "# Symmetry analysis"
   ]
  },
  {
   "cell_type": "markdown",
   "id": "a4cf1a92-5de5-4b3a-a385-b05e7bbb97d9",
   "metadata": {},
   "source": [
    "## Space group"
   ]
  },
  {
   "cell_type": "markdown",
   "id": "51e1fccc-a7cb-4160-9f0c-8023f4cc91a1",
   "metadata": {},
   "source": [
    "Refer to [the documentation](https://pymatgen.org/pymatgen.symmetry.analyzer.html#pymatgen.symmetry.analyzer.SpacegroupAnalyzer) for more tools and information."
   ]
  },
  {
   "cell_type": "code",
   "execution_count": 13,
   "id": "11ab6a53-adb9-4f80-8922-ae93aa00eec0",
   "metadata": {
    "execution": {
     "iopub.execute_input": "2023-04-08T03:40:24.557299Z",
     "iopub.status.busy": "2023-04-08T03:40:24.555996Z",
     "iopub.status.idle": "2023-04-08T03:40:24.560733Z",
     "shell.execute_reply": "2023-04-08T03:40:24.560143Z",
     "shell.execute_reply.started": "2023-04-08T03:40:24.557273Z"
    },
    "tags": []
   },
   "outputs": [],
   "source": [
    "spg = SpacegroupAnalyzer(structure, symprec=0.01)"
   ]
  },
  {
   "cell_type": "code",
   "execution_count": 11,
   "id": "eb1b1739-3df1-4b09-9757-e5057f216cb4",
   "metadata": {
    "execution": {
     "iopub.execute_input": "2023-04-08T03:38:58.246886Z",
     "iopub.status.busy": "2023-04-08T03:38:58.245705Z",
     "iopub.status.idle": "2023-04-08T03:38:58.282665Z",
     "shell.execute_reply": "2023-04-08T03:38:58.282089Z",
     "shell.execute_reply.started": "2023-04-08T03:38:58.246861Z"
    },
    "tags": []
   },
   "outputs": [
    {
     "data": {
      "text/plain": [
       "Structure Summary\n",
       "Lattice\n",
       "    abc : 2.9308444709332493 2.9308444709332493 2.9308444709332493\n",
       " angles : 60.00000000000001 60.00000000000001 60.00000000000001\n",
       " volume : 17.80177551283297\n",
       "      A : -2.0724199999999997 -2.0724199999999997 0.0\n",
       "      B : -2.0724199999999997 0.0 -2.0724199999999997\n",
       "      C : 0.0 -2.0724199999999997 -2.0724199999999997\n",
       "    pbc : True True True\n",
       "PeriodicSite: Li:0.234, Ti:0.183, Nb:0.052, Ni:0.183 (-4.1448, -4.1448, -4.1448) [1.0000, 1.0000, 1.0000]\n",
       "PeriodicSite: O (-2.0724, -2.0724, -2.0724) [0.5000, 0.5000, 0.5000]"
      ]
     },
     "execution_count": 11,
     "metadata": {},
     "output_type": "execute_result"
    }
   ],
   "source": [
    "spg.find_primitive()"
   ]
  },
  {
   "cell_type": "code",
   "execution_count": 12,
   "id": "e7ce3f84-23eb-48ca-bd4c-93ee810a0c47",
   "metadata": {
    "execution": {
     "iopub.execute_input": "2023-04-08T03:39:33.517594Z",
     "iopub.status.busy": "2023-04-08T03:39:33.517244Z",
     "iopub.status.idle": "2023-04-08T03:39:33.521987Z",
     "shell.execute_reply": "2023-04-08T03:39:33.521553Z",
     "shell.execute_reply.started": "2023-04-08T03:39:33.517572Z"
    }
   },
   "outputs": [
    {
     "data": {
      "text/plain": [
       "'cubic'"
      ]
     },
     "execution_count": 12,
     "metadata": {},
     "output_type": "execute_result"
    }
   ],
   "source": [
    "spg.get_crystal_system()"
   ]
  },
  {
   "cell_type": "code",
   "execution_count": 15,
   "id": "d90bffbc-8913-4b0a-9452-5ff478b372a8",
   "metadata": {
    "execution": {
     "iopub.execute_input": "2023-04-08T03:42:56.340668Z",
     "iopub.status.busy": "2023-04-08T03:42:56.339720Z",
     "iopub.status.idle": "2023-04-08T03:42:56.345370Z",
     "shell.execute_reply": "2023-04-08T03:42:56.344785Z",
     "shell.execute_reply.started": "2023-04-08T03:42:56.340642Z"
    }
   },
   "outputs": [
    {
     "data": {
      "text/plain": [
       "'m-3m'"
      ]
     },
     "execution_count": 15,
     "metadata": {},
     "output_type": "execute_result"
    }
   ],
   "source": [
    "spg.get_point_group_symbol()"
   ]
  },
  {
   "cell_type": "code",
   "execution_count": 16,
   "id": "834cee91-9c3f-4cde-a8df-b938b4a78432",
   "metadata": {
    "execution": {
     "iopub.execute_input": "2023-04-08T03:43:13.629011Z",
     "iopub.status.busy": "2023-04-08T03:43:13.628631Z",
     "iopub.status.idle": "2023-04-08T03:43:13.634178Z",
     "shell.execute_reply": "2023-04-08T03:43:13.633577Z",
     "shell.execute_reply.started": "2023-04-08T03:43:13.628990Z"
    }
   },
   "outputs": [
    {
     "data": {
      "text/plain": [
       "225"
      ]
     },
     "execution_count": 16,
     "metadata": {},
     "output_type": "execute_result"
    }
   ],
   "source": [
    "spg.get_space_group_number()"
   ]
  }
 ],
 "metadata": {
  "kernelspec": {
   "display_name": "Python (pymatgen)",
   "language": "python",
   "name": "pymatgen"
  },
  "language_info": {
   "codemirror_mode": {
    "name": "ipython",
    "version": 3
   },
   "file_extension": ".py",
   "mimetype": "text/x-python",
   "name": "python",
   "nbconvert_exporter": "python",
   "pygments_lexer": "ipython3",
   "version": "3.10.10"
  },
  "widgets": {
   "application/vnd.jupyter.widget-state+json": {
    "state": {},
    "version_major": 2,
    "version_minor": 0
   }
  }
 },
 "nbformat": 4,
 "nbformat_minor": 5
}
