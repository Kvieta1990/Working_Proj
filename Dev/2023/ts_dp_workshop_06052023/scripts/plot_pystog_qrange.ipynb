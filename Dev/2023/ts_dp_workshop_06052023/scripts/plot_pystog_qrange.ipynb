{
 "cells": [
  {
   "cell_type": "code",
   "execution_count": null,
   "id": "07136adf-eccd-4316-8868-6b9625837656",
   "metadata": {},
   "outputs": [],
   "source": [
    "import numpy as np\n",
    "from pystog import Transformer\n",
    "from plotly.subplots import make_subplots\n",
    "import plotly.graph_objects as go\n",
    "\n",
    "mu, sigma = 0., 0.1\n",
    "qmax_index = int((qmax - 0.5) / 0.005) + 1\n",
    "\n",
    "transformer = Transformer()\n",
    "fig = make_subplots(rows=1, cols=2)\n",
    "q, sq = np.loadtxt(\"./demo_data/NOM_Si_640d_merged.sq\",unpack=True)\n",
    "\n",
    "for i, q_val in enumerate(q):\n",
    "    if q_val >= 15.:\n",
    "        s = np.random.normal(mu, sigma, 1)[0]\n",
    "        sq[i] += s\n",
    "\n",
    "fig.add_trace(\n",
    "    go.Scatter(x=q, y=sq, name=r\"$S(Q) - \\text{high noise level}$\"),\n",
    "    row=1, col=1\n",
    ")\n",
    "        \n",
    "r = np.linspace(0., 50., 5000)\n",
    "r, gr, _ = transformer.S_to_G(q, sq, r)\n",
    "\n",
    "fig.add_trace(\n",
    "    go.Scatter(x=r, y=gr, name=f\"Qmax = {round(40., 1)}\"),\n",
    "    row=1, col=2\n",
    ")\n",
    "\n",
    "r = np.linspace(0., 50., 5000)\n",
    "r, gr, _ = transformer.S_to_G(q[:qmax_index], sq[:qmax_index], r)\n",
    "\n",
    "fig.add_trace(\n",
    "    go.Scatter(x=r, y=gr, name=f\"Qmax = {round(qmax, 1)}\"),\n",
    "    row=1, col=2\n",
    ")\n",
    "\n",
    "fig.update_xaxes(title_text=\"$r\\ (Å)$\", row=1, col=2)\n",
    "fig.update_yaxes(title_text=r\"$G_{\\text{PDFFIT}}\\ (Å^{-2})$\", row=1, col=2)\n",
    "fig.update_xaxes(range=[0., 50.], row=1, col=2)\n",
    "fig.update_layout(height=600, width=1400, title_text=r\"$\\text{Fourier Transform} - \\text{Data of Si standard sample with different Qmax}$\")\n",
    "fig.update_layout(legend=dict(\n",
    "    orientation=\"h\",\n",
    "    yanchor=\"bottom\",\n",
    "    y=1.02,\n",
    "    xanchor=\"right\",\n",
    "    x=1\n",
    "))\n",
    "\n",
    "fig.show()"
   ]
  }
 ],
 "metadata": {
  "kernelspec": {
   "display_name": "Python (default)",
   "language": "python",
   "name": "python3"
  },
  "language_info": {
   "codemirror_mode": {
    "name": "ipython",
    "version": 3
   },
   "file_extension": ".py",
   "mimetype": "text/x-python",
   "name": "python",
   "nbconvert_exporter": "python",
   "pygments_lexer": "ipython3",
   "version": "3.7.13"
  },
  "widgets": {
   "application/vnd.jupyter.widget-state+json": {
    "state": {},
    "version_major": 2,
    "version_minor": 0
   }
  }
 },
 "nbformat": 4,
 "nbformat_minor": 5
}
