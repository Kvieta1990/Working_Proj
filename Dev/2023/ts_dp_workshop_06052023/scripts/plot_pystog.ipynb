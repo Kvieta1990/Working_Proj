{
 "cells": [
  {
   "cell_type": "code",
   "execution_count": null,
   "id": "c0f38bea-7915-4840-ad6d-03c9b60d7551",
   "metadata": {},
   "outputs": [],
   "source": [
    "import numpy as np\n",
    "from pystog import Transformer\n",
    "from plotly.subplots import make_subplots\n",
    "import plotly.graph_objects as go\n",
    "\n",
    "transformer = Transformer()\n",
    "q, sq = np.loadtxt(\"./demo_data/NOM_Si_640d_merged.sq\",unpack=True)\n",
    "r = np.linspace(0., 50., 5000)\n",
    "r, gr, _ = transformer.S_to_G(q, sq, r)\n",
    "\n",
    "fig = make_subplots(rows=1, cols=2)\n",
    "\n",
    "fig.add_trace(\n",
    "    go.Scatter(x=q, y=sq, name=\"S(Q)\"),\n",
    "    row=1, col=1\n",
    ")\n",
    "\n",
    "fig.add_trace(\n",
    "    go.Scatter(x=r, y=gr, name=r\"$G_{\\text{PDFFIT}}(r)$\"),\n",
    "    row=1, col=2\n",
    ")\n",
    "\n",
    "fig.update_xaxes(title_text=\"$Q\\ (Å^{-1})$\", row=1, col=1)\n",
    "fig.update_xaxes(title_text=\"$r\\ (Å)$\", row=1, col=2)\n",
    "fig.update_yaxes(title_text=r\"$\\text{Normalized }S(Q)$\", row=1, col=1)\n",
    "fig.update_yaxes(title_text=r\"$G_{\\text{PDFFIT}}\\ (Å^{-2})$\", row=1, col=2)\n",
    "fig.update_layout(height=600, width=1400, title_text=r\"$\\text{Fourier Transform} - \\text{Data of Si standard sample}$\")\n",
    "fig.update_layout(legend=dict(\n",
    "    orientation=\"h\",\n",
    "    yanchor=\"bottom\",\n",
    "    y=1.02,\n",
    "    xanchor=\"right\",\n",
    "    x=1\n",
    "))\n",
    "\n",
    "fig.show()"
   ]
  }
 ],
 "metadata": {
  "kernelspec": {
   "display_name": "Python (default)",
   "language": "python",
   "name": "python3"
  },
  "language_info": {
   "codemirror_mode": {
    "name": "ipython",
    "version": 3
   },
   "file_extension": ".py",
   "mimetype": "text/x-python",
   "name": "python",
   "nbconvert_exporter": "python",
   "pygments_lexer": "ipython3",
   "version": "3.7.13"
  },
  "widgets": {
   "application/vnd.jupyter.widget-state+json": {
    "state": {},
    "version_major": 2,
    "version_minor": 0
   }
  }
 },
 "nbformat": 4,
 "nbformat_minor": 5
}
