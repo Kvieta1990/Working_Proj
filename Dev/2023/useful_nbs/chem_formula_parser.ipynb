{
 "cells": [
  {
   "cell_type": "code",
   "execution_count": 69,
   "id": "3ccb9680-775a-4c53-af6a-cd8bc65673ff",
   "metadata": {
    "execution": {
     "iopub.execute_input": "2023-05-12T17:24:49.846761Z",
     "iopub.status.busy": "2023-05-12T17:24:49.846419Z",
     "iopub.status.idle": "2023-05-12T17:24:49.851026Z",
     "shell.execute_reply": "2023-05-12T17:24:49.850315Z",
     "shell.execute_reply.started": "2023-05-12T17:24:49.846739Z"
    },
    "tags": []
   },
   "outputs": [],
   "source": [
    "test = \"(Li7)2(Cs)2Te2He3 2 gramsHg is a garbage formula\""
   ]
  },
  {
   "cell_type": "code",
   "execution_count": 72,
   "id": "4304472d-e2ed-4114-be4c-226e8b6318aa",
   "metadata": {
    "execution": {
     "iopub.execute_input": "2023-05-12T17:28:23.688367Z",
     "iopub.status.busy": "2023-05-12T17:28:23.688035Z",
     "iopub.status.idle": "2023-05-12T17:28:23.695960Z",
     "shell.execute_reply": "2023-05-12T17:28:23.695268Z",
     "shell.execute_reply.started": "2023-05-12T17:28:23.688344Z"
    },
    "tags": []
   },
   "outputs": [],
   "source": [
    "def formula_parser(chem_form_in):\n",
    "    with open(ele_file, \"r\") as f:\n",
    "        ele_dict = json.load(f)\n",
    "    all_ele = ele_dict.keys()\n",
    "    chem_form_split = chem_form_in.strip().split()\n",
    "    chem_list = list()\n",
    "    for item in chem_form_split:\n",
    "        i = 0\n",
    "        valid_part = False\n",
    "        while i < len(item):\n",
    "            j = i\n",
    "            chem_part = item[j]\n",
    "            if chem_part == \"(\":\n",
    "                j += 1\n",
    "                chem_part += item[j]\n",
    "            while True:\n",
    "                j += 1\n",
    "                if j == len(item):\n",
    "                    break\n",
    "                else:\n",
    "                    if item[j].isupper() or item[j] == \"(\":\n",
    "                        break\n",
    "                    else:\n",
    "                        chem_part += item[j]\n",
    "            i = j\n",
    "            if \"(\" in chem_part:\n",
    "                chem_list.append(chem_part)\n",
    "                valid_part = True\n",
    "            else:\n",
    "                str_tmp = \"\"\n",
    "                for char in chem_part:\n",
    "                    if not char.isdigit():\n",
    "                        str_tmp += char\n",
    "                if str_tmp in all_ele:\n",
    "                    chem_list.append(chem_part)\n",
    "                    valid_part = True\n",
    "        if not valid_part:\n",
    "            break\n",
    "\n",
    "    return \" \".join(chem_list)"
   ]
  },
  {
   "cell_type": "code",
   "execution_count": 73,
   "id": "4172ad9e-a908-4962-9ca9-2b4816206dbf",
   "metadata": {
    "execution": {
     "iopub.execute_input": "2023-05-12T17:28:24.390292Z",
     "iopub.status.busy": "2023-05-12T17:28:24.390080Z",
     "iopub.status.idle": "2023-05-12T17:28:24.395827Z",
     "shell.execute_reply": "2023-05-12T17:28:24.395081Z",
     "shell.execute_reply.started": "2023-05-12T17:28:24.390275Z"
    },
    "tags": []
   },
   "outputs": [
    {
     "data": {
      "text/plain": [
       "'(Li7)2 (Cs)2 Te2 He3'"
      ]
     },
     "execution_count": 73,
     "metadata": {},
     "output_type": "execute_result"
    }
   ],
   "source": [
    "ele_file = \"./elements.json\"\n",
    "chem_list = formula_parser(test)\n",
    "chem_list"
   ]
  },
  {
   "cell_type": "code",
   "execution_count": null,
   "id": "4837d3ca-4cca-4381-91d9-be70e2156125",
   "metadata": {},
   "outputs": [],
   "source": []
  }
 ],
 "metadata": {
  "kernelspec": {
   "display_name": "Python (default)",
   "language": "python",
   "name": "python3"
  },
  "language_info": {
   "codemirror_mode": {
    "name": "ipython",
    "version": 3
   },
   "file_extension": ".py",
   "mimetype": "text/x-python",
   "name": "python",
   "nbconvert_exporter": "python",
   "pygments_lexer": "ipython3",
   "version": "3.7.13"
  },
  "widgets": {
   "application/vnd.jupyter.widget-state+json": {
    "state": {},
    "version_major": 2,
    "version_minor": 0
   }
  }
 },
 "nbformat": 4,
 "nbformat_minor": 5
}
