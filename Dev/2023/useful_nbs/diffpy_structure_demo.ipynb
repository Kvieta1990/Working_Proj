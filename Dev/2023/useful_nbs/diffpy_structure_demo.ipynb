{
 "cells": [
  {
   "cell_type": "code",
   "execution_count": 35,
   "id": "4ba76aa5-39a1-4497-888d-b5a1aeb06d33",
   "metadata": {
    "execution": {
     "iopub.execute_input": "2023-05-10T21:08:44.220680Z",
     "iopub.status.busy": "2023-05-10T21:08:44.219784Z",
     "iopub.status.idle": "2023-05-10T21:08:44.224391Z",
     "shell.execute_reply": "2023-05-10T21:08:44.223804Z",
     "shell.execute_reply.started": "2023-05-10T21:08:44.220655Z"
    },
    "tags": []
   },
   "outputs": [],
   "source": [
    "import diffpy.structure.symmetryutilities as diffs\n",
    "from diffpy.structure.spacegroups import GetSpaceGroup\n",
    "from diffpy.structure.symmetryutilities import ExpandAsymmetricUnit"
   ]
  },
  {
   "cell_type": "code",
   "execution_count": 36,
   "id": "2dd9d2a1-86b0-456a-9f0a-d5d7b0170355",
   "metadata": {
    "execution": {
     "iopub.execute_input": "2023-05-10T21:08:44.561279Z",
     "iopub.status.busy": "2023-05-10T21:08:44.561112Z",
     "iopub.status.idle": "2023-05-10T21:08:44.588235Z",
     "shell.execute_reply": "2023-05-10T21:08:44.587477Z",
     "shell.execute_reply.started": "2023-05-10T21:08:44.561264Z"
    },
    "tags": []
   },
   "outputs": [],
   "source": [
    "spg_name = GetSpaceGroup(\"Fd-3m\")\n",
    "symcon = diffs.SymmetryConstraints(spg_name, [[0., 0., 0.], [0.1, 0.1, 0.1]])"
   ]
  },
  {
   "cell_type": "code",
   "execution_count": 37,
   "id": "b8cdbaa5-71ec-42ca-8df9-c122309b7204",
   "metadata": {
    "execution": {
     "iopub.execute_input": "2023-05-10T21:08:45.009503Z",
     "iopub.status.busy": "2023-05-10T21:08:45.009173Z",
     "iopub.status.idle": "2023-05-10T21:08:45.014605Z",
     "shell.execute_reply": "2023-05-10T21:08:45.013076Z",
     "shell.execute_reply.started": "2023-05-10T21:08:45.009486Z"
    },
    "tags": []
   },
   "outputs": [
    {
     "name": "stdout",
     "output_type": "stream",
     "text": [
      "asymmetric unit and the equivalent positions: {0: [0], 1: [1]}\n",
      "position parameters: [('x1', 0.09999999999999998)]\n",
      "position constraints on the 1-st site: {'x': '+0', 'y': '+0', 'z': '+0'}\n",
      "ADP parameters: [('U110', 0.0), ('U121', 0.0), ('U111', 0.0)]\n",
      "ADP constraints on the 1-st site: {'U11': 'U110', 'U22': 'U110', 'U33': 'U110', 'U12': '0', 'U13': '0', 'U23': '0'}\n"
     ]
    }
   ],
   "source": [
    "print('asymmetric unit and the equivalent positions:', symcon.coremap)\n",
    "print('position parameters:', symcon.pospars)\n",
    "print('position constraints on the 1-st site:', symcon.poseqns[0])\n",
    "print('ADP parameters:', symcon.Upars)\n",
    "print('ADP constraints on the 1-st site:', symcon.Ueqns[0])"
   ]
  },
  {
   "cell_type": "code",
   "execution_count": 39,
   "id": "96c507d0-7962-4744-bfa0-273ab05cdd6c",
   "metadata": {
    "execution": {
     "iopub.execute_input": "2023-05-11T04:17:11.811431Z",
     "iopub.status.busy": "2023-05-11T04:17:11.811082Z",
     "iopub.status.idle": "2023-05-11T04:17:11.845827Z",
     "shell.execute_reply": "2023-05-11T04:17:11.844896Z",
     "shell.execute_reply.started": "2023-05-11T04:17:11.811408Z"
    },
    "tags": []
   },
   "outputs": [],
   "source": [
    "from diffpy.structure import loadStructure\n",
    "si = loadStructure('AMS_DATA.cif')"
   ]
  },
  {
   "cell_type": "code",
   "execution_count": 44,
   "id": "f2c34dfc-99de-4ab9-b854-9dd9ca413ba0",
   "metadata": {
    "execution": {
     "iopub.execute_input": "2023-05-11T04:21:19.835267Z",
     "iopub.status.busy": "2023-05-11T04:21:19.834350Z",
     "iopub.status.idle": "2023-05-11T04:21:19.840885Z",
     "shell.execute_reply": "2023-05-11T04:21:19.840085Z",
     "shell.execute_reply.started": "2023-05-11T04:21:19.835240Z"
    },
    "tags": []
   },
   "outputs": [],
   "source": [
    "import diffpy.srfit.structure.sgconstraints as sgc\n",
    "from diffpy.structure import Structure\n",
    "from diffpy.srfit.pdf import PDFGenerator"
   ]
  },
  {
   "cell_type": "code",
   "execution_count": 52,
   "id": "bc5b2513-2733-4c9c-9794-6fa21048d188",
   "metadata": {
    "execution": {
     "iopub.execute_input": "2023-05-11T04:24:34.323524Z",
     "iopub.status.busy": "2023-05-11T04:24:34.323280Z",
     "iopub.status.idle": "2023-05-11T04:24:34.379151Z",
     "shell.execute_reply": "2023-05-11T04:24:34.378518Z",
     "shell.execute_reply.started": "2023-05-11T04:24:34.323507Z"
    },
    "tags": []
   },
   "outputs": [],
   "source": [
    "generator = PDFGenerator(\"G\")\n",
    "stru = Structure()\n",
    "stru.read(\"AMS_DATA.cif\")\n",
    "generator.setStructure(stru)\n",
    "phase = generator.phase"
   ]
  },
  {
   "cell_type": "code",
   "execution_count": 53,
   "id": "142da78b-4401-45ff-ab4a-3949d7eb6101",
   "metadata": {
    "execution": {
     "iopub.execute_input": "2023-05-11T04:24:34.816536Z",
     "iopub.status.busy": "2023-05-11T04:24:34.816370Z",
     "iopub.status.idle": "2023-05-11T04:24:34.819621Z",
     "shell.execute_reply": "2023-05-11T04:24:34.819062Z",
     "shell.execute_reply.started": "2023-05-11T04:24:34.816521Z"
    },
    "tags": []
   },
   "outputs": [],
   "source": [
    "sgpars = sgc.constrainAsSpaceGroup(phase, \"Fd-3m\")"
   ]
  },
  {
   "cell_type": "code",
   "execution_count": 54,
   "id": "20b5a18c-4efc-479b-8479-290b1b33007a",
   "metadata": {
    "execution": {
     "iopub.execute_input": "2023-05-11T04:24:35.419047Z",
     "iopub.status.busy": "2023-05-11T04:24:35.418855Z",
     "iopub.status.idle": "2023-05-11T04:24:35.423336Z",
     "shell.execute_reply": "2023-05-11T04:24:35.422769Z",
     "shell.execute_reply.started": "2023-05-11T04:24:35.419032Z"
    },
    "tags": []
   },
   "outputs": [
    {
     "data": {
      "text/plain": [
       "<diffpy.srfit.structure.sgconstraints.SpaceGroupParameters at 0x7f64c81a1a90>"
      ]
     },
     "execution_count": 54,
     "metadata": {},
     "output_type": "execute_result"
    }
   ],
   "source": [
    "sgpars"
   ]
  },
  {
   "cell_type": "code",
   "execution_count": 61,
   "id": "5c66cfbb-8449-4717-a672-95b87c0542aa",
   "metadata": {
    "execution": {
     "iopub.execute_input": "2023-05-11T04:27:51.016697Z",
     "iopub.status.busy": "2023-05-11T04:27:51.016361Z",
     "iopub.status.idle": "2023-05-11T04:27:51.021669Z",
     "shell.execute_reply": "2023-05-11T04:27:51.021005Z",
     "shell.execute_reply.started": "2023-05-11T04:27:51.016676Z"
    },
    "tags": []
   },
   "outputs": [
    {
     "name": "stdout",
     "output_type": "stream",
     "text": [
      "a <class 'str'> 5.4307 <class 'float'>\n"
     ]
    }
   ],
   "source": [
    "for par in sgpars.latpars:\n",
    "    print(par.name, type(par.name), par.value, type(par.value))"
   ]
  },
  {
   "cell_type": "markdown",
   "id": "ab2a4fdd-60fd-42a9-a2af-9f849c7f1ca4",
   "metadata": {},
   "source": [
    "# Useful links\n",
    "\n",
    "[https://www.diffpy.org/diffpy.srfit/examples/crystalpdf.html](https://www.diffpy.org/diffpy.srfit/examples/crystalpdf.html)\n",
    "\n",
    "[http://www.diffpy.org/diffpy.srfit/api/diffpy.srfit.fitbase.html#diffpy.srfit.fitbase.parameter.ParameterProxy](http://www.diffpy.org/diffpy.srfit/api/diffpy.srfit.fitbase.html#diffpy.srfit.fitbase.parameter.ParameterProxy)\n",
    "\n",
    "[http://www.diffpy.org/diffpy.srfit/api/diffpy.srfit.structure.html#module-diffpy.srfit.structure.sgconstraints](http://www.diffpy.org/diffpy.srfit/api/diffpy.srfit.structure.html#module-diffpy.srfit.structure.sgconstraints)"
   ]
  },
  {
   "cell_type": "code",
   "execution_count": null,
   "id": "5543a034-8562-46ea-95da-b9de2687557b",
   "metadata": {},
   "outputs": [],
   "source": []
  }
 ],
 "metadata": {
  "kernelspec": {
   "display_name": "Python (diffpy)",
   "language": "python",
   "name": "diffpy"
  },
  "language_info": {
   "codemirror_mode": {
    "name": "ipython",
    "version": 3
   },
   "file_extension": ".py",
   "mimetype": "text/x-python",
   "name": "python",
   "nbconvert_exporter": "python",
   "pygments_lexer": "ipython3",
   "version": "3.7.15"
  },
  "widgets": {
   "application/vnd.jupyter.widget-state+json": {
    "state": {},
    "version_major": 2,
    "version_minor": 0
   }
  }
 },
 "nbformat": 4,
 "nbformat_minor": 5
}
