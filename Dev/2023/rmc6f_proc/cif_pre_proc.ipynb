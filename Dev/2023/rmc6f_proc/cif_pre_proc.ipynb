{
 "cells": [
  {
   "cell_type": "code",
   "execution_count": 362,
   "id": "6c77fbc6-e7e6-49b7-853e-371a0ad63724",
   "metadata": {
    "execution": {
     "iopub.execute_input": "2023-12-12T19:54:41.923099Z",
     "iopub.status.busy": "2023-12-12T19:54:41.922278Z",
     "iopub.status.idle": "2023-12-12T19:54:41.927767Z",
     "shell.execute_reply": "2023-12-12T19:54:41.927123Z",
     "shell.execute_reply.started": "2023-12-12T19:54:41.923073Z"
    },
    "tags": []
   },
   "outputs": [],
   "source": [
    "import json\n",
    "import re\n",
    "import subprocess\n",
    "import os\n",
    "\n",
    "data2config = \"/Applications/RMCProfile_package_V6.7.9/exe/data2config\"\n",
    "input_file = \"test_vesta.cif\"\n",
    "super_dim = \"5 5 5\"\n",
    "out_file = \"test_vesta_out.rmc6f\"\n",
    "out_info_file = out_file.split(\".\")[0] + \".info\"\n",
    "sep_atoms = False"
   ]
  },
  {
   "cell_type": "code",
   "execution_count": 363,
   "id": "b44d634b-5e0a-40fd-b823-3b3bf8b7e34b",
   "metadata": {
    "execution": {
     "iopub.execute_input": "2023-12-12T19:54:41.929704Z",
     "iopub.status.busy": "2023-12-12T19:54:41.929342Z",
     "iopub.status.idle": "2023-12-12T19:54:41.943547Z",
     "shell.execute_reply": "2023-12-12T19:54:41.942944Z",
     "shell.execute_reply.started": "2023-12-12T19:54:41.929687Z"
    }
   },
   "outputs": [],
   "source": [
    "def contains_number(s):\n",
    "    \"\"\"Check string contains number\n",
    "    \"\"\"\n",
    "    return any(char.isdigit() for char in s)\n",
    "\n",
    "\n",
    "def remove_between_brackets(s):\n",
    "    \"\"\"Remove all characters between brackets\"\n",
    "    \"\"\"\n",
    "    return re.sub(r'\\([^)]*\\)', '', s)\n",
    "\n",
    "\n",
    "def sort_two_lists(list1, list2):\n",
    "    \"\"\"Sort two lists simultaneously\n",
    "    \"\"\"\n",
    "    combined_lists = list(zip(list1, list2))\n",
    "    combined_lists.sort(key=lambda x: x[0])\n",
    "    sorted_list1, sorted_list2 = zip(*combined_lists)\n",
    "\n",
    "    return sorted_list1, sorted_list2\n",
    "\n",
    "\n",
    "def finalize_rmc6f(file_in, site_dict, alt_name, sep_atoms_in, out_name):\n",
    "    \"\"\"Finalizing the RMC6F configuration by replacing those temporary\n",
    "    elements to the true elements.\n",
    "    \"\"\"\n",
    "    with open(file_in, \"r\") as f:\n",
    "        i = 0\n",
    "        while True:\n",
    "            line = f.readline()\n",
    "            if line[:6] == \"Atoms:\":\n",
    "                atom_line_start = i + 1\n",
    "                break\n",
    "            else:\n",
    "                i += 1\n",
    "            if \"Atom types present:\" in line:\n",
    "                atom_types_line = i\n",
    "            if \"Number of types of atoms:\" in line:\n",
    "                num_atoms_line = i\n",
    "    if sep_atoms_in:\n",
    "        atom_types_str = \"Atom types present:         \"\n",
    "        for key, item in site_dict.items():\n",
    "            for _, item_e in item.items():\n",
    "                true_name = alt_name[item_e[1]]\n",
    "                atom_types_str += f\" {true_name}\"\n",
    "                sed_cli = [\"sed\"]\n",
    "                sed_cli.append(\"-i\")\n",
    "                sed_cli.append(\"-e\")\n",
    "                sed_cli.append(f'{atom_types_line}c{atom_types_str}\\n')\n",
    "                sed_cli.append(file_in)\n",
    "                _ = subprocess.check_call(sed_cli)\n",
    "                sed_cli = [\"sed\"]\n",
    "                sed_cli.append(\"-i\")\n",
    "                sed_cli.append(\"-e\")\n",
    "                sed_cli.append(f'{atom_line_start},$s/{item_e[1]}/{true_name}/')\n",
    "                sed_cli.append(file_in)\n",
    "                _ = subprocess.check_call(sed_cli)\n",
    "        os.rename(file_in, out_name)\n",
    "    else:\n",
    "        viz_ele = list()\n",
    "        true_ele = list()\n",
    "        for key, item in alt_name.items():\n",
    "            viz_ele.append(key)\n",
    "            true_ele.append(item)\n",
    "\n",
    "        true_ele_sorted, viz_ele_sorted = sort_two_lists(\n",
    "            true_ele, viz_ele\n",
    "        )\n",
    "        \n",
    "        viz_ele_sorted_final = list()\n",
    "        for i, item in enumerate(true_ele_sorted):\n",
    "            if item in unique_label_used:\n",
    "                viz_ele_sorted_final.append(item)\n",
    "            else:\n",
    "                viz_ele_sorted_final.append(viz_ele_sorted[i])\n",
    "        \n",
    "        data2config_cli = [data2config]\n",
    "        data2config_cli.append(\"-noannotate\")\n",
    "        data2config_cli.append(\"-order\")\n",
    "        atoms_all = \" \".join(viz_ele_sorted_final)\n",
    "        data2config_cli.append(f\"[{atoms_all}]\")\n",
    "        data2config_cli.append(\"-supercell\")\n",
    "        data2config_cli.append(\"[1 1 1]\")\n",
    "        data2config_cli.append(\"-rmc6f\")\n",
    "        data2config_cli.append(file_in)\n",
    "        _ = subprocess.check_call(data2config_cli)\n",
    "        \n",
    "        file_to_proc = file_in.split(\".\")[0] + \"_new.rmc6f\"\n",
    "        atom_types_str = \"Atom types present:         \"\n",
    "        included = list()\n",
    "        for item in true_ele_sorted:\n",
    "            if item not in included:\n",
    "                included.append(item)\n",
    "                atom_types_str += f\" {item}\"\n",
    "        sed_cli = [\"sed\"]\n",
    "        sed_cli.append(\"-i\")\n",
    "        sed_cli.append(\"-e\")\n",
    "        sed_cli.append(f'{atom_types_line}c{atom_types_str}\\n')\n",
    "        sed_cli.append(file_to_proc)\n",
    "        _ = subprocess.check_call(sed_cli)\n",
    "        num_atoms_str = f\"Number of types of atoms:   {len(included)}\"\n",
    "        sed_cli = [\"sed\"]\n",
    "        sed_cli.append(\"-i\")\n",
    "        sed_cli.append(\"-e\")\n",
    "        sed_cli.append(f'{num_atoms_line}c{num_atoms_str}\\n')\n",
    "        sed_cli.append(file_to_proc)\n",
    "        _ = subprocess.check_call(sed_cli)\n",
    "        for key, item in site_dict.items():\n",
    "            for _, item_e in item.items():\n",
    "                true_name = alt_name[item_e[1]]\n",
    "                sed_cli = [\"sed\"]\n",
    "                sed_cli.append(\"-i\")\n",
    "                sed_cli.append(\"-e\")\n",
    "                sed_cli.append(f'{atom_line_start},$s/{item_e[1]}/{true_name}/')\n",
    "                sed_cli.append(file_to_proc)\n",
    "                _ = subprocess.check_call(sed_cli)\n",
    "        os.rename(file_to_proc, out_name)"
   ]
  },
  {
   "cell_type": "code",
   "execution_count": 364,
   "id": "b7bcff0b-a9d4-4635-81d9-0406dfebbf39",
   "metadata": {
    "execution": {
     "iopub.execute_input": "2023-12-12T19:54:41.944371Z",
     "iopub.status.busy": "2023-12-12T19:54:41.944201Z",
     "iopub.status.idle": "2023-12-12T19:54:41.952347Z",
     "shell.execute_reply": "2023-12-12T19:54:41.951700Z",
     "shell.execute_reply.started": "2023-12-12T19:54:41.944356Z"
    },
    "tags": []
   },
   "outputs": [],
   "source": [
    "with open(input_file, \"r\") as f:\n",
    "    lines = f.readlines()\n",
    "\n",
    "with open(\"elements.json\", \"r\") as f:\n",
    "    all_ele = json.load(f)\n",
    "ele_names = list()\n",
    "for ele in all_ele:\n",
    "    if not contains_number(ele):\n",
    "        ele_names.append(ele)\n",
    "\n",
    "atom_loop_labels = list()\n",
    "atom_lines = list()\n",
    "for i, line in enumerate(lines):\n",
    "    if \"loop_\" in line:\n",
    "        atom_block = False\n",
    "        j = i + 1\n",
    "        while j < len(lines) and \"loop_\" not in lines[j]:\n",
    "            if \"_atom\" in lines[j]:\n",
    "                atom_block = True\n",
    "                atom_loop_labels.append(lines[j].strip().split(\"_atom_site_\")[1])\n",
    "            else:\n",
    "                if atom_block:\n",
    "                    line_tmp = lines[j].strip()\n",
    "                    line_tmp = remove_between_brackets(line_tmp)\n",
    "                    atom_lines.append(line_tmp)\n",
    "            j += 1\n",
    "\n",
    "        if atom_block:\n",
    "            start_line = i\n",
    "            stop_line = j - 1\n",
    "\n",
    "atom_lines = [line_tmp for line_tmp in atom_lines if len(line_tmp) > 0]"
   ]
  },
  {
   "cell_type": "code",
   "execution_count": 365,
   "id": "f9acdbf3-612c-46c9-8634-039ee0849c1f",
   "metadata": {
    "execution": {
     "iopub.execute_input": "2023-12-12T19:54:41.953458Z",
     "iopub.status.busy": "2023-12-12T19:54:41.953292Z",
     "iopub.status.idle": "2023-12-12T19:54:41.956504Z",
     "shell.execute_reply": "2023-12-12T19:54:41.955880Z",
     "shell.execute_reply.started": "2023-12-12T19:54:41.953442Z"
    },
    "tags": []
   },
   "outputs": [],
   "source": [
    "occ_index = atom_loop_labels.index(\"occupancy\")\n",
    "fracx_index = atom_loop_labels.index(\"fract_x\")\n",
    "fracy_index = atom_loop_labels.index(\"fract_y\")\n",
    "fracz_index = atom_loop_labels.index(\"fract_z\")\n",
    "symbol_index = atom_loop_labels.index(\"type_symbol\")"
   ]
  },
  {
   "cell_type": "code",
   "execution_count": 366,
   "id": "9fd88e2a-1a47-4155-9086-0ef181edce6e",
   "metadata": {
    "execution": {
     "iopub.execute_input": "2023-12-12T19:54:41.958629Z",
     "iopub.status.busy": "2023-12-12T19:54:41.958235Z",
     "iopub.status.idle": "2023-12-12T19:54:41.966422Z",
     "shell.execute_reply": "2023-12-12T19:54:41.965823Z",
     "shell.execute_reply.started": "2023-12-12T19:54:41.958611Z"
    },
    "tags": []
   },
   "outputs": [],
   "source": [
    "keep_atom_lines = list()\n",
    "unique_label_all = list()\n",
    "unique_label_used = list()\n",
    "site_dict = dict()\n",
    "label_reverse_map = dict()\n",
    "\n",
    "for atom_line in atom_lines:\n",
    "    site_key = atom_line.split()[fracx_index]\n",
    "    site_key += (\"_\" + atom_line.split()[fracy_index])\n",
    "    site_key += (\"_\" + atom_line.split()[fracz_index])\n",
    "\n",
    "    for ele in ele_names:\n",
    "        if ele not in unique_label_all:\n",
    "            bad_ele = False\n",
    "            for item in unique_label_all:\n",
    "                if item[0] == ele[0]:\n",
    "                    bad_ele = True\n",
    "                    break\n",
    "            if not bad_ele:\n",
    "                unique_label_all.append(ele)\n",
    "                break\n",
    "\n",
    "    label_reverse_map[ele] = atom_line.split()[symbol_index]\n",
    "\n",
    "    if site_key not in site_dict:\n",
    "        keep_atom_lines.append(atom_line)\n",
    "        val_tmp = atom_line.split()[occ_index]\n",
    "        site_dict[site_key] = {\n",
    "            atom_line.split()[symbol_index]: [float(val_tmp), ele]\n",
    "        }\n",
    "        unique_label_used.append(atom_line.split()[symbol_index])\n",
    "        unique_label_all.append(atom_line.split()[symbol_index])\n",
    "    else:\n",
    "        key_tmp = atom_line.split()[symbol_index]\n",
    "        val_tmp = atom_line.split()[occ_index]\n",
    "        site_dict[site_key][key_tmp] = [float(val_tmp), ele]\n",
    "\n",
    "for key, item in site_dict.items():\n",
    "    occ_val = 0.\n",
    "    for key_i in item:\n",
    "        occ_val += item[key_i][0]\n",
    "    if abs(1. - occ_val) > 1.E-5:\n",
    "        for ele in ele_names:\n",
    "            if ele not in unique_label_all:\n",
    "                bad_ele = False\n",
    "                for item in unique_label_all:\n",
    "                    if item[0] == ele[0]:\n",
    "                        bad_ele = True\n",
    "                        break\n",
    "                if not bad_ele:\n",
    "                    unique_label_all.append(ele)\n",
    "                    break\n",
    "        site_dict[key][\"Va\"] = [1. - occ_val, ele]\n",
    "        label_reverse_map[ele] = \"Va\""
   ]
  },
  {
   "cell_type": "code",
   "execution_count": 367,
   "id": "f43406d4-0522-4bf3-8ce7-fb87dd82641e",
   "metadata": {
    "execution": {
     "iopub.execute_input": "2023-12-12T19:54:41.967227Z",
     "iopub.status.busy": "2023-12-12T19:54:41.967077Z",
     "iopub.status.idle": "2023-12-12T19:54:41.971817Z",
     "shell.execute_reply": "2023-12-12T19:54:41.971200Z",
     "shell.execute_reply.started": "2023-12-12T19:54:41.967212Z"
    },
    "tags": []
   },
   "outputs": [],
   "source": [
    "if sep_atoms:\n",
    "    i = 1\n",
    "    existing_num = 0\n",
    "    site_corr = dict()\n",
    "    for site in site_dict:\n",
    "        key_tmp = f\"Site-{i}\"\n",
    "        coord = [float(item) for item in site.split(\"_\")] \n",
    "        index_in_rmc6f = [\n",
    "            existing_num + j + 1 for j in range(len(site_dict[site]))\n",
    "        ]\n",
    "        existing_num += len(site_dict[site])\n",
    "        site_corr[key_tmp] = {\n",
    "            \"FracCoordinate\": coord,\n",
    "            \"IndexInRMC6F\": index_in_rmc6f\n",
    "        }\n",
    "        i += 1\n",
    "\n",
    "    with open(out_info_file, \"w\") as f:\n",
    "        json.dump(site_corr, f, indent=4)"
   ]
  },
  {
   "cell_type": "code",
   "execution_count": 368,
   "id": "3c3c3b1f-ad3d-458a-9a7e-e4ca0b5f737c",
   "metadata": {
    "execution": {
     "iopub.execute_input": "2023-12-12T19:54:41.972690Z",
     "iopub.status.busy": "2023-12-12T19:54:41.972542Z",
     "iopub.status.idle": "2023-12-12T19:54:41.978958Z",
     "shell.execute_reply": "2023-12-12T19:54:41.978339Z",
     "shell.execute_reply.started": "2023-12-12T19:54:41.972675Z"
    },
    "tags": []
   },
   "outputs": [],
   "source": [
    "lines_tmp = list()\n",
    "for i, line in enumerate(lines):\n",
    "    if i < start_line or i > stop_line:\n",
    "        lines_tmp.append(line)\n",
    "\n",
    "atoms_loop = \"loop_\\n\"\n",
    "atoms_loop += \"_atom_site_label\\n\"\n",
    "atoms_loop += \"_atom_site_occupancy\\n\"\n",
    "atoms_loop += \"_atom_site_fract_x\\n\"\n",
    "atoms_loop += \"_atom_site_fract_y\\n\"\n",
    "atoms_loop += \"_atom_site_fract_z\\n\"\n",
    "atoms_loop += \"_atom_site_type_symbol\\n\"\n",
    "lines_tmp.append(atoms_loop)\n",
    "\n",
    "i = 0\n",
    "for key in site_dict:\n",
    "    line_tmp = \"   \" + unique_label_used[i]\n",
    "    line_tmp += \" 1.0\"\n",
    "    line_tmp += (\" \" + key.split(\"_\")[0])\n",
    "    line_tmp += (\" \" + key.split(\"_\")[1])\n",
    "    line_tmp += (\" \" + key.split(\"_\")[2])\n",
    "    line_tmp += (\" \" + unique_label_used[i])\n",
    "    line_tmp += \"\\n\"\n",
    "    lines_tmp.append(line_tmp)\n",
    "    i += 1\n",
    "\n",
    "out_cif_file_tmp = input_file.split(\".\")[0] + \"_tmp.cif\"\n",
    "out_rmc6f_file_tmp = input_file.split(\".\")[0] + \"_tmp.rmc6f\"\n",
    "with open(out_cif_file_tmp, \"w\") as f:\n",
    "    for line in lines_tmp:\n",
    "        f.write(line)"
   ]
  },
  {
   "cell_type": "code",
   "execution_count": 369,
   "id": "70018d61-a9b9-48f6-a79d-d88b0b58bfe2",
   "metadata": {
    "execution": {
     "iopub.execute_input": "2023-12-12T19:54:41.980058Z",
     "iopub.status.busy": "2023-12-12T19:54:41.979894Z",
     "iopub.status.idle": "2023-12-12T19:54:42.086052Z",
     "shell.execute_reply": "2023-12-12T19:54:42.085244Z",
     "shell.execute_reply.started": "2023-12-12T19:54:41.980044Z"
    },
    "tags": []
   },
   "outputs": [
    {
     "name": "stdout",
     "output_type": "stream",
     "text": [
      " Job done by data2config. Enjoy your RMC journey!\n"
     ]
    }
   ],
   "source": [
    "data2config_cli = [data2config]\n",
    "data2config_cli.append(\"-noannotate\")\n",
    "data2config_cli.append(\"-order\")\n",
    "atoms_all = \" \".join(unique_label_used)\n",
    "data2config_cli.append(f\"[{atoms_all}]\")\n",
    "data2config_cli.append(\"-supercell\")\n",
    "data2config_cli.append(f\"[{super_dim}]\")\n",
    "data2config_cli.append(\"-rmc6f\")\n",
    "data2config_cli.append(out_cif_file_tmp)\n",
    "_ = subprocess.check_call(data2config_cli)"
   ]
  },
  {
   "cell_type": "code",
   "execution_count": 370,
   "id": "1c7500a1-87de-46de-a7da-9b7b9cc180f4",
   "metadata": {
    "execution": {
     "iopub.execute_input": "2023-12-12T19:54:42.087200Z",
     "iopub.status.busy": "2023-12-12T19:54:42.087020Z",
     "iopub.status.idle": "2023-12-12T19:54:42.509538Z",
     "shell.execute_reply": "2023-12-12T19:54:42.508694Z",
     "shell.execute_reply.started": "2023-12-12T19:54:42.087183Z"
    },
    "tags": []
   },
   "outputs": [
    {
     "name": "stdout",
     "output_type": "stream",
     "text": [
      " Job done by data2config. Enjoy your RMC journey!\n",
      " Job done by data2config. Enjoy your RMC journey!\n",
      " Job done by data2config. Enjoy your RMC journey!\n"
     ]
    }
   ],
   "source": [
    "unique_label_used_final = [item for item in unique_label_used]\n",
    "start_pos = 0\n",
    "i = 0\n",
    "run_times = 0\n",
    "for key, entry in site_dict.items():\n",
    "    pos = start_pos + i\n",
    "    for item in entry:\n",
    "        start_pos += 1\n",
    "        if item != unique_label_used[i]:\n",
    "            pos += 1\n",
    "            unique_label_used_final.insert(pos, entry[item][1])\n",
    "            data2config_cli = [data2config]\n",
    "            data2config_cli.append(\"-noannotate\")\n",
    "            data2config_cli.append(\"-order\")\n",
    "            atoms_all = \" \".join(unique_label_used_final)\n",
    "            data2config_cli.append(f\"[{atoms_all}]\")\n",
    "            data2config_cli.append(\"-replace\")\n",
    "            data2config_cli.append(f\"[{unique_label_used[i]} {entry[item][0]} {entry[item][1]}]\")\n",
    "            data2config_cli.append(\"-supercell\")\n",
    "            data2config_cli.append(\"[1 1 1]\")\n",
    "            data2config_cli.append(\"-rmc6f\")\n",
    "            out_name_append = \"_new\" * run_times\n",
    "            data2config_cli.append(f\"{out_cif_file}{out_name_append}.rmc6f\")\n",
    "            _ = subprocess.check_call(data2config_cli)\n",
    "            run_times += 1\n",
    "    i += 1\n",
    "\n",
    "out_name_append = \"_new\" * run_times\n",
    "out_file_stage = f\"{out_cif_file}{out_name_append}.rmc6f\""
   ]
  },
  {
   "cell_type": "code",
   "execution_count": 371,
   "id": "e3ad2e7c-7c96-4bec-b31f-e0958c0ac87e",
   "metadata": {
    "execution": {
     "iopub.execute_input": "2023-12-12T19:54:42.510691Z",
     "iopub.status.busy": "2023-12-12T19:54:42.510521Z",
     "iopub.status.idle": "2023-12-12T19:54:42.707525Z",
     "shell.execute_reply": "2023-12-12T19:54:42.706640Z",
     "shell.execute_reply.started": "2023-12-12T19:54:42.510673Z"
    },
    "tags": []
   },
   "outputs": [
    {
     "name": "stdout",
     "output_type": "stream",
     "text": [
      " Job done by data2config. Enjoy your RMC journey!\n"
     ]
    }
   ],
   "source": [
    "finalize_rmc6f(\n",
    "    out_file_stage,\n",
    "    site_dict,\n",
    "    label_reverse_map,\n",
    "    sep_atoms,\n",
    "    out_file\n",
    ")"
   ]
  }
 ],
 "metadata": {
  "kernelspec": {
   "display_name": "Python (default)",
   "language": "python",
   "name": "python3"
  },
  "language_info": {
   "codemirror_mode": {
    "name": "ipython",
    "version": 3
   },
   "file_extension": ".py",
   "mimetype": "text/x-python",
   "name": "python",
   "nbconvert_exporter": "python",
   "pygments_lexer": "ipython3",
   "version": "3.7.13"
  },
  "widgets": {
   "application/vnd.jupyter.widget-state+json": {
    "state": {},
    "version_major": 2,
    "version_minor": 0
   }
  }
 },
 "nbformat": 4,
 "nbformat_minor": 5
}
