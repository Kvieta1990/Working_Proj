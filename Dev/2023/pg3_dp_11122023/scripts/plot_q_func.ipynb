{
 "cells": [
  {
   "cell_type": "code",
   "execution_count": null,
   "id": "bd35213b-5ae1-4055-8914-4dcac24c224a",
   "metadata": {},
   "outputs": [],
   "source": [
    "from pystog import Converter\n",
    "\n",
    "converter = Converter()\n",
    "q_space_func = [\"S(Q)\", \"F(Q)\", \"FK(Q)\"]\n",
    "\n",
    "fig = go.Figure()\n",
    "\n",
    "q, sq = np.loadtxt(\"./demo_data/NOM_Si_640d_merged.sq\",unpack=True)\n",
    "for func in q_space_func:\n",
    "    if func == \"S(Q)\":\n",
    "        fig.add_trace(\n",
    "            go.Scatter(\n",
    "                x=q,\n",
    "                y=sq,\n",
    "                name=func\n",
    "            )\n",
    "        )\n",
    "    elif func == \"F(Q)\":\n",
    "        fq, _ = converter.S_to_F(q, sq)\n",
    "        fig.add_trace(\n",
    "            go.Scatter(\n",
    "                x=q,\n",
    "                y=fq,\n",
    "                name=func\n",
    "            )\n",
    "        )\n",
    "    else:\n",
    "        kwargs = {'<b_coh>^2': 0.17215}\n",
    "        fkq, _ = converter.S_to_FK(q, sq, **kwargs)\n",
    "        fig.add_trace(\n",
    "            go.Scatter(\n",
    "                x=q,\n",
    "                y=fkq,\n",
    "                name=func\n",
    "            )\n",
    "        )\n",
    "\n",
    "fig.update_traces({'visible': False}, selector=({'name':'F(Q)'}))\n",
    "fig.update_traces({'visible': False}, selector=({'name':'FK(Q)'}))\n",
    "fig.update_layout(height=600, width=1000, title_text=r\"$S(Q)$\")\n",
    "fig.update_layout(showlegend=False)\n",
    "\n",
    "fig.update_layout(\n",
    "    updatemenus=[go.layout.Updatemenu(\n",
    "        active=0,\n",
    "        buttons=list(\n",
    "            [dict(label = 'S(Q)',\n",
    "                  method = 'update',\n",
    "                  args = [{'visible': [True, False, False]},\n",
    "                          {'title': '$S(Q)$',\n",
    "                           'showlegend':False}]),\n",
    "             dict(label = 'F(Q)',\n",
    "                  method = 'update',\n",
    "                  args = [{'visible': [False, True, False]},\n",
    "                          {'title': r'$F(Q) = Q[S(Q) - 1]$',\n",
    "                           'showlegend':False}]),\n",
    "             dict(label = 'FK(Q)',\n",
    "                  method = 'update',\n",
    "                  args = [{'visible': [False, False, True]},\n",
    "                          {'title': r'$FK(Q) = (\\sum_{i=1}^nc_i\\bar{b}_i)^2[S(Q) - 1]$',\n",
    "                           'showlegend':False}]),\n",
    "            ])\n",
    "        )\n",
    "    ])\n",
    "\n",
    "fig.show()"
   ]
  }
 ],
 "metadata": {
  "kernelspec": {
   "display_name": "Python (default)",
   "language": "python",
   "name": "python3"
  },
  "language_info": {
   "codemirror_mode": {
    "name": "ipython",
    "version": 3
   },
   "file_extension": ".py",
   "mimetype": "text/x-python",
   "name": "python",
   "nbconvert_exporter": "python",
   "pygments_lexer": "ipython3",
   "version": "3.7.13"
  },
  "widgets": {
   "application/vnd.jupyter.widget-state+json": {
    "state": {},
    "version_major": 2,
    "version_minor": 0
   }
  }
 },
 "nbformat": 4,
 "nbformat_minor": 5
}
