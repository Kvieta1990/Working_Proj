{
 "cells": [
  {
   "cell_type": "code",
   "execution_count": 2,
   "id": "5c5680d8-b620-4a92-ab1b-be20571a8fbc",
   "metadata": {
    "execution": {
     "iopub.execute_input": "2023-06-03T21:19:11.135922Z",
     "iopub.status.busy": "2023-06-03T21:19:11.135725Z",
     "iopub.status.idle": "2023-06-03T21:19:11.210675Z",
     "shell.execute_reply": "2023-06-03T21:19:11.209744Z",
     "shell.execute_reply.started": "2023-06-03T21:19:11.135906Z"
    },
    "tags": []
   },
   "outputs": [
    {
     "ename": "FileNotFoundError",
     "evalue": "[Errno 2] No such file or directory: './demo_data/hydrogen_contained_sample_bank2.dat'",
     "output_type": "error",
     "traceback": [
      "\u001b[0;31m---------------------------------------------------------------------------\u001b[0m",
      "\u001b[0;31mFileNotFoundError\u001b[0m                         Traceback (most recent call last)",
      "\u001b[0;32m/tmp/ipykernel_922728/3052758811.py\u001b[0m in \u001b[0;36m<module>\u001b[0;34m\u001b[0m\n\u001b[1;32m      4\u001b[0m \u001b[0mall_y\u001b[0m \u001b[0;34m=\u001b[0m \u001b[0mlist\u001b[0m\u001b[0;34m(\u001b[0m\u001b[0;34m)\u001b[0m\u001b[0;34m\u001b[0m\u001b[0;34m\u001b[0m\u001b[0m\n\u001b[1;32m      5\u001b[0m \u001b[0;32mfor\u001b[0m \u001b[0mi\u001b[0m \u001b[0;32min\u001b[0m \u001b[0mrange\u001b[0m\u001b[0;34m(\u001b[0m\u001b[0;36m2\u001b[0m\u001b[0;34m,\u001b[0m\u001b[0;36m6\u001b[0m\u001b[0;34m)\u001b[0m\u001b[0;34m:\u001b[0m\u001b[0;34m\u001b[0m\u001b[0;34m\u001b[0m\u001b[0m\n\u001b[0;32m----> 6\u001b[0;31m     \u001b[0;32mwith\u001b[0m \u001b[0mopen\u001b[0m\u001b[0;34m(\u001b[0m\u001b[0;34mf\"./demo_data/hydrogen_contained_sample_bank{i}.dat\"\u001b[0m\u001b[0;34m,\u001b[0m \u001b[0;34m\"r\"\u001b[0m\u001b[0;34m)\u001b[0m \u001b[0;32mas\u001b[0m \u001b[0mf\u001b[0m\u001b[0;34m:\u001b[0m\u001b[0;34m\u001b[0m\u001b[0;34m\u001b[0m\u001b[0m\n\u001b[0m\u001b[1;32m      7\u001b[0m         \u001b[0mlines\u001b[0m \u001b[0;34m=\u001b[0m \u001b[0mf\u001b[0m\u001b[0;34m.\u001b[0m\u001b[0mreadlines\u001b[0m\u001b[0;34m(\u001b[0m\u001b[0;34m)\u001b[0m\u001b[0;34m\u001b[0m\u001b[0;34m\u001b[0m\u001b[0m\n\u001b[1;32m      8\u001b[0m     \u001b[0mx_tmp\u001b[0m \u001b[0;34m=\u001b[0m \u001b[0mlist\u001b[0m\u001b[0;34m(\u001b[0m\u001b[0;34m)\u001b[0m\u001b[0;34m\u001b[0m\u001b[0;34m\u001b[0m\u001b[0m\n",
      "\u001b[0;31mFileNotFoundError\u001b[0m: [Errno 2] No such file or directory: './demo_data/hydrogen_contained_sample_bank2.dat'"
     ]
    }
   ],
   "source": [
    "import plotly.graph_objects as go\n",
    "\n",
    "all_x = list()\n",
    "all_y = list()\n",
    "for i in range(2,6):\n",
    "    with open(f\"./demo_data/hydrogen_contained_sample_bank{i}.dat\", \"r\") as f:\n",
    "        lines = f.readlines()\n",
    "    x_tmp = list()\n",
    "    y_tmp = list()\n",
    "    for line in lines:\n",
    "        x_tmp.append(float(line.split()[0]))\n",
    "        y_tmp.append(float(line.split()[1]))\n",
    "    all_x.append(x_tmp)\n",
    "    all_y.append(y_tmp)\n",
    "\n",
    "show_plot = go.Figure(\n",
    "    data = [\n",
    "        go.Scatter(x=all_x[0], y=all_y[0], name=\"Bank-2\"),\n",
    "        go.Scatter(x=all_x[1], y=all_y[1], name=\"Bank-3\"),\n",
    "        go.Scatter(x=all_x[2], y=all_y[2], name=\"Bank-4\"),\n",
    "        go.Scatter(x=all_x[3], y=all_y[3], name=\"Bank-5\")\n",
    "    ],\n",
    "    layout = {\"xaxis\": {\"title\": \"$Q\\ (Å^{-1})$\"}, \"yaxis\": {\"title\": r\"$S(Q)\\ (\\text{barn})$\"}, \"title\": r\"$\\text{Incoherent inelastic scattering} - \\text{hydrogen contained sample}$\"}\n",
    ")\n",
    "show_plot.update_layout(\n",
    "    width=1000,\n",
    "    height=600\n",
    ")\n"
   ]
  },
  {
   "cell_type": "code",
   "execution_count": null,
   "id": "8da334a7-a701-48fe-b2cd-e548c398d818",
   "metadata": {},
   "outputs": [],
   "source": []
  }
 ],
 "metadata": {
  "kernelspec": {
   "display_name": "Python (default)",
   "language": "python",
   "name": "python3"
  },
  "language_info": {
   "codemirror_mode": {
    "name": "ipython",
    "version": 3
   },
   "file_extension": ".py",
   "mimetype": "text/x-python",
   "name": "python",
   "nbconvert_exporter": "python",
   "pygments_lexer": "ipython3",
   "version": "3.7.13"
  },
  "widgets": {
   "application/vnd.jupyter.widget-state+json": {
    "state": {},
    "version_major": 2,
    "version_minor": 0
   }
  }
 },
 "nbformat": 4,
 "nbformat_minor": 5
}
