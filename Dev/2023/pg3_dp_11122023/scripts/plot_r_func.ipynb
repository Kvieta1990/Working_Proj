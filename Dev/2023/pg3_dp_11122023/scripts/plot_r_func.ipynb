{
 "cells": [
  {
   "cell_type": "code",
   "execution_count": 1,
   "id": "1a895c27-4f94-4a26-9551-285808aef330",
   "metadata": {
    "execution": {
     "iopub.execute_input": "2023-06-04T04:11:16.591996Z",
     "iopub.status.busy": "2023-06-04T04:11:16.590815Z",
     "iopub.status.idle": "2023-06-04T04:11:16.728683Z",
     "shell.execute_reply": "2023-06-04T04:11:16.727714Z",
     "shell.execute_reply.started": "2023-06-04T04:11:16.591972Z"
    }
   },
   "outputs": [
    {
     "ename": "NameError",
     "evalue": "name 'go' is not defined",
     "output_type": "error",
     "traceback": [
      "\u001b[0;31m---------------------------------------------------------------------------\u001b[0m",
      "\u001b[0;31mNameError\u001b[0m                                 Traceback (most recent call last)",
      "\u001b[0;32m/tmp/ipykernel_1006560/20409337.py\u001b[0m in \u001b[0;36m<module>\u001b[0;34m\u001b[0m\n\u001b[1;32m      4\u001b[0m \u001b[0mr_space_func\u001b[0m \u001b[0;34m=\u001b[0m \u001b[0;34m[\u001b[0m\u001b[0;34m\"G(r)\"\u001b[0m\u001b[0;34m,\u001b[0m \u001b[0;34m\"GK(r)\"\u001b[0m\u001b[0;34m,\u001b[0m \u001b[0;34m\"g(r)\"\u001b[0m\u001b[0;34m]\u001b[0m\u001b[0;34m\u001b[0m\u001b[0;34m\u001b[0m\u001b[0m\n\u001b[1;32m      5\u001b[0m \u001b[0;34m\u001b[0m\u001b[0m\n\u001b[0;32m----> 6\u001b[0;31m \u001b[0mfig\u001b[0m \u001b[0;34m=\u001b[0m \u001b[0mgo\u001b[0m\u001b[0;34m.\u001b[0m\u001b[0mFigure\u001b[0m\u001b[0;34m(\u001b[0m\u001b[0;34m)\u001b[0m\u001b[0;34m\u001b[0m\u001b[0;34m\u001b[0m\u001b[0m\n\u001b[0m\u001b[1;32m      7\u001b[0m \u001b[0;34m\u001b[0m\u001b[0m\n\u001b[1;32m      8\u001b[0m \u001b[0mq\u001b[0m\u001b[0;34m,\u001b[0m \u001b[0msq\u001b[0m \u001b[0;34m=\u001b[0m \u001b[0mnp\u001b[0m\u001b[0;34m.\u001b[0m\u001b[0mloadtxt\u001b[0m\u001b[0;34m(\u001b[0m\u001b[0;34m\"./demo_data/NOM_Si_640d_merged.sq\"\u001b[0m\u001b[0;34m,\u001b[0m\u001b[0munpack\u001b[0m\u001b[0;34m=\u001b[0m\u001b[0;32mTrue\u001b[0m\u001b[0;34m)\u001b[0m\u001b[0;34m\u001b[0m\u001b[0;34m\u001b[0m\u001b[0m\n",
      "\u001b[0;31mNameError\u001b[0m: name 'go' is not defined"
     ]
    }
   ],
   "source": [
    "from pystog import Converter\n",
    "\n",
    "converter = Converter()\n",
    "r_space_func = [\"G(r)\", \"GK(r)\", \"g(r)\"]\n",
    "\n",
    "fig = go.Figure()\n",
    "\n",
    "q, sq = np.loadtxt(\"./demo_data/NOM_Si_640d_merged.sq\",unpack=True)\n",
    "r = np.linspace(0., 50., 5000)\n",
    "\n",
    "for func in r_space_func:\n",
    "    if func == \"G(r)\":\n",
    "        r, gr, _ = transformer.S_to_G(q, sq, r)\n",
    "        fig.add_trace(\n",
    "            go.Scatter(\n",
    "                x=r,\n",
    "                y=gr,\n",
    "                name=func\n",
    "            )\n",
    "        )\n",
    "    elif func == \"GK(r)\":\n",
    "        kwargs = {'<b_coh>^2': 0.17215, 'rho': 0.049949}\n",
    "        r, gr, _ = transformer.S_to_GK(q, sq, r, **kwargs)\n",
    "        fig.add_trace(\n",
    "            go.Scatter(\n",
    "                x=r,\n",
    "                y=gr,\n",
    "                name=func\n",
    "            )\n",
    "        )\n",
    "    else:\n",
    "        kwargs = {'rho': 0.049949}\n",
    "        r, gr, _ = transformer.S_to_g(q, sq, r, **kwargs)\n",
    "        fig.add_trace(\n",
    "            go.Scatter(\n",
    "                x=r,\n",
    "                y=gr,\n",
    "                name=func\n",
    "            )\n",
    "        )\n",
    "\n",
    "fig.update_traces({'visible': False}, selector=({'name':'GK(r)'}))\n",
    "fig.update_traces({'visible': False}, selector=({'name':'g(r)'}))\n",
    "fig.update_layout(height=600, width=1000, title_text=r\"$G(r)$\")\n",
    "fig.update_layout(showlegend=False)\n",
    "\n",
    "fig.update_layout(\n",
    "    updatemenus=[go.layout.Updatemenu(\n",
    "        active=0,\n",
    "        buttons=list(\n",
    "            [dict(label = 'G(r)',\n",
    "                  method = 'update',\n",
    "                  args = [{'visible': [True, False, False]},\n",
    "                          {'title': '$G(r)$',\n",
    "                           'showlegend':False}]),\n",
    "             dict(label = 'GK(r)',\n",
    "                  method = 'update',\n",
    "                  args = [{'visible': [False, True, False]},\n",
    "                          {'title': r'$GK(r) = \\frac{(\\sum_{i=1}^nc_i\\bar{b}_i)^2 G(r)}{4\\pi r\\rho_0}, \\text{or in RMC community, we call this form}\\ G(r)$',\n",
    "                           'showlegend':False}]),\n",
    "             dict(label = \"g(r)\",\n",
    "                  method = 'update',\n",
    "                  args = [{'visible': [False, False, True]},\n",
    "                          {'title': r\"$g(r) = \\frac{G(r)}{4\\pi r\\rho_0} + 1, \\text{or in RMC community, we call this form}\\ G'(r)$\",\n",
    "                           'showlegend':False}]),\n",
    "            ])\n",
    "        )\n",
    "    ])\n",
    "\n",
    "fig.show()"
   ]
  },
  {
   "cell_type": "code",
   "execution_count": null,
   "id": "35ea79f8-a35d-426a-8965-997f5a951dbf",
   "metadata": {},
   "outputs": [],
   "source": []
  }
 ],
 "metadata": {
  "kernelspec": {
   "display_name": "Python (default)",
   "language": "python",
   "name": "python3"
  },
  "language_info": {
   "codemirror_mode": {
    "name": "ipython",
    "version": 3
   },
   "file_extension": ".py",
   "mimetype": "text/x-python",
   "name": "python",
   "nbconvert_exporter": "python",
   "pygments_lexer": "ipython3",
   "version": "3.7.13"
  },
  "widgets": {
   "application/vnd.jupyter.widget-state+json": {
    "state": {},
    "version_major": 2,
    "version_minor": 0
   }
  }
 },
 "nbformat": 4,
 "nbformat_minor": 5
}
