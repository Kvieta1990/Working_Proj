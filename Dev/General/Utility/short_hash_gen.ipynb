{
 "cells": [
  {
   "cell_type": "code",
   "execution_count": 8,
   "id": "8d58f721-1f21-499e-a394-ebdf1c2e1127",
   "metadata": {
    "execution": {
     "iopub.execute_input": "2023-03-20T16:01:32.116087Z",
     "iopub.status.busy": "2023-03-20T16:01:32.115159Z",
     "iopub.status.idle": "2023-03-20T16:01:32.121651Z",
     "shell.execute_reply": "2023-03-20T16:01:32.120905Z",
     "shell.execute_reply.started": "2023-03-20T16:01:32.116059Z"
    },
    "tags": []
   },
   "outputs": [
    {
     "name": "stdout",
     "output_type": "stream",
     "text": [
      "Original string: 197735fe5480f979501187fe4991a46d12c9560417bbd55f235159a878f56aa1\n",
      "Short hash string: MTk3NzM1ZmU1\n"
     ]
    }
   ],
   "source": [
    "import hashlib\n",
    "import base64\n",
    "\n",
    "nums = [\"1\", \"5\", \"9\", \"13\", \"17\"]\n",
    "hash_obj = hashlib.sha256(str(nums).encode())\n",
    "hash_str = hash_obj.hexdigest()\n",
    "short_hash_string = base64.urlsafe_b64encode(hash_str.encode()).decode()[:12]\n",
    "\n",
    "print(\"Original string:\", hash_str)\n",
    "print(\"Short hash string:\", short_hash_string)"
   ]
  },
  {
   "cell_type": "code",
   "execution_count": null,
   "id": "ee895f6e-e4b2-425f-b7a9-ea6ad11b8b5e",
   "metadata": {},
   "outputs": [],
   "source": []
  }
 ],
 "metadata": {
  "kernelspec": {
   "display_name": "Python (default)",
   "language": "python",
   "name": "python3"
  },
  "language_info": {
   "codemirror_mode": {
    "name": "ipython",
    "version": 3
   },
   "file_extension": ".py",
   "mimetype": "text/x-python",
   "name": "python",
   "nbconvert_exporter": "python",
   "pygments_lexer": "ipython3",
   "version": "3.7.13"
  },
  "widgets": {
   "application/vnd.jupyter.widget-state+json": {
    "state": {},
    "version_major": 2,
    "version_minor": 0
   }
  }
 },
 "nbformat": 4,
 "nbformat_minor": 5
}
