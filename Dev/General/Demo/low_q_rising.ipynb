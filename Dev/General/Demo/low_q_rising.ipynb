{
 "cells": [
  {
   "cell_type": "code",
   "execution_count": 2,
   "id": "18c42cd5-6cbc-4a14-bfa7-a17134fc967f",
   "metadata": {
    "execution": {
     "iopub.execute_input": "2023-11-17T14:20:18.233049Z",
     "iopub.status.busy": "2023-11-17T14:20:18.232754Z",
     "iopub.status.idle": "2023-11-17T14:20:18.295154Z",
     "shell.execute_reply": "2023-11-17T14:20:18.294318Z",
     "shell.execute_reply.started": "2023-11-17T14:20:18.233027Z"
    }
   },
   "outputs": [],
   "source": [
    "import numpy as np"
   ]
  },
  {
   "cell_type": "markdown",
   "id": "15bbc71b-2904-4594-9e3a-a0b900df9cde",
   "metadata": {},
   "source": [
    "$Q = \\frac{4\\pi sin\\theta}{\\lambda}$"
   ]
  },
  {
   "cell_type": "code",
   "execution_count": 3,
   "id": "1ba01bc9-d207-4a34-9093-9cf4114b7f1d",
   "metadata": {
    "execution": {
     "iopub.execute_input": "2023-11-17T14:20:18.296871Z",
     "iopub.status.busy": "2023-11-17T14:20:18.296618Z",
     "iopub.status.idle": "2023-11-17T14:20:18.300116Z",
     "shell.execute_reply": "2023-11-17T14:20:18.299504Z",
     "shell.execute_reply.started": "2023-11-17T14:20:18.296851Z"
    },
    "tags": []
   },
   "outputs": [],
   "source": [
    "q_interval = 0.02\n",
    "det_angle = 50. * np.pi / 180."
   ]
  },
  {
   "cell_type": "code",
   "execution_count": 4,
   "id": "837488fb-1c28-486b-ad21-6040d5bab0b5",
   "metadata": {
    "execution": {
     "iopub.execute_input": "2023-11-17T14:20:18.300980Z",
     "iopub.status.busy": "2023-11-17T14:20:18.300822Z",
     "iopub.status.idle": "2023-11-17T14:20:18.304257Z",
     "shell.execute_reply": "2023-11-17T14:20:18.303642Z",
     "shell.execute_reply.started": "2023-11-17T14:20:18.300965Z"
    }
   },
   "outputs": [],
   "source": [
    "q_bin1_start = 0.5\n",
    "q_bin1_end = q_bin1_start + q_interval\n",
    "\n",
    "q_bin2_start = 10.5\n",
    "q_bin2_end = q_bin2_start + q_interval"
   ]
  },
  {
   "cell_type": "code",
   "execution_count": 5,
   "id": "6f58c22d-39be-4733-a4e6-bda736599247",
   "metadata": {
    "execution": {
     "iopub.execute_input": "2023-11-17T14:20:18.305132Z",
     "iopub.status.busy": "2023-11-17T14:20:18.304944Z",
     "iopub.status.idle": "2023-11-17T14:20:18.308828Z",
     "shell.execute_reply": "2023-11-17T14:20:18.308208Z",
     "shell.execute_reply.started": "2023-11-17T14:20:18.305117Z"
    }
   },
   "outputs": [],
   "source": [
    "lambda_bin1_start = 4. * np.pi * np.sin(det_angle) / q_bin1_start\n",
    "lambda_bin1_end = 4. * np.pi * np.sin(det_angle) / q_bin1_end\n",
    "\n",
    "lambda_bin2_start = 4. * np.pi * np.sin(det_angle) / q_bin2_start\n",
    "lambda_bin2_end = 4. * np.pi * np.sin(det_angle) / q_bin2_end"
   ]
  },
  {
   "cell_type": "code",
   "execution_count": 6,
   "id": "3c4caecf-dd72-437d-8fe7-d233f6de825a",
   "metadata": {
    "execution": {
     "iopub.execute_input": "2023-11-17T14:20:18.310485Z",
     "iopub.status.busy": "2023-11-17T14:20:18.310324Z",
     "iopub.status.idle": "2023-11-17T14:20:18.314338Z",
     "shell.execute_reply": "2023-11-17T14:20:18.313577Z",
     "shell.execute_reply.started": "2023-11-17T14:20:18.310470Z"
    },
    "tags": []
   },
   "outputs": [
    {
     "name": "stdout",
     "output_type": "stream",
     "text": [
      "19.252796758606923 18.512304575583578 0.7404921830233455\n"
     ]
    }
   ],
   "source": [
    "print(lambda_bin1_start, lambda_bin1_end, lambda_bin1_start - lambda_bin1_end)"
   ]
  },
  {
   "cell_type": "code",
   "execution_count": 7,
   "id": "806cc149-2f20-408a-a40c-7a08034835f6",
   "metadata": {
    "execution": {
     "iopub.execute_input": "2023-11-17T14:20:18.315207Z",
     "iopub.status.busy": "2023-11-17T14:20:18.315055Z",
     "iopub.status.idle": "2023-11-17T14:20:18.318577Z",
     "shell.execute_reply": "2023-11-17T14:20:18.317932Z",
     "shell.execute_reply.started": "2023-11-17T14:20:18.315193Z"
    },
    "tags": []
   },
   "outputs": [
    {
     "name": "stdout",
     "output_type": "stream",
     "text": [
      "0.9167998456479487 0.915056880161926 0.0017429654860227073\n"
     ]
    }
   ],
   "source": [
    "print(lambda_bin2_start, lambda_bin2_end, lambda_bin2_start - lambda_bin2_end)"
   ]
  },
  {
   "cell_type": "code",
   "execution_count": null,
   "id": "2b7bed23-2cef-4793-b528-4691b1e40c0a",
   "metadata": {},
   "outputs": [],
   "source": []
  }
 ],
 "metadata": {
  "kernelspec": {
   "display_name": "Python (default)",
   "language": "python",
   "name": "python3"
  },
  "language_info": {
   "codemirror_mode": {
    "name": "ipython",
    "version": 3
   },
   "file_extension": ".py",
   "mimetype": "text/x-python",
   "name": "python",
   "nbconvert_exporter": "python",
   "pygments_lexer": "ipython3",
   "version": "3.7.13"
  },
  "widgets": {
   "application/vnd.jupyter.widget-state+json": {
    "state": {},
    "version_major": 2,
    "version_minor": 0
   }
  }
 },
 "nbformat": 4,
 "nbformat_minor": 5
}
