{
 "cells": [
  {
   "cell_type": "code",
   "execution_count": 2,
   "id": "ddf9594e-8be8-4583-9b18-64c7f38a0557",
   "metadata": {
    "execution": {
     "iopub.execute_input": "2024-01-19T02:13:36.944706Z",
     "iopub.status.busy": "2024-01-19T02:13:36.944173Z",
     "iopub.status.idle": "2024-01-19T02:13:37.203177Z",
     "shell.execute_reply": "2024-01-19T02:13:37.202252Z",
     "shell.execute_reply.started": "2024-01-19T02:13:36.944688Z"
    },
    "tags": []
   },
   "outputs": [],
   "source": [
    "import sys\n",
    "from rmc_tools import rmc6f_stuff\n",
    "import copy"
   ]
  },
  {
   "cell_type": "code",
   "execution_count": 3,
   "id": "108e3619-99c4-4361-8dae-5804bf77bdb5",
   "metadata": {
    "execution": {
     "iopub.execute_input": "2024-01-19T02:13:37.528210Z",
     "iopub.status.busy": "2024-01-19T02:13:37.528017Z",
     "iopub.status.idle": "2024-01-19T02:13:37.747621Z",
     "shell.execute_reply": "2024-01-19T02:13:37.746663Z",
     "shell.execute_reply.started": "2024-01-19T02:13:37.528194Z"
    },
    "tags": []
   },
   "outputs": [
    {
     "name": "stdout",
     "output_type": "stream",
     "text": [
      "\n",
      "Reading in the RMC6F configuration...\n",
      "Progress: \n",
      "....5%....10%....15%....20%\n",
      "....25%....30%....35%....40%\n",
      "....45%....50%....55%....60%\n",
      "....65%....70%....75%....80%\n",
      "....85%....90%....95%....100%\n",
      "\n",
      "------------------------------------------\n",
      "RMC6F configuration successfully read in.\n",
      "Time taken:      0.210 s\n",
      "------------------------------------------\n"
     ]
    }
   ],
   "source": [
    "rmc6f_file_name = \"ceramic.rmc6f\"\n",
    "tata_ul = 4.5\n",
    "taclo_ul = 3.0\n",
    "\n",
    "input_rmc_config = rmc6f_stuff.RMC6FReader(rmc6f_file_name)"
   ]
  },
  {
   "cell_type": "code",
   "execution_count": 5,
   "id": "38f013ea-bf55-4ba3-98b0-1a9257520737",
   "metadata": {
    "execution": {
     "iopub.execute_input": "2024-01-19T02:13:48.747317Z",
     "iopub.status.busy": "2024-01-19T02:13:48.746303Z",
     "iopub.status.idle": "2024-01-19T02:32:05.882958Z",
     "shell.execute_reply": "2024-01-19T02:32:05.882150Z",
     "shell.execute_reply.started": "2024-01-19T02:13:48.747290Z"
    },
    "tags": []
   },
   "outputs": [],
   "source": [
    "all_neigh = dict()\n",
    "key_combo_at = dict()\n",
    "key_combo_coord = dict()\n",
    "\n",
    "for i in range(input_rmc_config.numAtoms):\n",
    "    line_s = input_rmc_config.atomsLine[i].strip()\n",
    "    atom_key_combo = line_s.split()[-3] + \"-\"\n",
    "    atom_key_combo += (line_s.split()[-2] + \"-\")\n",
    "    atom_key_combo += (line_s.split()[-1] + \"-\")\n",
    "    atom_key_combo += (line_s.split()[-4])\n",
    "    key_combo_at[atom_key_combo] = input_rmc_config.atomsEle[i]\n",
    "    key_combo_coord[atom_key_combo] = input_rmc_config.atomsCoord[i]\n",
    "    \n",
    "    if input_rmc_config.atomsEle[i] == \"Ta\":\n",
    "        atom_coord_1 = input_rmc_config.atomsCoordInt[i]\n",
    "        all_neigh[atom_key_combo] = list()\n",
    "        for j in range(input_rmc_config.numAtoms):\n",
    "            cond1 = input_rmc_config.atomsEle[j] == \"Ta\"\n",
    "            cond2 = input_rmc_config.atomsEle[j] == \"Cl\"\n",
    "            cond3 = input_rmc_config.atomsEle[j] == \"O\"\n",
    "            if cond1 or cond2 or cond3:\n",
    "                line_s = input_rmc_config.atomsLine[j].strip()\n",
    "                atom_key_combo1 = line_s.split()[-3] + \"-\"\n",
    "                atom_key_combo1 += (line_s.split()[-2] + \"-\")\n",
    "                atom_key_combo1 += (line_s.split()[-1] + \"-\")\n",
    "                atom_key_combo1 += (line_s.split()[-4])\n",
    "\n",
    "                atom_coord_2 = input_rmc_config.atomsCoordInt[j]\n",
    "                dist_temp = rmc6f_stuff.dist_calc_coord(\n",
    "                    atom_coord_1, atom_coord_2,\n",
    "                    input_rmc_config.vectors\n",
    "                )\n",
    "                if cond1 and dist_temp <= tata_ul and dist_temp > 1.E-5:\n",
    "                    all_neigh[atom_key_combo].append(atom_key_combo1)\n",
    "                if (cond2 or cond3) and dist_temp <= taclo_ul and dist_temp > 1.E-5:\n",
    "                    all_neigh[atom_key_combo].append(atom_key_combo1)"
   ]
  },
  {
   "cell_type": "code",
   "execution_count": 15,
   "id": "72d67c4f-b178-4a75-81e9-e2a0f19b7557",
   "metadata": {
    "execution": {
     "iopub.execute_input": "2024-01-19T02:55:59.994397Z",
     "iopub.status.busy": "2024-01-19T02:55:59.993319Z",
     "iopub.status.idle": "2024-01-19T02:56:00.048082Z",
     "shell.execute_reply": "2024-01-19T02:56:00.047562Z",
     "shell.execute_reply.started": "2024-01-19T02:55:59.994372Z"
    },
    "tags": []
   },
   "outputs": [],
   "source": [
    "single_share = 0\n",
    "single_share_o = 0\n",
    "single_share_cl = 0\n",
    "all_neigh_final = copy.deepcopy(all_neigh)\n",
    "for key, item in all_neigh.items():\n",
    "    for key_key in item:\n",
    "        if key_combo_at[key_key] == \"Ta\":\n",
    "            neigh_tmp = all_neigh[key_key]\n",
    "            common_list = list(set(item) & set(neigh_tmp))\n",
    "            num_cm_ta = 0\n",
    "            num_cm_o = 0\n",
    "            num_cm_cl = 0\n",
    "            for common_site in common_list:\n",
    "                if key_combo_at[common_site] == \"Cl\" or key_combo_at[common_site] == \"O\":\n",
    "                    num_cm_ta += 1\n",
    "                    if key_combo_at[common_site] == \"Cl\":\n",
    "                        num_cm_cl += 1\n",
    "                    if key_combo_at[common_site] == \"O\":\n",
    "                        num_cm_o += 1\n",
    "            if num_cm_ta == 1:\n",
    "                single_share += 1\n",
    "                single_share_o += num_cm_o\n",
    "                single_share_cl += num_cm_cl"
   ]
  },
  {
   "cell_type": "code",
   "execution_count": 19,
   "id": "1eb67155-c97d-48ae-84b7-f7ffd51c84d9",
   "metadata": {
    "execution": {
     "iopub.execute_input": "2024-01-19T02:57:02.999322Z",
     "iopub.status.busy": "2024-01-19T02:57:02.998658Z",
     "iopub.status.idle": "2024-01-19T02:57:03.002687Z",
     "shell.execute_reply": "2024-01-19T02:57:03.002256Z",
     "shell.execute_reply.started": "2024-01-19T02:57:02.999300Z"
    },
    "tags": []
   },
   "outputs": [
    {
     "name": "stdout",
     "output_type": "stream",
     "text": [
      "3957\n",
      "3955\n",
      "2\n"
     ]
    }
   ],
   "source": [
    "print(int(single_share / 2))\n",
    "print(int(single_share_o / 2))\n",
    "print(int(single_share_cl / 2))"
   ]
  },
  {
   "cell_type": "code",
   "execution_count": 20,
   "id": "0f72d216-e09c-4dee-b6ee-543461d0d2bb",
   "metadata": {
    "execution": {
     "iopub.execute_input": "2024-01-19T03:06:13.099213Z",
     "iopub.status.busy": "2024-01-19T03:06:13.098277Z",
     "iopub.status.idle": "2024-01-19T03:06:13.151834Z",
     "shell.execute_reply": "2024-01-19T03:06:13.151336Z",
     "shell.execute_reply.started": "2024-01-19T03:06:13.099187Z"
    },
    "tags": []
   },
   "outputs": [],
   "source": [
    "double_share = 0\n",
    "double_share_o = 0\n",
    "double_share_cl = 0\n",
    "all_neigh_final = copy.deepcopy(all_neigh)\n",
    "for key, item in all_neigh.items():\n",
    "    for key_key in item:\n",
    "        if key_combo_at[key_key] == \"Ta\":\n",
    "            neigh_tmp = all_neigh[key_key]\n",
    "            common_list = list(set(item) & set(neigh_tmp))\n",
    "            num_cm_ta = 0\n",
    "            num_cm_o = 0\n",
    "            num_cm_cl = 0\n",
    "            for common_site in common_list:\n",
    "                if key_combo_at[common_site] == \"Cl\" or key_combo_at[common_site] == \"O\":\n",
    "                    num_cm_ta += 1\n",
    "                    if key_combo_at[common_site] == \"Cl\":\n",
    "                        num_cm_cl += 1\n",
    "                    if key_combo_at[common_site] == \"O\":\n",
    "                        num_cm_o += 1\n",
    "            if num_cm_ta == 2:\n",
    "                double_share += 1\n",
    "                double_share_o += num_cm_o\n",
    "                double_share_cl += num_cm_cl"
   ]
  },
  {
   "cell_type": "code",
   "execution_count": 21,
   "id": "3a0da07b-41fc-47df-8a72-25a4c59c18a2",
   "metadata": {
    "execution": {
     "iopub.execute_input": "2024-01-19T03:06:32.078547Z",
     "iopub.status.busy": "2024-01-19T03:06:32.077432Z",
     "iopub.status.idle": "2024-01-19T03:06:32.082242Z",
     "shell.execute_reply": "2024-01-19T03:06:32.081766Z",
     "shell.execute_reply.started": "2024-01-19T03:06:32.078522Z"
    },
    "tags": []
   },
   "outputs": [
    {
     "name": "stdout",
     "output_type": "stream",
     "text": [
      "185\n",
      "370\n",
      "0\n"
     ]
    }
   ],
   "source": [
    "print(int(double_share / 2))\n",
    "print(int(double_share_o / 2))\n",
    "print(int(double_share_cl / 2))"
   ]
  },
  {
   "cell_type": "code",
   "execution_count": 11,
   "id": "942c87ce-862f-4699-be77-15bf641f69ef",
   "metadata": {
    "execution": {
     "iopub.execute_input": "2024-01-19T02:38:28.259065Z",
     "iopub.status.busy": "2024-01-19T02:38:28.258104Z",
     "iopub.status.idle": "2024-01-19T02:38:28.290569Z",
     "shell.execute_reply": "2024-01-19T02:38:28.290077Z",
     "shell.execute_reply.started": "2024-01-19T02:38:28.259041Z"
    },
    "tags": []
   },
   "outputs": [],
   "source": [
    "triple_share = 0\n",
    "all_neigh_final = copy.deepcopy(all_neigh)\n",
    "for key, item in all_neigh.items():\n",
    "    for key_key in item:\n",
    "        if key_combo_at[key_key] == \"Li\":\n",
    "            neigh_tmp = all_neigh[key_key]\n",
    "            common_list = list(set(item) & set(neigh_tmp))\n",
    "            num_cm_ta = 0\n",
    "            for common_site in common_list:\n",
    "                if key_combo_at[common_site] == \"Cl\" or key_combo_at[common_site] == \"O\":\n",
    "                    num_cm_ta += 1\n",
    "            if num_cm_ta == 3:\n",
    "                triple_share += 1"
   ]
  },
  {
   "cell_type": "code",
   "execution_count": 12,
   "id": "c333dca5-ac96-4708-b74f-3515bdd65969",
   "metadata": {
    "execution": {
     "iopub.execute_input": "2024-01-19T02:38:38.482649Z",
     "iopub.status.busy": "2024-01-19T02:38:38.481661Z",
     "iopub.status.idle": "2024-01-19T02:38:38.486296Z",
     "shell.execute_reply": "2024-01-19T02:38:38.485866Z",
     "shell.execute_reply.started": "2024-01-19T02:38:38.482627Z"
    }
   },
   "outputs": [
    {
     "data": {
      "text/plain": [
       "0.0"
      ]
     },
     "execution_count": 12,
     "metadata": {},
     "output_type": "execute_result"
    }
   ],
   "source": [
    "triple_share / 2"
   ]
  },
  {
   "cell_type": "code",
   "execution_count": null,
   "id": "4f5e46e5-e848-4a2d-aeb4-a04fb95bff9c",
   "metadata": {},
   "outputs": [],
   "source": []
  }
 ],
 "metadata": {
  "kernelspec": {
   "display_name": "Python (RMCProfile)",
   "language": "python",
   "name": "rmcprofile"
  },
  "language_info": {
   "codemirror_mode": {
    "name": "ipython",
    "version": 3
   },
   "file_extension": ".py",
   "mimetype": "text/x-python",
   "name": "python",
   "nbconvert_exporter": "python",
   "pygments_lexer": "ipython3",
   "version": "3.7.15"
  },
  "widgets": {
   "application/vnd.jupyter.widget-state+json": {
    "state": {},
    "version_major": 2,
    "version_minor": 0
   }
  }
 },
 "nbformat": 4,
 "nbformat_minor": 5
}
