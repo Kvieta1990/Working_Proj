{
 "cells": [
  {
   "cell_type": "code",
   "execution_count": 21,
   "id": "ddf9594e-8be8-4583-9b18-64c7f38a0557",
   "metadata": {
    "execution": {
     "iopub.execute_input": "2023-12-28T05:05:31.291506Z",
     "iopub.status.busy": "2023-12-28T05:05:31.290906Z",
     "iopub.status.idle": "2023-12-28T05:05:31.295228Z",
     "shell.execute_reply": "2023-12-28T05:05:31.294601Z",
     "shell.execute_reply.started": "2023-12-28T05:05:31.291483Z"
    },
    "tags": []
   },
   "outputs": [],
   "source": [
    "import sys\n",
    "from rmc_tools import rmc6f_stuff\n",
    "import copy"
   ]
  },
  {
   "cell_type": "code",
   "execution_count": 10,
   "id": "108e3619-99c4-4361-8dae-5804bf77bdb5",
   "metadata": {
    "execution": {
     "iopub.execute_input": "2023-12-28T03:29:17.625473Z",
     "iopub.status.busy": "2023-12-28T03:29:17.624848Z",
     "iopub.status.idle": "2023-12-28T03:29:17.855994Z",
     "shell.execute_reply": "2023-12-28T03:29:17.855152Z",
     "shell.execute_reply.started": "2023-12-28T03:29:17.625448Z"
    },
    "tags": []
   },
   "outputs": [
    {
     "name": "stdout",
     "output_type": "stream",
     "text": [
      "\n",
      "Reading in the RMC6F configuration...\n",
      "Progress: \n",
      "....5%....10%....15%....20%\n",
      "....25%....30%....35%....40%\n",
      "....45%....50%....55%....60%\n",
      "....65%....70%....75%....80%\n",
      "....85%....90%....95%....100%\n",
      "\n",
      "------------------------------------------\n",
      "RMC6F configuration successfully read in.\n",
      "Time taken:      0.217 s\n",
      "------------------------------------------\n"
     ]
    }
   ],
   "source": [
    "rmc6f_file_name = \"ceramic.rmc6f\"\n",
    "lili_ul = 5.0\n",
    "lita_ul = 3.0\n",
    "\n",
    "input_rmc_config = rmc6f_stuff.RMC6FReader(rmc6f_file_name)"
   ]
  },
  {
   "cell_type": "code",
   "execution_count": 15,
   "id": "38f013ea-bf55-4ba3-98b0-1a9257520737",
   "metadata": {
    "execution": {
     "iopub.execute_input": "2023-12-28T04:04:24.467527Z",
     "iopub.status.busy": "2023-12-28T04:04:24.466952Z",
     "iopub.status.idle": "2023-12-28T04:10:53.283242Z",
     "shell.execute_reply": "2023-12-28T04:10:53.282493Z",
     "shell.execute_reply.started": "2023-12-28T04:04:24.467501Z"
    },
    "tags": []
   },
   "outputs": [],
   "source": [
    "all_neigh = dict()\n",
    "key_combo_at = dict()\n",
    "\n",
    "for i in range(input_rmc_config.numAtoms):\n",
    "    line_s = input_rmc_config.atomsLine[i].strip()\n",
    "    atom_key_combo = line_s.split()[-3] + \"-\"\n",
    "    atom_key_combo += (line_s.split()[-2] + \"-\")\n",
    "    atom_key_combo += (line_s.split()[-1] + \"-\")\n",
    "    atom_key_combo += (line_s.split()[-4])\n",
    "    key_combo_at[atom_key_combo] = input_rmc_config.atomsEle[i]\n",
    "    \n",
    "    if input_rmc_config.atomsEle[i] == \"Li\":\n",
    "        atom_coord_1 = input_rmc_config.atomsCoordInt[i]\n",
    "        all_neigh[atom_key_combo] = list()\n",
    "        for j in range(input_rmc_config.numAtoms):\n",
    "            cond1 = input_rmc_config.atomsEle[j] == \"Li\"\n",
    "            cond2 = input_rmc_config.atomsEle[j] == \"Ta\"\n",
    "            if cond1 or cond2:\n",
    "                line_s = input_rmc_config.atomsLine[j].strip()\n",
    "                atom_key_combo1 = line_s.split()[-3] + \"-\"\n",
    "                atom_key_combo1 += (line_s.split()[-2] + \"-\")\n",
    "                atom_key_combo1 += (line_s.split()[-1] + \"-\")\n",
    "                atom_key_combo1 += (line_s.split()[-4])\n",
    "\n",
    "                atom_coord_2 = input_rmc_config.atomsCoordInt[j]\n",
    "                dist_temp = rmc6f_stuff.dist_calc_coord(\n",
    "                    atom_coord_1, atom_coord_2,\n",
    "                    input_rmc_config.vectors\n",
    "                )\n",
    "                if cond1 and dist_temp <= lili_ul and dist_temp > 1.E-5:\n",
    "                    all_neigh[atom_key_combo].append(atom_key_combo1)\n",
    "                if cond2 and dist_temp <= lita_ul and dist_temp > 1.E-5:\n",
    "                    all_neigh[atom_key_combo].append(atom_key_combo1)"
   ]
  },
  {
   "cell_type": "code",
   "execution_count": 29,
   "id": "942c87ce-862f-4699-be77-15bf641f69ef",
   "metadata": {
    "execution": {
     "iopub.execute_input": "2023-12-28T05:11:39.862094Z",
     "iopub.status.busy": "2023-12-28T05:11:39.861455Z",
     "iopub.status.idle": "2023-12-28T05:11:39.908059Z",
     "shell.execute_reply": "2023-12-28T05:11:39.907405Z",
     "shell.execute_reply.started": "2023-12-28T05:11:39.862068Z"
    },
    "tags": []
   },
   "outputs": [],
   "source": [
    "all_neigh_final = copy.deepcopy(all_neigh)\n",
    "for key, item in all_neigh.items():\n",
    "    for key_key in item:\n",
    "        if key_combo_at[key_key] == \"Li\":\n",
    "            neigh_tmp = all_neigh[key_key]\n",
    "            common_list = list(set(item) & set(neigh_tmp))\n",
    "            num_cm_ta = 0\n",
    "            for common_site in common_list:\n",
    "                if key_combo_at[common_site] == \"Ta\":\n",
    "                    num_cm_ta += 1\n",
    "            if num_cm_ta > 0:\n",
    "                all_neigh_final[key].remove(key_key)"
   ]
  },
  {
   "cell_type": "code",
   "execution_count": 30,
   "id": "dd8e1ce4-e29c-4824-9e06-422a5e38d94c",
   "metadata": {
    "execution": {
     "iopub.execute_input": "2023-12-28T05:11:42.803734Z",
     "iopub.status.busy": "2023-12-28T05:11:42.803009Z",
     "iopub.status.idle": "2023-12-28T05:11:42.813421Z",
     "shell.execute_reply": "2023-12-28T05:11:42.812786Z",
     "shell.execute_reply.started": "2023-12-28T05:11:42.803710Z"
    },
    "tags": []
   },
   "outputs": [],
   "source": [
    "for key, item in all_neigh_final.items():\n",
    "    for key_key in item:\n",
    "        if key_combo_at[key_key] == \"Ta\":\n",
    "            all_neigh_final[key].remove(key_key)"
   ]
  },
  {
   "cell_type": "code",
   "execution_count": null,
   "id": "e8989300-990a-4968-a865-073bb86959b1",
   "metadata": {},
   "outputs": [],
   "source": []
  }
 ],
 "metadata": {
  "kernelspec": {
   "display_name": "Python (RMCProfile)",
   "language": "python",
   "name": "rmcprofile"
  },
  "language_info": {
   "codemirror_mode": {
    "name": "ipython",
    "version": 3
   },
   "file_extension": ".py",
   "mimetype": "text/x-python",
   "name": "python",
   "nbconvert_exporter": "python",
   "pygments_lexer": "ipython3",
   "version": "3.7.15"
  },
  "widgets": {
   "application/vnd.jupyter.widget-state+json": {
    "state": {},
    "version_major": 2,
    "version_minor": 0
   }
  }
 },
 "nbformat": 4,
 "nbformat_minor": 5
}
