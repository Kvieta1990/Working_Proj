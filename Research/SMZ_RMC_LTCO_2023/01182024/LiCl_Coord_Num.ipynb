{
 "cells": [
  {
   "cell_type": "code",
   "execution_count": 1,
   "id": "ad34d1b2-4401-4aa3-9de4-18aa1b1e802e",
   "metadata": {
    "execution": {
     "iopub.execute_input": "2024-02-06T06:26:11.409494Z",
     "iopub.status.busy": "2024-02-06T06:26:11.408470Z",
     "iopub.status.idle": "2024-02-06T06:26:11.418096Z",
     "shell.execute_reply": "2024-02-06T06:26:11.417603Z",
     "shell.execute_reply.started": "2024-02-06T06:26:11.409468Z"
    },
    "tags": []
   },
   "outputs": [],
   "source": [
    "with open(\"./glass/glass.dat\", \"r\") as f:\n",
    "    lines = f.readlines()[4:]\n",
    "\n",
    "glass_poly_types = list()\n",
    "for line in lines:\n",
    "    type_tmp = line.split(\",\")[3].split(\":\")[1].replace(\"'\", \"\").strip()\n",
    "    if type_tmp == \"tribip\":\n",
    "        glass_poly_types.append(5)\n",
    "    elif type_tmp == \"tet\":\n",
    "        glass_poly_types.append(4)\n",
    "    elif type_tmp == \"oct\":\n",
    "        glass_poly_types.append(6)"
   ]
  },
  {
   "cell_type": "code",
   "execution_count": 2,
   "id": "be4039ae-0731-466c-b526-5b1fd1436b80",
   "metadata": {
    "execution": {
     "iopub.execute_input": "2024-02-06T06:26:11.419196Z",
     "iopub.status.busy": "2024-02-06T06:26:11.419024Z",
     "iopub.status.idle": "2024-02-06T06:26:11.427874Z",
     "shell.execute_reply": "2024-02-06T06:26:11.427384Z",
     "shell.execute_reply.started": "2024-02-06T06:26:11.419178Z"
    },
    "tags": []
   },
   "outputs": [],
   "source": [
    "with open(\"./glass_ceramic/glass_ceramic.dat\", \"r\") as f:\n",
    "    lines = f.readlines()[4:]\n",
    "\n",
    "glass_ceramic_poly_types = list()\n",
    "for line in lines:\n",
    "    type_tmp = line.split(\",\")[3].split(\":\")[1].replace(\"'\", \"\").strip()\n",
    "    if type_tmp == \"tribip\":\n",
    "        glass_ceramic_poly_types.append(5)\n",
    "    elif type_tmp == \"tet\":\n",
    "        glass_ceramic_poly_types.append(4)\n",
    "    elif type_tmp == \"oct\":\n",
    "        glass_ceramic_poly_types.append(6)"
   ]
  },
  {
   "cell_type": "code",
   "execution_count": 3,
   "id": "21672e40-e600-42c9-a253-ab990050ccc8",
   "metadata": {
    "execution": {
     "iopub.execute_input": "2024-02-06T06:26:11.496868Z",
     "iopub.status.busy": "2024-02-06T06:26:11.496682Z",
     "iopub.status.idle": "2024-02-06T06:26:11.504891Z",
     "shell.execute_reply": "2024-02-06T06:26:11.504427Z",
     "shell.execute_reply.started": "2024-02-06T06:26:11.496850Z"
    },
    "tags": []
   },
   "outputs": [],
   "source": [
    "with open(\"./ceramic/ceramic.dat\", \"r\") as f:\n",
    "    lines = f.readlines()[4:]\n",
    "\n",
    "ceramic_poly_types = list()\n",
    "for line in lines:\n",
    "    type_tmp = line.split(\",\")[3].split(\":\")[1].replace(\"'\", \"\").strip()\n",
    "    if type_tmp == \"tribip\":\n",
    "        ceramic_poly_types.append(5)\n",
    "    elif type_tmp == \"tet\":\n",
    "        ceramic_poly_types.append(4)\n",
    "    elif type_tmp == \"oct\":\n",
    "        ceramic_poly_types.append(6)"
   ]
  },
  {
   "cell_type": "code",
   "execution_count": 4,
   "id": "2ceb9e6d-bed0-4646-8973-4c3fc10d9d91",
   "metadata": {
    "execution": {
     "iopub.execute_input": "2024-02-06T06:26:11.506051Z",
     "iopub.status.busy": "2024-02-06T06:26:11.505884Z",
     "iopub.status.idle": "2024-02-06T06:26:12.432547Z",
     "shell.execute_reply": "2024-02-06T06:26:12.431743Z",
     "shell.execute_reply.started": "2024-02-06T06:26:11.506035Z"
    },
    "tags": []
   },
   "outputs": [
    {
     "data": {
      "image/png": "[encoded data removed]",
      "text/plain": [
       "<Figure size 640x480 with 1 Axes>"
      ]
     },
     "metadata": {},
     "output_type": "display_data"
    }
   ],
   "source": [
    "import numpy as np\n",
    "import matplotlib.pyplot as plt\n",
    "plt.style.use('seaborn-deep')\n",
    "\n",
    "bins = np.linspace(4, 6, 4)\n",
    "\n",
    "plt.hist(\n",
    "    [\n",
    "        ceramic_poly_types,\n",
    "        glass_ceramic_poly_types,\n",
    "        glass_poly_types\n",
    "    ],\n",
    "    bins,\n",
    "    color=['tomato', 'lightskyblue', 'lightgreen'],\n",
    "    label=['Ceramic', 'Glass Ceramic', 'Glass'])\n",
    "\n",
    "plt.legend(loc='upper left', frameon=False, fontsize=13)\n",
    "plt.xticks([4.33, 5.00, 5.665], [4, 5, 6], fontsize=16)\n",
    "plt.yticks(range(0, 2500, 500), range(0, 2500, 500), fontsize=16)\n",
    "plt.tick_params('both', length=7)\n",
    "plt.xlabel(\"Coordination Number\", fontsize=18)\n",
    "plt.ylabel(\"Count\", fontsize=18)\n",
    "plt.tight_layout()\n",
    "plt.savefig(\"LiCl_Coord_Env.png\", dpi=300)\n",
    "plt.show()"
   ]
  },
  {
   "cell_type": "code",
   "execution_count": 10,
   "id": "dc971d13-cfb8-431a-b9de-cc5f6e6e8f86",
   "metadata": {
    "execution": {
     "iopub.execute_input": "2024-02-06T06:37:42.711832Z",
     "iopub.status.busy": "2024-02-06T06:37:42.711509Z",
     "iopub.status.idle": "2024-02-06T06:37:42.720618Z",
     "shell.execute_reply": "2024-02-06T06:37:42.719967Z",
     "shell.execute_reply.started": "2024-02-06T06:37:42.711810Z"
    },
    "tags": []
   },
   "outputs": [],
   "source": [
    "with open(\"ceramic.out\", \"w\") as f:\n",
    "    for item in ceramic_poly_types:\n",
    "        f.write(f\"{item}\\n\")\n",
    "\n",
    "with open(\"glass_ceramic.out\", \"w\") as f:\n",
    "    for item in glass_ceramic_poly_types:\n",
    "        f.write(f\"{item}\\n\")\n",
    "        \n",
    "with open(\"glass.out\", \"w\") as f:\n",
    "    for item in glass_poly_types:\n",
    "        f.write(f\"{item}\\n\")"
   ]
  },
  {
   "cell_type": "code",
   "execution_count": null,
   "id": "20d52ec0-30f9-44f1-bc92-7f54819f0147",
   "metadata": {},
   "outputs": [],
   "source": []
  }
 ],
 "metadata": {
  "kernelspec": {
   "display_name": "Python (default)",
   "language": "python",
   "name": "python3"
  },
  "language_info": {
   "codemirror_mode": {
    "name": "ipython",
    "version": 3
   },
   "file_extension": ".py",
   "mimetype": "text/x-python",
   "name": "python",
   "nbconvert_exporter": "python",
   "pygments_lexer": "ipython3",
   "version": "3.7.12"
  },
  "widgets": {
   "application/vnd.jupyter.widget-state+json": {
    "state": {},
    "version_major": 2,
    "version_minor": 0
   }
  }
 },
 "nbformat": 4,
 "nbformat_minor": 5
}
