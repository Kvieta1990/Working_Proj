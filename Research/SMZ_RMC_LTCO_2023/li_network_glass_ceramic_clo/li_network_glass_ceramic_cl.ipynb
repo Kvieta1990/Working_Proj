{
 "cells": [
  {
   "cell_type": "code",
   "execution_count": 36,
   "id": "ddf9594e-8be8-4583-9b18-64c7f38a0557",
   "metadata": {
    "execution": {
     "iopub.execute_input": "2024-01-21T04:09:26.211597Z",
     "iopub.status.busy": "2024-01-21T04:09:26.210958Z",
     "iopub.status.idle": "2024-01-21T04:09:26.215404Z",
     "shell.execute_reply": "2024-01-21T04:09:26.214728Z",
     "shell.execute_reply.started": "2024-01-21T04:09:26.211574Z"
    },
    "tags": []
   },
   "outputs": [],
   "source": [
    "import sys\n",
    "from rmc_tools import rmc6f_stuff\n",
    "import copy"
   ]
  },
  {
   "cell_type": "code",
   "execution_count": 37,
   "id": "108e3619-99c4-4361-8dae-5804bf77bdb5",
   "metadata": {
    "execution": {
     "iopub.execute_input": "2024-01-21T04:09:26.217277Z",
     "iopub.status.busy": "2024-01-21T04:09:26.216785Z",
     "iopub.status.idle": "2024-01-21T04:09:26.498584Z",
     "shell.execute_reply": "2024-01-21T04:09:26.497635Z",
     "shell.execute_reply.started": "2024-01-21T04:09:26.217258Z"
    },
    "tags": []
   },
   "outputs": [
    {
     "name": "stdout",
     "output_type": "stream",
     "text": [
      "\n",
      "Reading in the RMC6F configuration...\n",
      "Progress: \n",
      "....5%....10%....15%....20%\n",
      "....25%....30%....35%....40%\n",
      "....45%....50%....55%....60%\n",
      "....65%....70%....75%....80%\n",
      "....85%....90%....95%....100%\n",
      "\n",
      "------------------------------------------\n",
      "RMC6F configuration successfully read in.\n",
      "Time taken:      0.264 s\n",
      "------------------------------------------\n"
     ]
    }
   ],
   "source": [
    "rmc6f_file_name = \"glass_ceramic.rmc6f\"\n",
    "lili_ul = 5.0\n",
    "licl_ul = 2.06\n",
    "\n",
    "input_rmc_config = rmc6f_stuff.RMC6FReader(rmc6f_file_name)"
   ]
  },
  {
   "cell_type": "code",
   "execution_count": 38,
   "id": "38f013ea-bf55-4ba3-98b0-1a9257520737",
   "metadata": {
    "execution": {
     "iopub.execute_input": "2024-01-21T04:09:26.500045Z",
     "iopub.status.busy": "2024-01-21T04:09:26.499871Z",
     "iopub.status.idle": "2024-01-21T04:19:34.747314Z",
     "shell.execute_reply": "2024-01-21T04:19:34.746397Z",
     "shell.execute_reply.started": "2024-01-21T04:09:26.500027Z"
    },
    "tags": []
   },
   "outputs": [],
   "source": [
    "included = dict()\n",
    "for i in range(input_rmc_config.numAtoms):\n",
    "    if input_rmc_config.atomsEle[i] == \"Li\":\n",
    "        atom_coord_1 = input_rmc_config.atomsCoordInt[i]\n",
    "        cl_neigh_num = 0\n",
    "        for j in range(input_rmc_config.numAtoms):\n",
    "            if input_rmc_config.atomsEle[j] == \"Cl\":\n",
    "                atom_coord_2 = input_rmc_config.atomsCoordInt[j]\n",
    "                dist_temp = rmc6f_stuff.dist_calc_coord(\n",
    "                    atom_coord_1, atom_coord_2,\n",
    "                    input_rmc_config.vectors\n",
    "                )\n",
    "                if dist_temp <= licl_ul:\n",
    "                    cl_neigh_num += 1\n",
    "        if cl_neigh_num > 0:\n",
    "            included[i] = True\n",
    "        else:\n",
    "            included[i] = False\n",
    "\n",
    "all_neigh = dict()\n",
    "key_combo_at = dict()\n",
    "key_combo_coord = dict()\n",
    "\n",
    "for i in range(input_rmc_config.numAtoms):\n",
    "    line_s = input_rmc_config.atomsLine[i].strip()\n",
    "    atom_key_combo = line_s.split()[-3] + \"-\"\n",
    "    atom_key_combo += (line_s.split()[-2] + \"-\")\n",
    "    atom_key_combo += (line_s.split()[-1] + \"-\")\n",
    "    atom_key_combo += (line_s.split()[-4])\n",
    "    key_combo_at[atom_key_combo] = input_rmc_config.atomsEle[i]\n",
    "    key_combo_coord[atom_key_combo] = input_rmc_config.atomsCoord[i]\n",
    "    \n",
    "    if input_rmc_config.atomsEle[i] == \"Li\" and included[i]:\n",
    "        atom_coord_1 = input_rmc_config.atomsCoordInt[i]\n",
    "        all_neigh[atom_key_combo] = list()\n",
    "        for j in range(input_rmc_config.numAtoms):\n",
    "            if input_rmc_config.atomsEle[j] == \"Li\" and included[j]:\n",
    "                line_s = input_rmc_config.atomsLine[j].strip()\n",
    "                atom_key_combo1 = line_s.split()[-3] + \"-\"\n",
    "                atom_key_combo1 += (line_s.split()[-2] + \"-\")\n",
    "                atom_key_combo1 += (line_s.split()[-1] + \"-\")\n",
    "                atom_key_combo1 += (line_s.split()[-4])\n",
    "\n",
    "                atom_coord_2 = input_rmc_config.atomsCoordInt[j]\n",
    "                dist_temp = rmc6f_stuff.dist_calc_coord(\n",
    "                    atom_coord_1, atom_coord_2,\n",
    "                    input_rmc_config.vectors\n",
    "                )\n",
    "                if dist_temp <= lili_ul and dist_temp > 1.E-5:\n",
    "                    all_neigh[atom_key_combo].append(atom_key_combo1)"
   ]
  },
  {
   "cell_type": "code",
   "execution_count": 39,
   "id": "863dc1c1-898a-4631-8c5a-008b00bf2478",
   "metadata": {
    "execution": {
     "iopub.execute_input": "2024-01-21T04:19:34.748554Z",
     "iopub.status.busy": "2024-01-21T04:19:34.748366Z",
     "iopub.status.idle": "2024-01-21T04:19:34.752973Z",
     "shell.execute_reply": "2024-01-21T04:19:34.752329Z",
     "shell.execute_reply.started": "2024-01-21T04:19:34.748533Z"
    },
    "tags": []
   },
   "outputs": [],
   "source": [
    "cluster_num = 0\n",
    "num_in_cluster = dict()\n",
    "num_in_cluster[0] = 0\n",
    "site_cluster = dict()\n",
    "prop_cluster = dict()\n",
    "max_cluster = 1E10"
   ]
  },
  {
   "cell_type": "code",
   "execution_count": 40,
   "id": "52b4f35b-bcd7-4b47-b393-27d1f1c360e5",
   "metadata": {
    "execution": {
     "iopub.execute_input": "2024-01-21T04:19:34.755432Z",
     "iopub.status.busy": "2024-01-21T04:19:34.754860Z",
     "iopub.status.idle": "2024-01-21T04:19:36.637034Z",
     "shell.execute_reply": "2024-01-21T04:19:36.636287Z",
     "shell.execute_reply.started": "2024-01-21T04:19:34.755412Z"
    },
    "tags": []
   },
   "outputs": [],
   "source": [
    "for key in all_neigh:\n",
    "    site_cluster[key] = 0\n",
    "\n",
    "for key, item in all_neigh.items():\n",
    "    neigh_found = False\n",
    "    neigh_tmp = list()\n",
    "    for neigh in item:\n",
    "        if site_cluster[neigh] != 0:\n",
    "            neigh_tmp.append(neigh)\n",
    "            neigh_found = True\n",
    "            \n",
    "            r = site_cluster[neigh]\n",
    "            t = r\n",
    "            t = -num_in_cluster[t]\n",
    "            \n",
    "            if t < 0:\n",
    "                prop_cluster[neigh] = r\n",
    "            else:\n",
    "                r = t\n",
    "                t = -num_in_cluster[t]\n",
    "                if t < 0:\n",
    "                    prop_cluster[neigh] = r\n",
    "                else:\n",
    "                    while t > 0:\n",
    "                        r = t\n",
    "                        t = -num_in_cluster[t]\n",
    "                    cluster_temp = site_cluster[neigh]\n",
    "                    num_in_cluster[cluster_temp] = -r\n",
    "                    prop_cluster[neigh] = r\n",
    "\n",
    "    if not neigh_found:\n",
    "        cluster_num += 1\n",
    "        site_cluster[key] = cluster_num\n",
    "        num_in_cluster[cluster_num] = 1\n",
    "    else:\n",
    "        min_proper = 1E10\n",
    "        for item_temp in neigh_tmp:\n",
    "            if prop_cluster[item_temp] < min_proper:\n",
    "                min_proper = prop_cluster[item_temp]\n",
    "        site_cluster[key] = min_proper\n",
    "\n",
    "        prop_c_uniq = []\n",
    "        for item_temp in neigh_tmp:\n",
    "            if prop_cluster[item_temp] not in prop_c_uniq:\n",
    "                prop_c_uniq.append(prop_cluster[item_temp])\n",
    "\n",
    "        temp_temp = 0\n",
    "        for item_temp in prop_c_uniq:\n",
    "            temp_temp += num_in_cluster[item_temp]\n",
    "\n",
    "        for item_temp in prop_c_uniq:\n",
    "            if item_temp == min_proper:\n",
    "                num_in_cluster[item_temp] = temp_temp + 1\n",
    "            else:\n",
    "                num_in_cluster[item_temp] = -min_proper\n",
    "\n",
    "    site_prop = {}\n",
    "    for key in all_neigh:\n",
    "        num_temp = num_in_cluster[site_cluster[key]]\n",
    "        if num_temp >= 0:\n",
    "            site_prop[key] = site_cluster[key]\n",
    "        elif num_temp < 0:\n",
    "            while num_in_cluster[-num_temp] < 0:\n",
    "                num_temp = num_in_cluster[-num_temp]\n",
    "            site_prop[key] = -num_temp"
   ]
  },
  {
   "cell_type": "code",
   "execution_count": 41,
   "id": "35e4fc7c-52ed-455c-9d50-2d1428ff7013",
   "metadata": {
    "execution": {
     "iopub.execute_input": "2024-01-21T04:19:36.638076Z",
     "iopub.status.busy": "2024-01-21T04:19:36.637904Z",
     "iopub.status.idle": "2024-01-21T04:19:36.643377Z",
     "shell.execute_reply": "2024-01-21T04:19:36.642750Z",
     "shell.execute_reply.started": "2024-01-21T04:19:36.638058Z"
    },
    "tags": []
   },
   "outputs": [],
   "source": [
    "num_temp_f = open(\"cluster.out\", \"w\")\n",
    "num_temp_f.write(\"Cluster\\t# of Li atoms\\n\")\n",
    "for j in range(cluster_num):\n",
    "    j_temp = j + 1\n",
    "    if num_in_cluster[j_temp] > 0:\n",
    "        num_temp_f.write(\"{0:5d}{1:10d}\\n\".format(j_temp, num_in_cluster[j_temp]))\n",
    "num_temp_f.close()"
   ]
  },
  {
   "cell_type": "code",
   "execution_count": 42,
   "id": "ea0b180d-46eb-4087-a93f-4109d05952cf",
   "metadata": {
    "execution": {
     "iopub.execute_input": "2024-01-21T04:19:36.644914Z",
     "iopub.status.busy": "2024-01-21T04:19:36.644174Z",
     "iopub.status.idle": "2024-01-21T04:19:36.656840Z",
     "shell.execute_reply": "2024-01-21T04:19:36.656188Z",
     "shell.execute_reply.started": "2024-01-21T04:19:36.644893Z"
    },
    "tags": []
   },
   "outputs": [],
   "source": [
    "max_num = -1E10\n",
    "for j in range(cluster_num):\n",
    "    j_temp = j + 1\n",
    "    if num_in_cluster[j_temp] > max_num:\n",
    "        max_num = num_in_cluster[j_temp]\n",
    "        max_cluster = j_temp\n",
    "\n",
    "li_in_max_cluster = []\n",
    "for item in all_neigh:\n",
    "    if site_prop[item] == max_cluster:\n",
    "        li_in_max_cluster.append(item)\n",
    "\n",
    "max_cluster_out_f = open(\"max_cluster.rmc6f\", \"w\")\n",
    "for item_temp in input_rmc_config.header:\n",
    "    max_cluster_out_f.write(item_temp)\n",
    "index = 0\n",
    "for item_temp in li_in_max_cluster:\n",
    "    index += 1\n",
    "    line_temp = str(index) + \" \" + key_combo_at[item_temp] + \" [1] \"\n",
    "    line_temp += \"{0:18.15F}{1:18.15F}{2:18.15F} \".format(\n",
    "        key_combo_coord[item_temp][0],\n",
    "        key_combo_coord[item_temp][1],\n",
    "        key_combo_coord[item_temp][2])\n",
    "    line_temp += (item_temp.split(\"-\")[3] + \" \")\n",
    "    line_temp += (item_temp.split(\"-\")[0] + \" \")\n",
    "    line_temp += (item_temp.split(\"-\")[1] + \" \")\n",
    "    line_temp += (item_temp.split(\"-\")[2])\n",
    "    max_cluster_out_f.write(line_temp + \"\\n\")\n",
    "max_cluster_out_f.close()"
   ]
  },
  {
   "cell_type": "code",
   "execution_count": null,
   "id": "de57a192-2c6c-40b5-af24-7e9eaf497415",
   "metadata": {},
   "outputs": [],
   "source": []
  }
 ],
 "metadata": {
  "kernelspec": {
   "display_name": "Python (RMCProfile)",
   "language": "python",
   "name": "rmcprofile"
  },
  "language_info": {
   "codemirror_mode": {
    "name": "ipython",
    "version": 3
   },
   "file_extension": ".py",
   "mimetype": "text/x-python",
   "name": "python",
   "nbconvert_exporter": "python",
   "pygments_lexer": "ipython3",
   "version": "3.7.15"
  },
  "widgets": {
   "application/vnd.jupyter.widget-state+json": {
    "state": {},
    "version_major": 2,
    "version_minor": 0
   }
  }
 },
 "nbformat": 4,
 "nbformat_minor": 5
}
