{
 "cells": [
  {
   "cell_type": "code",
   "execution_count": 1,
   "id": "ddf9594e-8be8-4583-9b18-64c7f38a0557",
   "metadata": {
    "execution": {
     "iopub.execute_input": "2024-01-19T15:46:07.513220Z",
     "iopub.status.busy": "2024-01-19T15:46:07.512903Z",
     "iopub.status.idle": "2024-01-19T15:46:07.599783Z",
     "shell.execute_reply": "2024-01-19T15:46:07.599049Z",
     "shell.execute_reply.started": "2024-01-19T15:46:07.513198Z"
    },
    "tags": []
   },
   "outputs": [],
   "source": [
    "import sys\n",
    "from rmc_tools import rmc6f_stuff\n",
    "import copy"
   ]
  },
  {
   "cell_type": "code",
   "execution_count": 2,
   "id": "108e3619-99c4-4361-8dae-5804bf77bdb5",
   "metadata": {
    "execution": {
     "iopub.execute_input": "2024-01-19T15:46:07.602003Z",
     "iopub.status.busy": "2024-01-19T15:46:07.601491Z",
     "iopub.status.idle": "2024-01-19T15:46:07.822404Z",
     "shell.execute_reply": "2024-01-19T15:46:07.821575Z",
     "shell.execute_reply.started": "2024-01-19T15:46:07.601973Z"
    },
    "tags": []
   },
   "outputs": [
    {
     "name": "stdout",
     "output_type": "stream",
     "text": [
      "\n",
      "Reading in the RMC6F configuration...\n",
      "Progress: \n",
      "....5%....10%....15%....20%\n",
      "....25%....30%....35%....40%\n",
      "....45%....50%....55%....60%\n",
      "....65%....70%....75%....80%\n",
      "....85%....90%....95%....100%\n",
      "\n",
      "------------------------------------------\n",
      "RMC6F configuration successfully read in.\n",
      "Time taken:      0.209 s\n",
      "------------------------------------------\n"
     ]
    }
   ],
   "source": [
    "rmc6f_file_name = \"glass_ceramic.rmc6f\"\n",
    "lili_ul = 5.0\n",
    "lio_ul = 2.0\n",
    "\n",
    "input_rmc_config = rmc6f_stuff.RMC6FReader(rmc6f_file_name)"
   ]
  },
  {
   "cell_type": "code",
   "execution_count": 3,
   "id": "38f013ea-bf55-4ba3-98b0-1a9257520737",
   "metadata": {
    "execution": {
     "iopub.execute_input": "2024-01-19T15:46:07.823407Z",
     "iopub.status.busy": "2024-01-19T15:46:07.823237Z",
     "iopub.status.idle": "2024-01-19T15:53:36.688746Z",
     "shell.execute_reply": "2024-01-19T15:53:36.687790Z",
     "shell.execute_reply.started": "2024-01-19T15:46:07.823389Z"
    },
    "tags": []
   },
   "outputs": [],
   "source": [
    "all_neigh = dict()\n",
    "key_combo_at = dict()\n",
    "key_combo_coord = dict()\n",
    "\n",
    "for i in range(input_rmc_config.numAtoms):\n",
    "    line_s = input_rmc_config.atomsLine[i].strip()\n",
    "    atom_key_combo = line_s.split()[-3] + \"-\"\n",
    "    atom_key_combo += (line_s.split()[-2] + \"-\")\n",
    "    atom_key_combo += (line_s.split()[-1] + \"-\")\n",
    "    atom_key_combo += (line_s.split()[-4])\n",
    "    key_combo_at[atom_key_combo] = input_rmc_config.atomsEle[i]\n",
    "    key_combo_coord[atom_key_combo] = input_rmc_config.atomsCoord[i]\n",
    "    \n",
    "    if input_rmc_config.atomsEle[i] == \"Li\":\n",
    "        atom_coord_1 = input_rmc_config.atomsCoordInt[i]\n",
    "        all_neigh[atom_key_combo] = list()\n",
    "        for j in range(input_rmc_config.numAtoms):\n",
    "            cond1 = input_rmc_config.atomsEle[j] == \"Li\"\n",
    "            cond2 = input_rmc_config.atomsEle[j] == \"O\"\n",
    "            if cond1 or cond2:\n",
    "                line_s = input_rmc_config.atomsLine[j].strip()\n",
    "                atom_key_combo1 = line_s.split()[-3] + \"-\"\n",
    "                atom_key_combo1 += (line_s.split()[-2] + \"-\")\n",
    "                atom_key_combo1 += (line_s.split()[-1] + \"-\")\n",
    "                atom_key_combo1 += (line_s.split()[-4])\n",
    "\n",
    "                atom_coord_2 = input_rmc_config.atomsCoordInt[j]\n",
    "                dist_temp = rmc6f_stuff.dist_calc_coord(\n",
    "                    atom_coord_1, atom_coord_2,\n",
    "                    input_rmc_config.vectors\n",
    "                )\n",
    "                if cond1 and dist_temp <= lili_ul and dist_temp > 1.E-5:\n",
    "                    all_neigh[atom_key_combo].append(atom_key_combo1)\n",
    "                if cond2 and dist_temp <= lio_ul and dist_temp > 1.E-5:\n",
    "                    all_neigh[atom_key_combo].append(atom_key_combo1)"
   ]
  },
  {
   "cell_type": "code",
   "execution_count": 4,
   "id": "942c87ce-862f-4699-be77-15bf641f69ef",
   "metadata": {
    "execution": {
     "iopub.execute_input": "2024-01-19T15:53:36.690055Z",
     "iopub.status.busy": "2024-01-19T15:53:36.689859Z",
     "iopub.status.idle": "2024-01-19T15:53:36.734518Z",
     "shell.execute_reply": "2024-01-19T15:53:36.733802Z",
     "shell.execute_reply.started": "2024-01-19T15:53:36.690035Z"
    },
    "tags": []
   },
   "outputs": [],
   "source": [
    "all_neigh_final = copy.deepcopy(all_neigh)\n",
    "for key, item in all_neigh.items():\n",
    "    for key_key in item:\n",
    "        if key_combo_at[key_key] == \"Li\":\n",
    "            neigh_tmp = all_neigh[key_key]\n",
    "            common_list = list(set(item) & set(neigh_tmp))\n",
    "            num_cm_ta = 0\n",
    "            for common_site in common_list:\n",
    "                if key_combo_at[common_site] == \"O\":\n",
    "                    num_cm_ta += 1\n",
    "            if num_cm_ta > 0:\n",
    "                if key_key in all_neigh_final[key]:\n",
    "                    all_neigh_final[key].remove(key_key)\n",
    "                if key in all_neigh_final[key_key]:\n",
    "                    all_neigh_final[key_key].remove(key)\n",
    "\n",
    "all_neigh_final_f = dict()\n",
    "for key in all_neigh_final:\n",
    "    all_neigh_final_f[key] = list()\n",
    "    for item in all_neigh_final[key]:\n",
    "        if key_combo_at[item] != \"O\":\n",
    "            all_neigh_final_f[key].append(item)"
   ]
  },
  {
   "cell_type": "code",
   "execution_count": 5,
   "id": "863dc1c1-898a-4631-8c5a-008b00bf2478",
   "metadata": {
    "execution": {
     "iopub.execute_input": "2024-01-19T15:53:36.737180Z",
     "iopub.status.busy": "2024-01-19T15:53:36.736549Z",
     "iopub.status.idle": "2024-01-19T15:53:36.740340Z",
     "shell.execute_reply": "2024-01-19T15:53:36.739693Z",
     "shell.execute_reply.started": "2024-01-19T15:53:36.737158Z"
    },
    "tags": []
   },
   "outputs": [],
   "source": [
    "cluster_num = 0\n",
    "num_in_cluster = dict()\n",
    "num_in_cluster[0] = 0\n",
    "site_cluster = dict()\n",
    "prop_cluster = dict()\n",
    "max_cluster = 1E10"
   ]
  },
  {
   "cell_type": "code",
   "execution_count": 6,
   "id": "52b4f35b-bcd7-4b47-b393-27d1f1c360e5",
   "metadata": {
    "execution": {
     "iopub.execute_input": "2024-01-19T15:53:36.741197Z",
     "iopub.status.busy": "2024-01-19T15:53:36.741041Z",
     "iopub.status.idle": "2024-01-19T15:53:41.224669Z",
     "shell.execute_reply": "2024-01-19T15:53:41.223900Z",
     "shell.execute_reply.started": "2024-01-19T15:53:36.741182Z"
    },
    "tags": []
   },
   "outputs": [],
   "source": [
    "for key in all_neigh_final_f:\n",
    "    site_cluster[key] = 0\n",
    "\n",
    "for key, item in all_neigh_final_f.items():\n",
    "    neigh_found = False\n",
    "    neigh_tmp = list()\n",
    "    for neigh in item:\n",
    "        if site_cluster[neigh] != 0:\n",
    "            neigh_tmp.append(neigh)\n",
    "            neigh_found = True\n",
    "            \n",
    "            r = site_cluster[neigh]\n",
    "            t = r\n",
    "            t = -num_in_cluster[t]\n",
    "            \n",
    "            if t < 0:\n",
    "                prop_cluster[neigh] = r\n",
    "            else:\n",
    "                r = t\n",
    "                t = -num_in_cluster[t]\n",
    "                if t < 0:\n",
    "                    prop_cluster[neigh] = r\n",
    "                else:\n",
    "                    while t > 0:\n",
    "                        r = t\n",
    "                        t = -num_in_cluster[t]\n",
    "                    cluster_temp = site_cluster[neigh]\n",
    "                    num_in_cluster[cluster_temp] = -r\n",
    "                    prop_cluster[neigh] = r\n",
    "\n",
    "    if not neigh_found:\n",
    "        cluster_num += 1\n",
    "        site_cluster[key] = cluster_num\n",
    "        num_in_cluster[cluster_num] = 1\n",
    "    else:\n",
    "        min_proper = 1E10\n",
    "        for item_temp in neigh_tmp:\n",
    "            if prop_cluster[item_temp] < min_proper:\n",
    "                min_proper = prop_cluster[item_temp]\n",
    "        site_cluster[key] = min_proper\n",
    "\n",
    "        prop_c_uniq = []\n",
    "        for item_temp in neigh_tmp:\n",
    "            if prop_cluster[item_temp] not in prop_c_uniq:\n",
    "                prop_c_uniq.append(prop_cluster[item_temp])\n",
    "\n",
    "        temp_temp = 0\n",
    "        for item_temp in prop_c_uniq:\n",
    "            temp_temp += num_in_cluster[item_temp]\n",
    "\n",
    "        for item_temp in prop_c_uniq:\n",
    "            if item_temp == min_proper:\n",
    "                num_in_cluster[item_temp] = temp_temp + 1\n",
    "            else:\n",
    "                num_in_cluster[item_temp] = -min_proper\n",
    "\n",
    "    site_prop = {}\n",
    "    for key in all_neigh_final:\n",
    "        num_temp = num_in_cluster[site_cluster[key]]\n",
    "        if num_temp >= 0:\n",
    "            site_prop[key] = site_cluster[key]\n",
    "        elif num_temp < 0:\n",
    "            while num_in_cluster[-num_temp] < 0:\n",
    "                num_temp = num_in_cluster[-num_temp]\n",
    "            site_prop[key] = -num_temp"
   ]
  },
  {
   "cell_type": "code",
   "execution_count": 7,
   "id": "35e4fc7c-52ed-455c-9d50-2d1428ff7013",
   "metadata": {
    "execution": {
     "iopub.execute_input": "2024-01-19T15:53:41.225816Z",
     "iopub.status.busy": "2024-01-19T15:53:41.225630Z",
     "iopub.status.idle": "2024-01-19T15:53:41.230895Z",
     "shell.execute_reply": "2024-01-19T15:53:41.230265Z",
     "shell.execute_reply.started": "2024-01-19T15:53:41.225799Z"
    },
    "tags": []
   },
   "outputs": [],
   "source": [
    "num_temp_f = open(\"cluster.out\", \"w\")\n",
    "num_temp_f.write(\"Cluster\\t# of Li atoms\\n\")\n",
    "for j in range(cluster_num):\n",
    "    j_temp = j + 1\n",
    "    if num_in_cluster[j_temp] > 0:\n",
    "        num_temp_f.write(\"{0:5d}{1:10d}\\n\".format(j_temp, num_in_cluster[j_temp]))\n",
    "num_temp_f.close()"
   ]
  },
  {
   "cell_type": "code",
   "execution_count": 8,
   "id": "ea0b180d-46eb-4087-a93f-4109d05952cf",
   "metadata": {
    "execution": {
     "iopub.execute_input": "2024-01-19T15:53:41.231918Z",
     "iopub.status.busy": "2024-01-19T15:53:41.231757Z",
     "iopub.status.idle": "2024-01-19T15:53:41.257749Z",
     "shell.execute_reply": "2024-01-19T15:53:41.257117Z",
     "shell.execute_reply.started": "2024-01-19T15:53:41.231903Z"
    },
    "tags": []
   },
   "outputs": [],
   "source": [
    "max_num = -1E10\n",
    "for j in range(cluster_num):\n",
    "    j_temp = j + 1\n",
    "    if num_in_cluster[j_temp] > max_num:\n",
    "        max_num = num_in_cluster[j_temp]\n",
    "        max_cluster = j_temp\n",
    "\n",
    "li_in_max_cluster = []\n",
    "for item in all_neigh_final_f:\n",
    "    if site_prop[item] == max_cluster:\n",
    "        li_in_max_cluster.append(item)\n",
    "\n",
    "max_cluster_out_f = open(\"max_cluster.rmc6f\", \"w\")\n",
    "for item_temp in input_rmc_config.header:\n",
    "    max_cluster_out_f.write(item_temp)\n",
    "index = 0\n",
    "for item_temp in li_in_max_cluster:\n",
    "    index += 1\n",
    "    line_temp = str(index) + \" \" + key_combo_at[item_temp] + \" [1] \"\n",
    "    line_temp += \"{0:18.15F}{1:18.15F}{2:18.15F} \".format(\n",
    "        key_combo_coord[item_temp][0],\n",
    "        key_combo_coord[item_temp][1],\n",
    "        key_combo_coord[item_temp][2])\n",
    "    line_temp += (item_temp.split(\"-\")[3] + \" \")\n",
    "    line_temp += (item_temp.split(\"-\")[0] + \" \")\n",
    "    line_temp += (item_temp.split(\"-\")[1] + \" \")\n",
    "    line_temp += (item_temp.split(\"-\")[2])\n",
    "    max_cluster_out_f.write(line_temp + \"\\n\")\n",
    "max_cluster_out_f.close()"
   ]
  }
 ],
 "metadata": {
  "kernelspec": {
   "display_name": "Python (RMCProfile)",
   "language": "python",
   "name": "rmcprofile"
  },
  "language_info": {
   "codemirror_mode": {
    "name": "ipython",
    "version": 3
   },
   "file_extension": ".py",
   "mimetype": "text/x-python",
   "name": "python",
   "nbconvert_exporter": "python",
   "pygments_lexer": "ipython3",
   "version": "3.7.15"
  },
  "widgets": {
   "application/vnd.jupyter.widget-state+json": {
    "state": {},
    "version_major": 2,
    "version_minor": 0
   }
  }
 },
 "nbformat": 4,
 "nbformat_minor": 5
}
