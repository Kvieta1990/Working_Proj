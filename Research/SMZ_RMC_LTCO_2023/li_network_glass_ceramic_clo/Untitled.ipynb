{
 "cells": [
  {
   "cell_type": "code",
   "execution_count": 1,
   "id": "905ed2e4-6691-42d4-9c64-900c8a2d2169",
   "metadata": {
    "execution": {
     "iopub.execute_input": "2024-01-21T04:10:02.738523Z",
     "iopub.status.busy": "2024-01-21T04:10:02.737648Z",
     "iopub.status.idle": "2024-01-21T04:10:02.742314Z",
     "shell.execute_reply": "2024-01-21T04:10:02.741645Z",
     "shell.execute_reply.started": "2024-01-21T04:10:02.738479Z"
    }
   },
   "outputs": [],
   "source": [
    "import re"
   ]
  },
  {
   "cell_type": "code",
   "execution_count": 3,
   "id": "7dfa0d1b-f71d-40ad-b609-46493955b1ba",
   "metadata": {
    "execution": {
     "iopub.execute_input": "2024-01-21T04:10:26.942413Z",
     "iopub.status.busy": "2024-01-21T04:10:26.941679Z",
     "iopub.status.idle": "2024-01-21T04:10:26.946614Z",
     "shell.execute_reply": "2024-01-21T04:10:26.946165Z",
     "shell.execute_reply.started": "2024-01-21T04:10:26.942388Z"
    },
    "tags": []
   },
   "outputs": [
    {
     "data": {
      "text/plain": [
       "True"
      ]
     },
     "execution_count": 3,
     "metadata": {},
     "output_type": "execute_result"
    }
   ],
   "source": [
    "bool(re.match(r'qdamp_qbroad_option=y', 'qdamp_qbroad_option=y'))"
   ]
  },
  {
   "cell_type": "code",
   "execution_count": null,
   "id": "e71a09c5-523c-49da-b0bc-303e0d3f130c",
   "metadata": {},
   "outputs": [],
   "source": []
  }
 ],
 "metadata": {
  "kernelspec": {
   "display_name": "Python (default)",
   "language": "python",
   "name": "python3"
  },
  "language_info": {
   "codemirror_mode": {
    "name": "ipython",
    "version": 3
   },
   "file_extension": ".py",
   "mimetype": "text/x-python",
   "name": "python",
   "nbconvert_exporter": "python",
   "pygments_lexer": "ipython3",
   "version": "3.7.12"
  },
  "widgets": {
   "application/vnd.jupyter.widget-state+json": {
    "state": {},
    "version_major": 2,
    "version_minor": 0
   }
  }
 },
 "nbformat": 4,
 "nbformat_minor": 5
}
