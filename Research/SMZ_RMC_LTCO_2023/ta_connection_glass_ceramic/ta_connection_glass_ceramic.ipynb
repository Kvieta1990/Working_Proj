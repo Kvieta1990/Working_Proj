{
 "cells": [
  {
   "cell_type": "code",
   "execution_count": 1,
   "id": "ddf9594e-8be8-4583-9b18-64c7f38a0557",
   "metadata": {
    "execution": {
     "iopub.execute_input": "2024-01-19T03:56:24.195174Z",
     "iopub.status.busy": "2024-01-19T03:56:24.194863Z",
     "iopub.status.idle": "2024-01-19T03:56:24.293505Z",
     "shell.execute_reply": "2024-01-19T03:56:24.292661Z",
     "shell.execute_reply.started": "2024-01-19T03:56:24.195154Z"
    },
    "tags": []
   },
   "outputs": [],
   "source": [
    "import sys\n",
    "from rmc_tools import rmc6f_stuff\n",
    "import copy"
   ]
  },
  {
   "cell_type": "code",
   "execution_count": 2,
   "id": "108e3619-99c4-4361-8dae-5804bf77bdb5",
   "metadata": {
    "execution": {
     "iopub.execute_input": "2024-01-19T03:56:24.295627Z",
     "iopub.status.busy": "2024-01-19T03:56:24.294986Z",
     "iopub.status.idle": "2024-01-19T03:56:24.519772Z",
     "shell.execute_reply": "2024-01-19T03:56:24.518813Z",
     "shell.execute_reply.started": "2024-01-19T03:56:24.295605Z"
    },
    "tags": []
   },
   "outputs": [
    {
     "name": "stdout",
     "output_type": "stream",
     "text": [
      "\n",
      "Reading in the RMC6F configuration...\n",
      "Progress: \n",
      "....5%....10%....15%....20%\n",
      "....25%....30%....35%....40%\n",
      "....45%....50%....55%....60%\n",
      "....65%....70%....75%....80%\n",
      "....85%....90%....95%....100%\n",
      "\n",
      "------------------------------------------\n",
      "RMC6F configuration successfully read in.\n",
      "Time taken:      0.219 s\n",
      "------------------------------------------\n"
     ]
    }
   ],
   "source": [
    "rmc6f_file_name = \"glass_ceramic.rmc6f\"\n",
    "tata_ul = 4.5\n",
    "taclo_ul = 3.0\n",
    "\n",
    "input_rmc_config = rmc6f_stuff.RMC6FReader(rmc6f_file_name)"
   ]
  },
  {
   "cell_type": "code",
   "execution_count": 3,
   "id": "38f013ea-bf55-4ba3-98b0-1a9257520737",
   "metadata": {
    "execution": {
     "iopub.execute_input": "2024-01-19T03:56:24.520978Z",
     "iopub.status.busy": "2024-01-19T03:56:24.520800Z",
     "iopub.status.idle": "2024-01-19T04:14:32.214752Z",
     "shell.execute_reply": "2024-01-19T04:14:32.213764Z",
     "shell.execute_reply.started": "2024-01-19T03:56:24.520960Z"
    },
    "tags": []
   },
   "outputs": [],
   "source": [
    "all_neigh = dict()\n",
    "key_combo_at = dict()\n",
    "key_combo_coord = dict()\n",
    "\n",
    "for i in range(input_rmc_config.numAtoms):\n",
    "    line_s = input_rmc_config.atomsLine[i].strip()\n",
    "    atom_key_combo = line_s.split()[-3] + \"-\"\n",
    "    atom_key_combo += (line_s.split()[-2] + \"-\")\n",
    "    atom_key_combo += (line_s.split()[-1] + \"-\")\n",
    "    atom_key_combo += (line_s.split()[-4])\n",
    "    key_combo_at[atom_key_combo] = input_rmc_config.atomsEle[i]\n",
    "    key_combo_coord[atom_key_combo] = input_rmc_config.atomsCoord[i]\n",
    "    \n",
    "    if input_rmc_config.atomsEle[i] == \"Ta\":\n",
    "        atom_coord_1 = input_rmc_config.atomsCoordInt[i]\n",
    "        all_neigh[atom_key_combo] = list()\n",
    "        for j in range(input_rmc_config.numAtoms):\n",
    "            cond1 = input_rmc_config.atomsEle[j] == \"Ta\"\n",
    "            cond2 = input_rmc_config.atomsEle[j] == \"Cl\"\n",
    "            cond3 = input_rmc_config.atomsEle[j] == \"O\"\n",
    "            if cond1 or cond2 or cond3:\n",
    "                line_s = input_rmc_config.atomsLine[j].strip()\n",
    "                atom_key_combo1 = line_s.split()[-3] + \"-\"\n",
    "                atom_key_combo1 += (line_s.split()[-2] + \"-\")\n",
    "                atom_key_combo1 += (line_s.split()[-1] + \"-\")\n",
    "                atom_key_combo1 += (line_s.split()[-4])\n",
    "\n",
    "                atom_coord_2 = input_rmc_config.atomsCoordInt[j]\n",
    "                dist_temp = rmc6f_stuff.dist_calc_coord(\n",
    "                    atom_coord_1, atom_coord_2,\n",
    "                    input_rmc_config.vectors\n",
    "                )\n",
    "                if cond1 and dist_temp <= tata_ul and dist_temp > 1.E-5:\n",
    "                    all_neigh[atom_key_combo].append(atom_key_combo1)\n",
    "                if (cond2 or cond3) and dist_temp <= taclo_ul and dist_temp > 1.E-5:\n",
    "                    all_neigh[atom_key_combo].append(atom_key_combo1)"
   ]
  },
  {
   "cell_type": "code",
   "execution_count": 4,
   "id": "72d67c4f-b178-4a75-81e9-e2a0f19b7557",
   "metadata": {
    "execution": {
     "iopub.execute_input": "2024-01-19T04:14:32.217085Z",
     "iopub.status.busy": "2024-01-19T04:14:32.216899Z",
     "iopub.status.idle": "2024-01-19T04:14:32.265408Z",
     "shell.execute_reply": "2024-01-19T04:14:32.264681Z",
     "shell.execute_reply.started": "2024-01-19T04:14:32.217068Z"
    },
    "tags": []
   },
   "outputs": [],
   "source": [
    "single_share = 0\n",
    "single_share_o = 0\n",
    "single_share_cl = 0\n",
    "all_neigh_final = copy.deepcopy(all_neigh)\n",
    "for key, item in all_neigh.items():\n",
    "    for key_key in item:\n",
    "        if key_combo_at[key_key] == \"Ta\":\n",
    "            neigh_tmp = all_neigh[key_key]\n",
    "            common_list = list(set(item) & set(neigh_tmp))\n",
    "            num_cm_ta = 0\n",
    "            num_cm_o = 0\n",
    "            num_cm_cl = 0\n",
    "            for common_site in common_list:\n",
    "                if key_combo_at[common_site] == \"Cl\" or key_combo_at[common_site] == \"O\":\n",
    "                    num_cm_ta += 1\n",
    "                    if key_combo_at[common_site] == \"Cl\":\n",
    "                        num_cm_cl += 1\n",
    "                    if key_combo_at[common_site] == \"O\":\n",
    "                        num_cm_o += 1\n",
    "            if num_cm_ta == 1:\n",
    "                single_share += 1\n",
    "                single_share_o += num_cm_o\n",
    "                single_share_cl += num_cm_cl"
   ]
  },
  {
   "cell_type": "code",
   "execution_count": 5,
   "id": "1eb67155-c97d-48ae-84b7-f7ffd51c84d9",
   "metadata": {
    "execution": {
     "iopub.execute_input": "2024-01-19T04:14:32.266514Z",
     "iopub.status.busy": "2024-01-19T04:14:32.266349Z",
     "iopub.status.idle": "2024-01-19T04:14:32.270321Z",
     "shell.execute_reply": "2024-01-19T04:14:32.269547Z",
     "shell.execute_reply.started": "2024-01-19T04:14:32.266497Z"
    },
    "tags": []
   },
   "outputs": [
    {
     "name": "stdout",
     "output_type": "stream",
     "text": [
      "3478\n",
      "3474\n",
      "4\n"
     ]
    }
   ],
   "source": [
    "print(int(single_share / 2))\n",
    "print(int(single_share_o / 2))\n",
    "print(int(single_share_cl / 2))"
   ]
  },
  {
   "cell_type": "code",
   "execution_count": 6,
   "id": "0f72d216-e09c-4dee-b6ee-543461d0d2bb",
   "metadata": {
    "execution": {
     "iopub.execute_input": "2024-01-19T04:14:32.271477Z",
     "iopub.status.busy": "2024-01-19T04:14:32.271306Z",
     "iopub.status.idle": "2024-01-19T04:14:32.319255Z",
     "shell.execute_reply": "2024-01-19T04:14:32.318397Z",
     "shell.execute_reply.started": "2024-01-19T04:14:32.271462Z"
    },
    "tags": []
   },
   "outputs": [],
   "source": [
    "double_share = 0\n",
    "double_share_o = 0\n",
    "double_share_cl = 0\n",
    "all_neigh_final = copy.deepcopy(all_neigh)\n",
    "for key, item in all_neigh.items():\n",
    "    for key_key in item:\n",
    "        if key_combo_at[key_key] == \"Ta\":\n",
    "            neigh_tmp = all_neigh[key_key]\n",
    "            common_list = list(set(item) & set(neigh_tmp))\n",
    "            num_cm_ta = 0\n",
    "            num_cm_o = 0\n",
    "            num_cm_cl = 0\n",
    "            for common_site in common_list:\n",
    "                if key_combo_at[common_site] == \"Cl\" or key_combo_at[common_site] == \"O\":\n",
    "                    num_cm_ta += 1\n",
    "                    if key_combo_at[common_site] == \"Cl\":\n",
    "                        num_cm_cl += 1\n",
    "                    if key_combo_at[common_site] == \"O\":\n",
    "                        num_cm_o += 1\n",
    "            if num_cm_ta == 2:\n",
    "                double_share += 1\n",
    "                double_share_o += num_cm_o\n",
    "                double_share_cl += num_cm_cl"
   ]
  },
  {
   "cell_type": "code",
   "execution_count": 7,
   "id": "3a0da07b-41fc-47df-8a72-25a4c59c18a2",
   "metadata": {
    "execution": {
     "iopub.execute_input": "2024-01-19T04:14:32.320693Z",
     "iopub.status.busy": "2024-01-19T04:14:32.320500Z",
     "iopub.status.idle": "2024-01-19T04:14:32.324416Z",
     "shell.execute_reply": "2024-01-19T04:14:32.323702Z",
     "shell.execute_reply.started": "2024-01-19T04:14:32.320676Z"
    },
    "tags": []
   },
   "outputs": [
    {
     "name": "stdout",
     "output_type": "stream",
     "text": [
      "91\n",
      "174\n",
      "8\n"
     ]
    }
   ],
   "source": [
    "print(int(double_share / 2))\n",
    "print(int(double_share_o / 2))\n",
    "print(int(double_share_cl / 2))"
   ]
  },
  {
   "cell_type": "code",
   "execution_count": 8,
   "id": "942c87ce-862f-4699-be77-15bf641f69ef",
   "metadata": {
    "execution": {
     "iopub.execute_input": "2024-01-19T04:14:32.325389Z",
     "iopub.status.busy": "2024-01-19T04:14:32.325224Z",
     "iopub.status.idle": "2024-01-19T04:14:32.351938Z",
     "shell.execute_reply": "2024-01-19T04:14:32.351200Z",
     "shell.execute_reply.started": "2024-01-19T04:14:32.325373Z"
    },
    "tags": []
   },
   "outputs": [],
   "source": [
    "triple_share = 0\n",
    "all_neigh_final = copy.deepcopy(all_neigh)\n",
    "for key, item in all_neigh.items():\n",
    "    for key_key in item:\n",
    "        if key_combo_at[key_key] == \"Li\":\n",
    "            neigh_tmp = all_neigh[key_key]\n",
    "            common_list = list(set(item) & set(neigh_tmp))\n",
    "            num_cm_ta = 0\n",
    "            for common_site in common_list:\n",
    "                if key_combo_at[common_site] == \"Cl\" or key_combo_at[common_site] == \"O\":\n",
    "                    num_cm_ta += 1\n",
    "            if num_cm_ta == 3:\n",
    "                triple_share += 1"
   ]
  },
  {
   "cell_type": "code",
   "execution_count": 9,
   "id": "c333dca5-ac96-4708-b74f-3515bdd65969",
   "metadata": {
    "execution": {
     "iopub.execute_input": "2024-01-19T04:14:32.353123Z",
     "iopub.status.busy": "2024-01-19T04:14:32.352952Z",
     "iopub.status.idle": "2024-01-19T04:14:32.357164Z",
     "shell.execute_reply": "2024-01-19T04:14:32.356521Z",
     "shell.execute_reply.started": "2024-01-19T04:14:32.353106Z"
    }
   },
   "outputs": [
    {
     "data": {
      "text/plain": [
       "0.0"
      ]
     },
     "execution_count": 9,
     "metadata": {},
     "output_type": "execute_result"
    }
   ],
   "source": [
    "triple_share / 2"
   ]
  },
  {
   "cell_type": "code",
   "execution_count": null,
   "id": "4f5e46e5-e848-4a2d-aeb4-a04fb95bff9c",
   "metadata": {},
   "outputs": [],
   "source": []
  }
 ],
 "metadata": {
  "kernelspec": {
   "display_name": "Python (RMCProfile)",
   "language": "python",
   "name": "rmcprofile"
  },
  "language_info": {
   "codemirror_mode": {
    "name": "ipython",
    "version": 3
   },
   "file_extension": ".py",
   "mimetype": "text/x-python",
   "name": "python",
   "nbconvert_exporter": "python",
   "pygments_lexer": "ipython3",
   "version": "3.7.15"
  },
  "widgets": {
   "application/vnd.jupyter.widget-state+json": {
    "state": {},
    "version_major": 2,
    "version_minor": 0
   }
  }
 },
 "nbformat": 4,
 "nbformat_minor": 5
}
