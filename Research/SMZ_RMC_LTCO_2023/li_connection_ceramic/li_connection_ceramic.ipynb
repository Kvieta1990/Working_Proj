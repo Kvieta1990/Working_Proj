{
 "cells": [
  {
   "cell_type": "code",
   "execution_count": 1,
   "id": "ddf9594e-8be8-4583-9b18-64c7f38a0557",
   "metadata": {
    "execution": {
     "iopub.execute_input": "2024-01-11T01:15:09.350576Z",
     "iopub.status.busy": "2024-01-11T01:15:09.349963Z",
     "iopub.status.idle": "2024-01-11T01:15:09.594373Z",
     "shell.execute_reply": "2024-01-11T01:15:09.593444Z",
     "shell.execute_reply.started": "2024-01-11T01:15:09.350551Z"
    },
    "tags": []
   },
   "outputs": [],
   "source": [
    "import sys\n",
    "from rmc_tools import rmc6f_stuff\n",
    "import copy"
   ]
  },
  {
   "cell_type": "code",
   "execution_count": 2,
   "id": "108e3619-99c4-4361-8dae-5804bf77bdb5",
   "metadata": {
    "execution": {
     "iopub.execute_input": "2024-01-11T01:15:10.316723Z",
     "iopub.status.busy": "2024-01-11T01:15:10.316037Z",
     "iopub.status.idle": "2024-01-11T01:15:10.544188Z",
     "shell.execute_reply": "2024-01-11T01:15:10.543280Z",
     "shell.execute_reply.started": "2024-01-11T01:15:10.316695Z"
    },
    "tags": []
   },
   "outputs": [
    {
     "name": "stdout",
     "output_type": "stream",
     "text": [
      "\n",
      "Reading in the RMC6F configuration...\n",
      "Progress: \n",
      "....5%....10%....15%....20%\n",
      "....25%....30%....35%....40%\n",
      "....45%....50%....55%....60%\n",
      "....65%....70%....75%....80%\n",
      "....85%....90%....95%....100%\n",
      "\n",
      "------------------------------------------\n",
      "RMC6F configuration successfully read in.\n",
      "Time taken:      0.223 s\n",
      "------------------------------------------\n"
     ]
    }
   ],
   "source": [
    "rmc6f_file_name = \"ceramic.rmc6f\"\n",
    "lili_ul = 5.0\n",
    "licl_ul = 3.5\n",
    "\n",
    "input_rmc_config = rmc6f_stuff.RMC6FReader(rmc6f_file_name)"
   ]
  },
  {
   "cell_type": "code",
   "execution_count": 3,
   "id": "38f013ea-bf55-4ba3-98b0-1a9257520737",
   "metadata": {
    "execution": {
     "iopub.execute_input": "2024-01-11T01:15:12.022162Z",
     "iopub.status.busy": "2024-01-11T01:15:12.021702Z",
     "iopub.status.idle": "2024-01-11T01:29:30.108638Z",
     "shell.execute_reply": "2024-01-11T01:29:30.107695Z",
     "shell.execute_reply.started": "2024-01-11T01:15:12.022143Z"
    },
    "tags": []
   },
   "outputs": [],
   "source": [
    "all_neigh = dict()\n",
    "key_combo_at = dict()\n",
    "key_combo_coord = dict()\n",
    "\n",
    "for i in range(input_rmc_config.numAtoms):\n",
    "    line_s = input_rmc_config.atomsLine[i].strip()\n",
    "    atom_key_combo = line_s.split()[-3] + \"-\"\n",
    "    atom_key_combo += (line_s.split()[-2] + \"-\")\n",
    "    atom_key_combo += (line_s.split()[-1] + \"-\")\n",
    "    atom_key_combo += (line_s.split()[-4])\n",
    "    key_combo_at[atom_key_combo] = input_rmc_config.atomsEle[i]\n",
    "    key_combo_coord[atom_key_combo] = input_rmc_config.atomsCoord[i]\n",
    "    \n",
    "    if input_rmc_config.atomsEle[i] == \"Li\":\n",
    "        atom_coord_1 = input_rmc_config.atomsCoordInt[i]\n",
    "        all_neigh[atom_key_combo] = list()\n",
    "        for j in range(input_rmc_config.numAtoms):\n",
    "            cond1 = input_rmc_config.atomsEle[j] == \"Li\"\n",
    "            cond2 = input_rmc_config.atomsEle[j] == \"Cl\"\n",
    "            if cond1 or cond2:\n",
    "                line_s = input_rmc_config.atomsLine[j].strip()\n",
    "                atom_key_combo1 = line_s.split()[-3] + \"-\"\n",
    "                atom_key_combo1 += (line_s.split()[-2] + \"-\")\n",
    "                atom_key_combo1 += (line_s.split()[-1] + \"-\")\n",
    "                atom_key_combo1 += (line_s.split()[-4])\n",
    "\n",
    "                atom_coord_2 = input_rmc_config.atomsCoordInt[j]\n",
    "                dist_temp = rmc6f_stuff.dist_calc_coord(\n",
    "                    atom_coord_1, atom_coord_2,\n",
    "                    input_rmc_config.vectors\n",
    "                )\n",
    "                if cond1 and dist_temp <= lili_ul and dist_temp > 1.E-5:\n",
    "                    all_neigh[atom_key_combo].append(atom_key_combo1)\n",
    "                if cond2 and dist_temp <= licl_ul and dist_temp > 1.E-5:\n",
    "                    all_neigh[atom_key_combo].append(atom_key_combo1)"
   ]
  },
  {
   "cell_type": "code",
   "execution_count": 4,
   "id": "72d67c4f-b178-4a75-81e9-e2a0f19b7557",
   "metadata": {
    "execution": {
     "iopub.execute_input": "2024-01-11T01:30:03.005517Z",
     "iopub.status.busy": "2024-01-11T01:30:03.004660Z",
     "iopub.status.idle": "2024-01-11T01:30:03.074564Z",
     "shell.execute_reply": "2024-01-11T01:30:03.073826Z",
     "shell.execute_reply.started": "2024-01-11T01:30:03.005494Z"
    }
   },
   "outputs": [],
   "source": [
    "single_share = 0\n",
    "all_neigh_final = copy.deepcopy(all_neigh)\n",
    "for key, item in all_neigh.items():\n",
    "    for key_key in item:\n",
    "        if key_combo_at[key_key] == \"Li\":\n",
    "            neigh_tmp = all_neigh[key_key]\n",
    "            common_list = list(set(item) & set(neigh_tmp))\n",
    "            num_cm_ta = 0\n",
    "            for common_site in common_list:\n",
    "                if key_combo_at[common_site] == \"Cl\":\n",
    "                    num_cm_ta += 1\n",
    "            if num_cm_ta == 1:\n",
    "                single_share += 1"
   ]
  },
  {
   "cell_type": "code",
   "execution_count": 5,
   "id": "0f72d216-e09c-4dee-b6ee-543461d0d2bb",
   "metadata": {
    "execution": {
     "iopub.execute_input": "2024-01-11T01:30:03.975644Z",
     "iopub.status.busy": "2024-01-11T01:30:03.975446Z",
     "iopub.status.idle": "2024-01-11T01:30:04.041677Z",
     "shell.execute_reply": "2024-01-11T01:30:04.040972Z",
     "shell.execute_reply.started": "2024-01-11T01:30:03.975627Z"
    },
    "tags": []
   },
   "outputs": [],
   "source": [
    "double_share = 0\n",
    "all_neigh_final = copy.deepcopy(all_neigh)\n",
    "for key, item in all_neigh.items():\n",
    "    for key_key in item:\n",
    "        if key_combo_at[key_key] == \"Li\":\n",
    "            neigh_tmp = all_neigh[key_key]\n",
    "            common_list = list(set(item) & set(neigh_tmp))\n",
    "            num_cm_ta = 0\n",
    "            for common_site in common_list:\n",
    "                if key_combo_at[common_site] == \"Cl\":\n",
    "                    num_cm_ta += 1\n",
    "            if num_cm_ta == 2:\n",
    "                double_share += 1"
   ]
  },
  {
   "cell_type": "code",
   "execution_count": 6,
   "id": "942c87ce-862f-4699-be77-15bf641f69ef",
   "metadata": {
    "execution": {
     "iopub.execute_input": "2024-01-11T01:30:04.964324Z",
     "iopub.status.busy": "2024-01-11T01:30:04.963529Z",
     "iopub.status.idle": "2024-01-11T01:30:05.027773Z",
     "shell.execute_reply": "2024-01-11T01:30:05.027115Z",
     "shell.execute_reply.started": "2024-01-11T01:30:04.964304Z"
    },
    "tags": []
   },
   "outputs": [],
   "source": [
    "triple_share = 0\n",
    "all_neigh_final = copy.deepcopy(all_neigh)\n",
    "for key, item in all_neigh.items():\n",
    "    for key_key in item:\n",
    "        if key_combo_at[key_key] == \"Li\":\n",
    "            neigh_tmp = all_neigh[key_key]\n",
    "            common_list = list(set(item) & set(neigh_tmp))\n",
    "            num_cm_ta = 0\n",
    "            for common_site in common_list:\n",
    "                if key_combo_at[common_site] == \"Cl\":\n",
    "                    num_cm_ta += 1\n",
    "            if num_cm_ta == 3:\n",
    "                triple_share += 1"
   ]
  },
  {
   "cell_type": "code",
   "execution_count": 7,
   "id": "ab8d7bf7-62d5-4e90-8126-3de9a779ab41",
   "metadata": {
    "execution": {
     "iopub.execute_input": "2024-01-11T01:30:30.549626Z",
     "iopub.status.busy": "2024-01-11T01:30:30.548768Z",
     "iopub.status.idle": "2024-01-11T01:30:30.553699Z",
     "shell.execute_reply": "2024-01-11T01:30:30.553084Z",
     "shell.execute_reply.started": "2024-01-11T01:30:30.549603Z"
    }
   },
   "outputs": [
    {
     "name": "stdout",
     "output_type": "stream",
     "text": [
      "6026\n",
      "4958\n",
      "2168\n"
     ]
    }
   ],
   "source": [
    "print(single_share)\n",
    "print(double_share)\n",
    "print(triple_share)"
   ]
  },
  {
   "cell_type": "code",
   "execution_count": null,
   "id": "c333dca5-ac96-4708-b74f-3515bdd65969",
   "metadata": {},
   "outputs": [],
   "source": []
  }
 ],
 "metadata": {
  "kernelspec": {
   "display_name": "Python (RMCProfile)",
   "language": "python",
   "name": "rmcprofile"
  },
  "language_info": {
   "codemirror_mode": {
    "name": "ipython",
    "version": 3
   },
   "file_extension": ".py",
   "mimetype": "text/x-python",
   "name": "python",
   "nbconvert_exporter": "python",
   "pygments_lexer": "ipython3",
   "version": "3.7.15"
  },
  "widgets": {
   "application/vnd.jupyter.widget-state+json": {
    "state": {},
    "version_major": 2,
    "version_minor": 0
   }
  }
 },
 "nbformat": 4,
 "nbformat_minor": 5
}
