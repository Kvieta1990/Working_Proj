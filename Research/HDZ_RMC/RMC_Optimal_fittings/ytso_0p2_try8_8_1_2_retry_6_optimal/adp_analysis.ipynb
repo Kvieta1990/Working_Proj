{
 "cells": [
  {
   "cell_type": "markdown",
   "id": "4c5dc3e8-1878-467a-b35b-42fa7e711aea",
   "metadata": {
    "kernel": "SoS",
    "tags": []
   },
   "source": [
    "# Bash part -- ADP extraction"
   ]
  },
  {
   "cell_type": "code",
   "execution_count": 1,
   "id": "9eb0ab20-a354-4ba8-b462-0f02df3a1f50",
   "metadata": {
    "execution": {
     "iopub.execute_input": "2022-12-14T19:55:57.780826Z",
     "iopub.status.busy": "2022-12-14T19:55:56.382456Z",
     "iopub.status.idle": "2022-12-14T19:55:57.890029Z",
     "shell.execute_reply": "2022-12-14T19:55:57.889234Z"
    },
    "kernel": "Bash",
    "tags": []
   },
   "outputs": [],
   "source": [
    "stem_name=\"ytso_0p2\""
   ]
  },
  {
   "cell_type": "code",
   "execution_count": 2,
   "id": "89c3c498-fb6d-4455-9393-47ca7b7c8386",
   "metadata": {
    "execution": {
     "iopub.execute_input": "2022-12-14T19:56:54.713381Z",
     "iopub.status.busy": "2022-12-14T19:56:54.708868Z",
     "iopub.status.idle": "2022-12-14T19:56:59.738360Z",
     "shell.execute_reply": "2022-12-14T19:56:59.737616Z"
    },
    "kernel": "Bash"
   },
   "outputs": [
    {
     "name": "stdout",
     "output_type": "stream",
     "text": [
      " Job done by data2config. Enjoy your RMC journey!\n"
     ]
    }
   ],
   "source": [
    "data2config -noannotate -order [Yb Ti O Sn] -supercell [1 1 1] -rmc6f ${stem_name}.rmc6f\n",
    "mv ${stem_name}_new.rmc6f ${stem_name}_Ti_only.rmc6f"
   ]
  },
  {
   "cell_type": "markdown",
   "id": "b16399af-8f42-4383-a039-056eefcb40a3",
   "metadata": {
    "kernel": "Bash"
   },
   "source": [
    "> Here we need to open the generated `${stem_name}_Ti_only.rmc6f` file and remove the `Sn` atoms relevant lines manually."
   ]
  },
  {
   "cell_type": "code",
   "execution_count": 3,
   "id": "50174c9b-3edc-4717-973b-060328e98a28",
   "metadata": {
    "execution": {
     "iopub.execute_input": "2022-12-14T19:59:15.490160Z",
     "iopub.status.busy": "2022-12-14T19:59:15.485336Z",
     "iopub.status.idle": "2022-12-14T19:59:20.638253Z",
     "shell.execute_reply": "2022-12-14T19:59:20.637501Z"
    },
    "kernel": "Bash"
   },
   "outputs": [
    {
     "name": "stdout",
     "output_type": "stream",
     "text": [
      " Job done by data2config. Enjoy your RMC journey!\n"
     ]
    }
   ],
   "source": [
    "data2config -noannotate -order [Yb Sn O Ti] -supercell [1 1 1] -rmc6f ${stem_name}.rmc6f\n",
    "mv ${stem_name}_new.rmc6f ${stem_name}_Sn_only.rmc6f"
   ]
  },
  {
   "cell_type": "markdown",
   "id": "bd144d65-3e3d-4db8-96aa-2b7363e127cb",
   "metadata": {
    "kernel": "Bash"
   },
   "source": [
    "> Here we need to open the generated `${stem_name}_Sn_only.rmc6f` file and remove the `Ti` atoms relevant lines manually."
   ]
  },
  {
   "cell_type": "code",
   "execution_count": 4,
   "id": "e8176761-e45a-4cb6-b825-1dbb27e1bde4",
   "metadata": {
    "execution": {
     "iopub.execute_input": "2022-12-14T20:00:53.204238Z",
     "iopub.status.busy": "2022-12-14T20:00:53.198858Z",
     "iopub.status.idle": "2022-12-14T20:00:55.688755Z",
     "shell.execute_reply": "2022-12-14T20:00:55.688069Z"
    },
    "kernel": "Bash"
   },
   "outputs": [
    {
     "name": "stdout",
     "output_type": "stream",
     "text": [
      "  Enter the name of configuration file (skip the extention)\n",
      " Reading configuration file ytso_0p2_Ti_only.rmc6f\n",
      "Info> ntypes,ni: 3\n",
      "       16000       12800       56000\n",
      "           1       16000\n",
      "       16001       28800\n",
      "       28801       84800\n",
      " Thermal ellipsoid successfully generated.\n",
      "  Enter the name of configuration file (skip the extention)\n",
      " Reading configuration file ytso_0p2_Sn_only.rmc6f\n",
      "Info> ntypes,ni: 3\n",
      "       16000        3200       56000\n",
      "           1       16000\n",
      "       16001       19200\n",
      "       19201       75200\n",
      " Thermal ellipsoid successfully generated.\n"
     ]
    }
   ],
   "source": [
    "thermal_ellipsoid <<< ${stem_name}_Ti_only\n",
    "thermal_ellipsoid <<< ${stem_name}_Sn_only"
   ]
  },
  {
   "cell_type": "markdown",
   "id": "18236ddd-cb9b-448a-bbed-f9f3521705fd",
   "metadata": {
    "kernel": "Bash"
   },
   "source": [
    "# Python part -- Ti only ADP"
   ]
  },
  {
   "cell_type": "code",
   "execution_count": 9,
   "id": "76b2f8cd-7c9e-4b35-ad26-c8d1ff1a9634",
   "metadata": {
    "execution": {
     "iopub.execute_input": "2022-12-14T21:04:11.583470Z",
     "iopub.status.busy": "2022-12-14T21:04:11.582809Z",
     "iopub.status.idle": "2022-12-14T21:04:11.599458Z",
     "shell.execute_reply": "2022-12-14T21:04:11.598736Z"
    },
    "kernel": "SoS",
    "tags": []
   },
   "outputs": [],
   "source": [
    "file_in = open(\"ytso_0p2_Ti_only.cif\", \"r\")\n",
    "while True:\n",
    "    line = file_in.readline()\n",
    "    if \"_atom_site_aniso_label\" in line:\n",
    "        break\n",
    "for _ in range(6):\n",
    "    file_in.readline()\n",
    "\n",
    "Ti_u11 = list()\n",
    "Ti_u22 = list()\n",
    "Ti_u33 = list()\n",
    "Ti_u23 = list()\n",
    "Ti_u13 = list()\n",
    "Ti_u12 = list()\n",
    "\n",
    "for _ in range(88):\n",
    "    line = file_in.readline()\n",
    "    if \"Ti\" in line:\n",
    "        Ti_u11.append(float(line.split()[1]))\n",
    "        Ti_u22.append(float(line.split()[2]))\n",
    "        Ti_u33.append(float(line.split()[3]))\n",
    "        Ti_u23.append(float(line.split()[4]))\n",
    "        Ti_u13.append(float(line.split()[5]))\n",
    "        Ti_u12.append(float(line.split()[6]))\n",
    "file_in.close()\n",
    "\n",
    "from functools import reduce\n",
    "import numpy as np\n",
    "\n",
    "def average(lst):\n",
    "    return reduce(lambda a, b: a + b, lst) / len(lst)\n",
    "\n",
    "Ti_u11 = average(Ti_u11)\n",
    "Ti_u22 = average(Ti_u22)\n",
    "Ti_u33 = average(Ti_u33)\n",
    "Ti_u23 = average(Ti_u23)\n",
    "Ti_u13 = average(Ti_u13)\n",
    "Ti_u12 = average(Ti_u12)\n",
    "\n",
    "Ti_u2_ave = average([Ti_u11, Ti_u22, Ti_u33])\n",
    "Ti_u2_ani = np.sqrt(average([(Ti_u11 - Ti_u2_ave)**2., (Ti_u22 - Ti_u2_ave)**2., (Ti_u33 - Ti_u2_ave)**2.]))\n",
    "\n",
    "file_out = open(\"ani_Ti.out\", \"w\")\n",
    "file_out.write(\"{:.4f}\\n\".format(Ti_u2_ani))\n",
    "file_out.write(\"{:.4f}\\n\".format(Ti_u23))\n",
    "file_out.write(\"{:.4f}\\n\".format(Ti_u13))\n",
    "file_out.write(\"{:.4f}\\n\".format(Ti_u12))\n",
    "file_out.close()\n"
   ]
  },
  {
   "cell_type": "markdown",
   "id": "6b769ddc-f27a-4c89-a6a4-ca9d91a92b31",
   "metadata": {
    "kernel": "SoS"
   },
   "source": [
    "# Python part -- Sn only ADP"
   ]
  },
  {
   "cell_type": "code",
   "execution_count": 10,
   "id": "2fa058ca-b9aa-4362-9ccc-121b275d1dcb",
   "metadata": {
    "execution": {
     "iopub.execute_input": "2022-12-14T21:06:18.164796Z",
     "iopub.status.busy": "2022-12-14T21:06:18.163232Z",
     "iopub.status.idle": "2022-12-14T21:06:18.180925Z",
     "shell.execute_reply": "2022-12-14T21:06:18.180208Z"
    },
    "kernel": "SoS"
   },
   "outputs": [],
   "source": [
    "file_in = open(\"ytso_0p2_Sn_only.cif\", \"r\")\n",
    "while True:\n",
    "    line = file_in.readline()\n",
    "    if \"_atom_site_aniso_label\" in line:\n",
    "        break\n",
    "for _ in range(6):\n",
    "    file_in.readline()\n",
    "\n",
    "Sn_u11 = list()\n",
    "Sn_u22 = list()\n",
    "Sn_u33 = list()\n",
    "Sn_u23 = list()\n",
    "Sn_u13 = list()\n",
    "Sn_u12 = list()\n",
    "\n",
    "for _ in range(88):\n",
    "    line = file_in.readline()\n",
    "    if \"Sn\" in line:\n",
    "        Sn_u11.append(float(line.split()[1]))\n",
    "        Sn_u22.append(float(line.split()[2]))\n",
    "        Sn_u33.append(float(line.split()[3]))\n",
    "        Sn_u23.append(float(line.split()[4]))\n",
    "        Sn_u13.append(float(line.split()[5]))\n",
    "        Sn_u12.append(float(line.split()[6]))\n",
    "file_in.close()\n",
    "\n",
    "from functools import reduce\n",
    "import numpy as np\n",
    "\n",
    "def average(lst):\n",
    "    return reduce(lambda a, b: a + b, lst) / len(lst)\n",
    "\n",
    "Sn_u11 = average(Sn_u11)\n",
    "Sn_u22 = average(Sn_u22)\n",
    "Sn_u33 = average(Sn_u33)\n",
    "Sn_u23 = average(Sn_u23)\n",
    "Sn_u13 = average(Sn_u13)\n",
    "Sn_u12 = average(Sn_u12)\n",
    "\n",
    "Sn_u2_ave = average([Sn_u11, Sn_u22, Sn_u33])\n",
    "Sn_u2_ani = np.sqrt(average([(Sn_u11 - Sn_u2_ave)**2., (Sn_u22 - Sn_u2_ave)**2., (Sn_u33 - Sn_u2_ave)**2.]))\n",
    "\n",
    "file_out = open(\"ani_Sn.out\", \"w\")\n",
    "file_out.write(\"{:.4f}\\n\".format(Sn_u2_ani))\n",
    "file_out.write(\"{:.4f}\\n\".format(Sn_u23))\n",
    "file_out.write(\"{:.4f}\\n\".format(Sn_u13))\n",
    "file_out.write(\"{:.4f}\\n\".format(Sn_u12))\n",
    "file_out.close()\n"
   ]
  },
  {
   "cell_type": "markdown",
   "id": "23351d59-6810-4bfe-8704-653b09006e25",
   "metadata": {
    "kernel": "SoS"
   },
   "source": [
    "# Python part -- Ti&Sn ADP"
   ]
  },
  {
   "cell_type": "code",
   "execution_count": 11,
   "id": "290aaa4b-7877-4674-8a8e-8f35a62dc863",
   "metadata": {
    "execution": {
     "iopub.execute_input": "2022-12-14T21:08:20.647027Z",
     "iopub.status.busy": "2022-12-14T21:08:20.645918Z",
     "iopub.status.idle": "2022-12-14T21:08:20.663282Z",
     "shell.execute_reply": "2022-12-14T21:08:20.662635Z"
    },
    "kernel": "SoS",
    "tags": []
   },
   "outputs": [],
   "source": [
    "file_in = open(\"ytso_0p2_all.cif\", \"r\")\n",
    "while True:\n",
    "    line = file_in.readline()\n",
    "    if \"_atom_site_aniso_label\" in line:\n",
    "        break\n",
    "for _ in range(6):\n",
    "    file_in.readline()\n",
    "\n",
    "Ti_u11 = list()\n",
    "Ti_u22 = list()\n",
    "Ti_u33 = list()\n",
    "Ti_u23 = list()\n",
    "Ti_u13 = list()\n",
    "Ti_u12 = list()\n",
    "\n",
    "for _ in range(88):\n",
    "    line = file_in.readline()\n",
    "    if \"Ti\" in line:\n",
    "        Ti_u11.append(float(line.split()[1]))\n",
    "        Ti_u22.append(float(line.split()[2]))\n",
    "        Ti_u33.append(float(line.split()[3]))\n",
    "        Ti_u23.append(float(line.split()[4]))\n",
    "        Ti_u13.append(float(line.split()[5]))\n",
    "        Ti_u12.append(float(line.split()[6]))\n",
    "file_in.close()\n",
    "\n",
    "from functools import reduce\n",
    "import numpy as np\n",
    "\n",
    "def average(lst):\n",
    "    return reduce(lambda a, b: a + b, lst) / len(lst)\n",
    "\n",
    "Ti_u11 = average(Ti_u11)\n",
    "Ti_u22 = average(Ti_u22)\n",
    "Ti_u33 = average(Ti_u33)\n",
    "Ti_u23 = average(Ti_u23)\n",
    "Ti_u13 = average(Ti_u13)\n",
    "Ti_u12 = average(Ti_u12)\n",
    "\n",
    "Ti_u2_ave = average([Ti_u11, Ti_u22, Ti_u33])\n",
    "Ti_u2_ani = np.sqrt(average([(Ti_u11 - Ti_u2_ave)**2., (Ti_u22 - Ti_u2_ave)**2., (Ti_u33 - Ti_u2_ave)**2.]))\n",
    "\n",
    "file_out = open(\"ani_all.out\", \"w\")\n",
    "file_out.write(\"{:.4f}\\n\".format(Ti_u2_ani))\n",
    "file_out.write(\"{:.4f}\\n\".format(Ti_u23))\n",
    "file_out.write(\"{:.4f}\\n\".format(Ti_u13))\n",
    "file_out.write(\"{:.4f}\\n\".format(Ti_u12))\n",
    "file_out.close()\n"
   ]
  },
  {
   "cell_type": "code",
   "execution_count": null,
   "id": "115a2a67-2786-4f11-899b-f7cfaec0b336",
   "metadata": {
    "kernel": "SoS"
   },
   "outputs": [],
   "source": []
  }
 ],
 "metadata": {
  "kernelspec": {
   "display_name": "SoS",
   "language": "sos",
   "name": "sos"
  },
  "language_info": {
   "codemirror_mode": "sos",
   "file_extension": ".sos",
   "mimetype": "text/x-sos",
   "name": "sos",
   "nbconvert_exporter": "sos_notebook.converter.SoS_Exporter",
   "pygments_lexer": "sos"
  },
  "sos": {
   "kernels": [
    [
     "Bash",
     "bash",
     "bash",
     "",
     "shell"
    ],
    [
     "SoS",
     "sos",
     "",
     "",
     "sos"
    ]
   ],
   "version": "0.23.4"
  }
 },
 "nbformat": 4,
 "nbformat_minor": 5
}
