{
 "cells": [
  {
   "cell_type": "markdown",
   "id": "18236ddd-cb9b-448a-bbed-f9f3521705fd",
   "metadata": {
    "kernel": "Bash"
   },
   "source": [
    "# Python part -- Ti only ADP"
   ]
  },
  {
   "cell_type": "code",
   "execution_count": 1,
   "id": "76b2f8cd-7c9e-4b35-ad26-c8d1ff1a9634",
   "metadata": {
    "execution": {
     "iopub.execute_input": "2022-12-14T21:30:47.034583Z",
     "iopub.status.busy": "2022-12-14T21:30:47.033517Z",
     "iopub.status.idle": "2022-12-14T21:30:47.094663Z",
     "shell.execute_reply": "2022-12-14T21:30:47.093382Z"
    },
    "kernel": "SoS",
    "tags": []
   },
   "outputs": [],
   "source": [
    "file_in = open(\"ytso_1p0.cif\", \"r\")\n",
    "while True:\n",
    "    line = file_in.readline()\n",
    "    if \"_atom_site_aniso_label\" in line:\n",
    "        break\n",
    "for _ in range(6):\n",
    "    file_in.readline()\n",
    "\n",
    "Sn_u11 = list()\n",
    "Sn_u22 = list()\n",
    "Sn_u33 = list()\n",
    "Sn_u23 = list()\n",
    "Sn_u13 = list()\n",
    "Sn_u12 = list()\n",
    "\n",
    "for _ in range(88):\n",
    "    line = file_in.readline()\n",
    "    if \"Sn\" in line:\n",
    "        Sn_u11.append(float(line.split()[1]))\n",
    "        Sn_u22.append(float(line.split()[2]))\n",
    "        Sn_u33.append(float(line.split()[3]))\n",
    "        Sn_u23.append(float(line.split()[4]))\n",
    "        Sn_u13.append(float(line.split()[5]))\n",
    "        Sn_u12.append(float(line.split()[6]))\n",
    "file_in.close()\n",
    "\n",
    "from functools import reduce\n",
    "import numpy as np\n",
    "\n",
    "def average(lst):\n",
    "    return reduce(lambda a, b: a + b, lst) / len(lst)\n",
    "\n",
    "Sn_u11 = average(Sn_u11)\n",
    "Sn_u22 = average(Sn_u22)\n",
    "Sn_u33 = average(Sn_u33)\n",
    "Sn_u23 = average(Sn_u23)\n",
    "Sn_u13 = average(Sn_u13)\n",
    "Sn_u12 = average(Sn_u12)\n",
    "\n",
    "Sn_u2_ave = average([Sn_u11, Sn_u22, Sn_u33])\n",
    "Sn_u2_ani = np.sqrt(average([(Sn_u11 - Sn_u2_ave)**2., (Sn_u22 - Sn_u2_ave)**2., (Sn_u33 - Sn_u2_ave)**2.]))\n",
    "\n",
    "file_out = open(\"ani_Sn.out\", \"w\")\n",
    "file_out.write(\"{:.4f}\\n\".format(Sn_u2_ani))\n",
    "file_out.write(\"{:.4f}\\n\".format(Sn_u23))\n",
    "file_out.write(\"{:.4f}\\n\".format(Sn_u13))\n",
    "file_out.write(\"{:.4f}\\n\".format(Sn_u12))\n",
    "file_out.close()\n"
   ]
  },
  {
   "cell_type": "code",
   "execution_count": null,
   "id": "8e5e7c63-751d-4f3f-b52d-508655aae865",
   "metadata": {
    "kernel": "SoS"
   },
   "outputs": [],
   "source": []
  }
 ],
 "metadata": {
  "kernelspec": {
   "display_name": "SoS",
   "language": "sos",
   "name": "sos"
  },
  "language_info": {
   "codemirror_mode": "sos",
   "file_extension": ".sos",
   "mimetype": "text/x-sos",
   "name": "sos",
   "nbconvert_exporter": "sos_notebook.converter.SoS_Exporter",
   "pygments_lexer": "sos"
  },
  "sos": {
   "kernels": [
    [
     "Bash",
     "bash",
     "bash",
     "",
     "shell"
    ],
    [
     "SoS",
     "sos",
     "",
     "",
     "sos"
    ]
   ],
   "version": "0.23.4"
  }
 },
 "nbformat": 4,
 "nbformat_minor": 5
}
