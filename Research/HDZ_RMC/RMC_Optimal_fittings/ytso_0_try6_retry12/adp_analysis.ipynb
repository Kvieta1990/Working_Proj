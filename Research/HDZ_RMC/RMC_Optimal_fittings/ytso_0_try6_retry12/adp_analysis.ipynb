{
 "cells": [
  {
   "cell_type": "markdown",
   "id": "18236ddd-cb9b-448a-bbed-f9f3521705fd",
   "metadata": {
    "kernel": "Bash"
   },
   "source": [
    "# Python part -- Ti only ADP"
   ]
  },
  {
   "cell_type": "code",
   "execution_count": 1,
   "id": "76b2f8cd-7c9e-4b35-ad26-c8d1ff1a9634",
   "metadata": {
    "execution": {
     "iopub.execute_input": "2022-12-15T00:45:05.080886Z",
     "iopub.status.busy": "2022-12-15T00:45:05.080043Z",
     "iopub.status.idle": "2022-12-15T00:45:05.125675Z",
     "shell.execute_reply": "2022-12-15T00:45:05.121924Z"
    },
    "kernel": "SoS",
    "tags": []
   },
   "outputs": [],
   "source": [
    "file_in = open(\"ytso_0.cif\", \"r\")\n",
    "while True:\n",
    "    line = file_in.readline()\n",
    "    if \"_atom_site_aniso_label\" in line:\n",
    "        break\n",
    "for _ in range(6):\n",
    "    file_in.readline()\n",
    "\n",
    "Ti_u11 = list()\n",
    "Ti_u22 = list()\n",
    "Ti_u33 = list()\n",
    "Ti_u23 = list()\n",
    "Ti_u13 = list()\n",
    "Ti_u12 = list()\n",
    "\n",
    "for _ in range(88):\n",
    "    line = file_in.readline()\n",
    "    if \"Ti\" in line:\n",
    "        Ti_u11.append(float(line.split()[1]))\n",
    "        Ti_u22.append(float(line.split()[2]))\n",
    "        Ti_u33.append(float(line.split()[3]))\n",
    "        Ti_u23.append(float(line.split()[4]))\n",
    "        Ti_u13.append(float(line.split()[5]))\n",
    "        Ti_u12.append(float(line.split()[6]))\n",
    "file_in.close()\n",
    "\n",
    "from functools import reduce\n",
    "import numpy as np\n",
    "\n",
    "def average(lst):\n",
    "    return reduce(lambda a, b: a + b, lst) / len(lst)\n",
    "\n",
    "Ti_u11 = average(Ti_u11)\n",
    "Ti_u22 = average(Ti_u22)\n",
    "Ti_u33 = average(Ti_u33)\n",
    "Ti_u23 = average(Ti_u23)\n",
    "Ti_u13 = average(Ti_u13)\n",
    "Ti_u12 = average(Ti_u12)\n",
    "\n",
    "Ti_u2_ave = average([Ti_u11, Ti_u22, Ti_u33])\n",
    "Ti_u2_ani = np.sqrt(average([(Ti_u11 - Ti_u2_ave)**2., (Ti_u22 - Ti_u2_ave)**2., (Ti_u33 - Ti_u2_ave)**2.]))\n",
    "\n",
    "file_out = open(\"ani_Ti.out\", \"w\")\n",
    "file_out.write(\"{:.4f}\\n\".format(Ti_u2_ani))\n",
    "file_out.write(\"{:.4f}\\n\".format(Ti_u23))\n",
    "file_out.write(\"{:.4f}\\n\".format(Ti_u13))\n",
    "file_out.write(\"{:.4f}\\n\".format(Ti_u12))\n",
    "file_out.write(\"{:.4f}\".format(Ti_u2_ave))\n",
    "file_out.close()\n"
   ]
  },
  {
   "cell_type": "code",
   "execution_count": null,
   "id": "b5e68db0-48b7-464f-b084-aa675274a7e1",
   "metadata": {
    "kernel": "SoS"
   },
   "outputs": [],
   "source": []
  }
 ],
 "metadata": {
  "kernelspec": {
   "display_name": "SoS",
   "language": "sos",
   "name": "sos"
  },
  "language_info": {
   "codemirror_mode": "sos",
   "file_extension": ".sos",
   "mimetype": "text/x-sos",
   "name": "sos",
   "nbconvert_exporter": "sos_notebook.converter.SoS_Exporter",
   "pygments_lexer": "sos"
  },
  "sos": {
   "kernels": [
    [
     "Bash",
     "bash",
     "bash",
     "",
     "shell"
    ],
    [
     "SoS",
     "sos",
     "",
     "",
     "sos"
    ]
   ],
   "version": "0.23.4"
  }
 },
 "nbformat": 4,
 "nbformat_minor": 5
}
