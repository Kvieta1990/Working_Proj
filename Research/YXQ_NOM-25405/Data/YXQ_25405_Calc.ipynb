{
 "cells": [
  {
   "cell_type": "markdown",
   "id": "62f6ce71-7fef-4869-9db8-22208d75de00",
   "metadata": {},
   "source": [
    "# Sample molecular mass"
   ]
  },
  {
   "cell_type": "code",
   "execution_count": 1,
   "id": "2c99c454-bfdf-4911-ac46-41381e8eb972",
   "metadata": {
    "execution": {
     "iopub.execute_input": "2023-04-06T03:57:54.785602Z",
     "iopub.status.busy": "2023-04-06T03:57:54.784603Z",
     "iopub.status.idle": "2023-04-06T03:57:54.800601Z",
     "shell.execute_reply": "2023-04-06T03:57:54.799602Z",
     "shell.execute_reply.started": "2023-04-06T03:57:54.785602Z"
    }
   },
   "outputs": [],
   "source": [
    "li_mass = 6.94\n",
    "ti_mass = 47.867\n",
    "ni_mass = 58.693\n",
    "nb_mass = 92.906\n",
    "o_mass = 15.999\n",
    "\n",
    "li_x = 1.2\n",
    "ti_x = 0.377\n",
    "ni_x = 0.377\n",
    "nb_x = 0.1077\n",
    "o_x = 2.\n",
    "\n",
    "mol_mass = li_x * li_mass + ti_x * ti_mass + ni_x * ni_mass + nb_x * nb_mass + o_x * o_mass"
   ]
  },
  {
   "cell_type": "markdown",
   "id": "dfff5873-e45d-425f-89e0-a108b0ced692",
   "metadata": {},
   "source": [
    "# Carbon molecular mass"
   ]
  },
  {
   "cell_type": "code",
   "execution_count": 2,
   "id": "183b1bb7-9813-4495-9936-98b7b2e03591",
   "metadata": {
    "execution": {
     "iopub.execute_input": "2023-04-06T03:58:45.222050Z",
     "iopub.status.busy": "2023-04-06T03:58:45.222050Z",
     "iopub.status.idle": "2023-04-06T03:58:45.241050Z",
     "shell.execute_reply": "2023-04-06T03:58:45.240051Z",
     "shell.execute_reply.started": "2023-04-06T03:58:45.222050Z"
    }
   },
   "outputs": [],
   "source": [
    "c_mol_mass = 12.011"
   ]
  },
  {
   "cell_type": "markdown",
   "id": "5d5bec15-f12c-4884-ac1b-4d75342bb65a",
   "metadata": {},
   "source": [
    "# Sample / Carbon"
   ]
  },
  {
   "cell_type": "code",
   "execution_count": 5,
   "id": "8428ffab-131b-40e7-a287-0fcf118cffc1",
   "metadata": {
    "execution": {
     "iopub.execute_input": "2023-04-06T04:00:44.697799Z",
     "iopub.status.busy": "2023-04-06T04:00:44.697799Z",
     "iopub.status.idle": "2023-04-06T04:00:44.715800Z",
     "shell.execute_reply": "2023-04-06T04:00:44.714799Z",
     "shell.execute_reply.started": "2023-04-06T04:00:44.697799Z"
    },
    "tags": []
   },
   "outputs": [],
   "source": [
    "s_to_c = (80. / mol_mass) / (20. / c_mol_mass)"
   ]
  },
  {
   "cell_type": "markdown",
   "id": "c11ad3a0-52a9-4638-9d15-3ed780beb4f0",
   "metadata": {},
   "source": [
    "# Formula normalization"
   ]
  },
  {
   "cell_type": "code",
   "execution_count": 6,
   "id": "e17210cb-2019-4b1a-b914-e9fc82a045b1",
   "metadata": {
    "execution": {
     "iopub.execute_input": "2023-04-06T04:01:43.742678Z",
     "iopub.status.busy": "2023-04-06T04:01:43.742678Z",
     "iopub.status.idle": "2023-04-06T04:01:43.752677Z",
     "shell.execute_reply": "2023-04-06T04:01:43.751675Z",
     "shell.execute_reply.started": "2023-04-06T04:01:43.742678Z"
    }
   },
   "outputs": [],
   "source": [
    "norm_factor = s_to_c * (1.2 + 0.377 + 0.377 + 0.1077 + 2.) + 1."
   ]
  },
  {
   "cell_type": "code",
   "execution_count": 8,
   "id": "297d87f6-e8bf-4e26-b019-d3e68592c5f6",
   "metadata": {
    "execution": {
     "iopub.execute_input": "2023-04-06T04:03:39.522337Z",
     "iopub.status.busy": "2023-04-06T04:03:39.520486Z",
     "iopub.status.idle": "2023-04-06T04:03:39.541484Z",
     "shell.execute_reply": "2023-04-06T04:03:39.540486Z",
     "shell.execute_reply.started": "2023-04-06T04:03:39.522337Z"
    },
    "tags": []
   },
   "outputs": [],
   "source": [
    "li_c = 1.2 / norm_factor * s_to_c\n",
    "ti_c = 0.377 / norm_factor * s_to_c\n",
    "ni_c = 0.377 / norm_factor * s_to_c\n",
    "nb_c = 0.1077 / norm_factor * s_to_c\n",
    "o_c = 2. / norm_factor * s_to_c\n",
    "c_c = 1. / norm_factor"
   ]
  },
  {
   "cell_type": "code",
   "execution_count": 9,
   "id": "8fa6b752-17de-4da1-a445-ca9dd967ad17",
   "metadata": {
    "execution": {
     "iopub.execute_input": "2023-04-06T04:03:54.158682Z",
     "iopub.status.busy": "2023-04-06T04:03:54.158682Z",
     "iopub.status.idle": "2023-04-06T04:03:54.178680Z",
     "shell.execute_reply": "2023-04-06T04:03:54.177684Z",
     "shell.execute_reply.started": "2023-04-06T04:03:54.158682Z"
    }
   },
   "outputs": [
    {
     "name": "stdout",
     "output_type": "stream",
     "text": [
      "0.20183345427523777 0.06340934355147053 0.06340934355147053 0.01811455252120259 0.33638909045872956 0.3168442156418889\n"
     ]
    }
   ],
   "source": [
    "print(li_c, ti_c, ni_c, nb_c, o_c, c_c)"
   ]
  },
  {
   "cell_type": "code",
   "execution_count": 11,
   "id": "66c6b0dc-c83a-4657-9e87-63a2e862d42a",
   "metadata": {
    "execution": {
     "iopub.execute_input": "2023-04-06T04:07:08.843502Z",
     "iopub.status.busy": "2023-04-06T04:07:08.843502Z",
     "iopub.status.idle": "2023-04-06T04:07:08.850546Z",
     "shell.execute_reply": "2023-04-06T04:07:08.849501Z",
     "shell.execute_reply.started": "2023-04-06T04:07:08.843502Z"
    }
   },
   "outputs": [
    {
     "data": {
      "text/plain": [
       "0.3180000000000001"
      ]
     },
     "execution_count": 11,
     "metadata": {},
     "output_type": "execute_result"
    }
   ],
   "source": [
    "1 - 0.202 - 0.063 - 0.063 - 0.018 - 0.336"
   ]
  },
  {
   "cell_type": "code",
   "execution_count": null,
   "id": "0e7f614e-f5c4-42ec-a088-916955e82b5b",
   "metadata": {},
   "outputs": [],
   "source": []
  }
 ],
 "metadata": {
  "kernelspec": {
   "display_name": "Python",
   "language": "python",
   "name": "python3"
  },
  "language_info": {
   "codemirror_mode": {
    "name": "ipython",
    "version": 3
   },
   "file_extension": ".py",
   "mimetype": "text/x-python",
   "name": "python",
   "nbconvert_exporter": "python",
   "pygments_lexer": "ipython3",
   "version": "3.8.8"
  }
 },
 "nbformat": 4,
 "nbformat_minor": 5
}
