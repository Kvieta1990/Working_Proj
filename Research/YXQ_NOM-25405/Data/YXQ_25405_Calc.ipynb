{
 "cells": [
  {
   "cell_type": "markdown",
   "id": "62f6ce71-7fef-4869-9db8-22208d75de00",
   "metadata": {},
   "source": [
    "# Sample molecular mass"
   ]
  },
  {
   "cell_type": "code",
   "execution_count": 1,
   "id": "2c99c454-bfdf-4911-ac46-41381e8eb972",
   "metadata": {
    "execution": {
     "iopub.execute_input": "2023-04-12T02:55:03.837971Z",
     "iopub.status.busy": "2023-04-12T02:55:03.837611Z",
     "iopub.status.idle": "2023-04-12T02:55:03.843335Z",
     "shell.execute_reply": "2023-04-12T02:55:03.842664Z",
     "shell.execute_reply.started": "2023-04-12T02:55:03.837948Z"
    },
    "tags": []
   },
   "outputs": [],
   "source": [
    "li_mass = 6.94\n",
    "ti_mass = 47.867\n",
    "ni_mass = 58.693\n",
    "nb_mass = 92.906\n",
    "o_mass = 15.999\n",
    "\n",
    "li_x = 0.234040\n",
    "ti_x = 0.182836\n",
    "ni_x = 0.182836\n",
    "nb_x = 0.052238\n",
    "o_x = 1.\n",
    "\n",
    "mol_mass = li_x * li_mass + ti_x * ti_mass + ni_x * ni_mass + nb_x * nb_mass + o_x * o_mass"
   ]
  },
  {
   "cell_type": "markdown",
   "id": "dfff5873-e45d-425f-89e0-a108b0ced692",
   "metadata": {},
   "source": [
    "# Carbon molecular mass"
   ]
  },
  {
   "cell_type": "code",
   "execution_count": 2,
   "id": "183b1bb7-9813-4495-9936-98b7b2e03591",
   "metadata": {
    "execution": {
     "iopub.execute_input": "2023-04-12T02:55:06.683624Z",
     "iopub.status.busy": "2023-04-12T02:55:06.683333Z",
     "iopub.status.idle": "2023-04-12T02:55:06.687051Z",
     "shell.execute_reply": "2023-04-12T02:55:06.686631Z",
     "shell.execute_reply.started": "2023-04-12T02:55:06.683602Z"
    },
    "tags": []
   },
   "outputs": [],
   "source": [
    "c_mol_mass = 12.011"
   ]
  },
  {
   "cell_type": "markdown",
   "id": "5d5bec15-f12c-4884-ac1b-4d75342bb65a",
   "metadata": {},
   "source": [
    "# Sample / Carbon"
   ]
  },
  {
   "cell_type": "code",
   "execution_count": 3,
   "id": "8428ffab-131b-40e7-a287-0fcf118cffc1",
   "metadata": {
    "execution": {
     "iopub.execute_input": "2023-04-12T02:55:11.053996Z",
     "iopub.status.busy": "2023-04-12T02:55:11.053261Z",
     "iopub.status.idle": "2023-04-12T02:55:11.057740Z",
     "shell.execute_reply": "2023-04-12T02:55:11.057093Z",
     "shell.execute_reply.started": "2023-04-12T02:55:11.053973Z"
    },
    "tags": []
   },
   "outputs": [],
   "source": [
    "s_to_c = (80. / mol_mass) / (20. / c_mol_mass)"
   ]
  },
  {
   "cell_type": "markdown",
   "id": "c11ad3a0-52a9-4638-9d15-3ed780beb4f0",
   "metadata": {},
   "source": [
    "# Formula normalization"
   ]
  },
  {
   "cell_type": "code",
   "execution_count": 10,
   "id": "e17210cb-2019-4b1a-b914-e9fc82a045b1",
   "metadata": {
    "execution": {
     "iopub.execute_input": "2023-04-12T02:58:30.288216Z",
     "iopub.status.busy": "2023-04-12T02:58:30.287244Z",
     "iopub.status.idle": "2023-04-12T02:58:30.291602Z",
     "shell.execute_reply": "2023-04-12T02:58:30.291135Z",
     "shell.execute_reply.started": "2023-04-12T02:58:30.288191Z"
    },
    "tags": []
   },
   "outputs": [],
   "source": [
    "norm_factor = s_to_c * (li_x + ti_x + ni_x + nb_x + o_x) + 1."
   ]
  },
  {
   "cell_type": "code",
   "execution_count": 11,
   "id": "297d87f6-e8bf-4e26-b019-d3e68592c5f6",
   "metadata": {
    "execution": {
     "iopub.execute_input": "2023-04-12T02:58:31.271852Z",
     "iopub.status.busy": "2023-04-12T02:58:31.271530Z",
     "iopub.status.idle": "2023-04-12T02:58:31.276024Z",
     "shell.execute_reply": "2023-04-12T02:58:31.275511Z",
     "shell.execute_reply.started": "2023-04-12T02:58:31.271831Z"
    },
    "tags": []
   },
   "outputs": [],
   "source": [
    "li_c = li_x / norm_factor * s_to_c\n",
    "ti_c = ti_x / norm_factor * s_to_c\n",
    "ni_c = ni_x / norm_factor * s_to_c\n",
    "nb_c = nb_x / norm_factor * s_to_c\n",
    "o_c = o_x / norm_factor * s_to_c\n",
    "c_c = 1. / norm_factor"
   ]
  },
  {
   "cell_type": "code",
   "execution_count": 12,
   "id": "8fa6b752-17de-4da1-a445-ca9dd967ad17",
   "metadata": {
    "execution": {
     "iopub.execute_input": "2023-04-12T02:58:32.392537Z",
     "iopub.status.busy": "2023-04-12T02:58:32.391791Z",
     "iopub.status.idle": "2023-04-12T02:58:32.396178Z",
     "shell.execute_reply": "2023-04-12T02:58:32.395721Z",
     "shell.execute_reply.started": "2023-04-12T02:58:32.392513Z"
    },
    "tags": []
   },
   "outputs": [
    {
     "name": "stdout",
     "output_type": "stream",
     "text": [
      "0.09267791585791668 0.07240155282771345 0.07240155282771345 0.020685818529250777 0.3959917785759558 0.3458413813814499\n"
     ]
    }
   ],
   "source": [
    "print(li_c, ti_c, ni_c, nb_c, o_c, c_c)"
   ]
  },
  {
   "cell_type": "code",
   "execution_count": 13,
   "id": "66c6b0dc-c83a-4657-9e87-63a2e862d42a",
   "metadata": {
    "execution": {
     "iopub.execute_input": "2023-04-12T02:59:08.613390Z",
     "iopub.status.busy": "2023-04-12T02:59:08.612411Z",
     "iopub.status.idle": "2023-04-12T02:59:08.618214Z",
     "shell.execute_reply": "2023-04-12T02:59:08.617634Z",
     "shell.execute_reply.started": "2023-04-12T02:59:08.613363Z"
    },
    "tags": []
   },
   "outputs": [
    {
     "data": {
      "text/plain": [
       "0.3490000000000001"
      ]
     },
     "execution_count": 13,
     "metadata": {},
     "output_type": "execute_result"
    }
   ],
   "source": [
    "1 - 0.092 - 0.072 - 0.072 - 0.020 - 0.395"
   ]
  },
  {
   "cell_type": "code",
   "execution_count": null,
   "id": "0e7f614e-f5c4-42ec-a088-916955e82b5b",
   "metadata": {},
   "outputs": [],
   "source": []
  }
 ],
 "metadata": {
  "kernelspec": {
   "display_name": "Python (default)",
   "language": "python",
   "name": "python3"
  },
  "language_info": {
   "codemirror_mode": {
    "name": "ipython",
    "version": 3
   },
   "file_extension": ".py",
   "mimetype": "text/x-python",
   "name": "python",
   "nbconvert_exporter": "python",
   "pygments_lexer": "ipython3",
   "version": "3.7.13"
  },
  "widgets": {
   "application/vnd.jupyter.widget-state+json": {
    "state": {},
    "version_major": 2,
    "version_minor": 0
   }
  }
 },
 "nbformat": 4,
 "nbformat_minor": 5
}
