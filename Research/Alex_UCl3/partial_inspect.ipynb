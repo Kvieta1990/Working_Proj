{
 "cells": [
  {
   "cell_type": "code",
   "execution_count": 1,
   "id": "34375e13-be59-4291-bbfa-bacdf67fa791",
   "metadata": {
    "execution": {
     "iopub.execute_input": "2022-11-16T21:13:52.922943Z",
     "iopub.status.busy": "2022-11-16T21:13:52.922361Z",
     "iopub.status.idle": "2022-11-16T21:13:53.380752Z",
     "shell.execute_reply": "2022-11-16T21:13:53.380206Z",
     "shell.execute_reply.started": "2022-11-16T21:13:52.922916Z"
    },
    "tags": []
   },
   "outputs": [
    {
     "data": {
      "text/html": [
       "        <script type=\"text/javascript\">\n",
       "        window.PlotlyConfig = {MathJaxConfig: 'local'};\n",
       "        if (window.MathJax && window.MathJax.Hub && window.MathJax.Hub.Config) {window.MathJax.Hub.Config({SVG: {font: \"STIX-Web\"}});}\n",
       "        if (typeof require !== 'undefined') {\n",
       "        require.undef(\"plotly\");\n",
       "        requirejs.config({\n",
       "            paths: {\n",
       "                'plotly': ['https://cdn.plot.ly/plotly-2.16.1.min']\n",
       "            }\n",
       "        });\n",
       "        require(['plotly'], function(Plotly) {\n",
       "            window._Plotly = Plotly;\n",
       "        });\n",
       "        }\n",
       "        </script>\n",
       "        "
      ]
     },
     "metadata": {},
     "output_type": "display_data"
    }
   ],
   "source": [
    "import plotly as py\n",
    "import plotly.graph_objs as go\n",
    "import ipywidgets as widgets\n",
    "\n",
    "import pandas as pd\n",
    "import numpy as np\n",
    "from scipy import special\n",
    "\n",
    "py.offline.init_notebook_mode(connected=True)"
   ]
  },
  {
   "cell_type": "code",
   "execution_count": 2,
   "id": "711f93f5-852b-491f-a0b2-c4e025fcef15",
   "metadata": {
    "execution": {
     "iopub.execute_input": "2022-11-16T21:13:53.386212Z",
     "iopub.status.busy": "2022-11-16T21:13:53.386032Z",
     "iopub.status.idle": "2022-11-16T21:13:53.388632Z",
     "shell.execute_reply": "2022-11-16T21:13:53.388184Z",
     "shell.execute_reply.started": "2022-11-16T21:13:53.386195Z"
    },
    "tags": []
   },
   "outputs": [],
   "source": [
    "partial_pdf_file = './UCl3_rmc_try1_3_9/UCl3_900_neutron1_PDFpartials.csv'"
   ]
  },
  {
   "cell_type": "code",
   "execution_count": 3,
   "id": "2d281e89-3280-46e5-bb2f-e8751a7e6e77",
   "metadata": {
    "execution": {
     "iopub.execute_input": "2022-11-16T21:13:53.970754Z",
     "iopub.status.busy": "2022-11-16T21:13:53.970556Z",
     "iopub.status.idle": "2022-11-16T21:13:53.982408Z",
     "shell.execute_reply": "2022-11-16T21:13:53.981850Z",
     "shell.execute_reply.started": "2022-11-16T21:13:53.970737Z"
    },
    "tags": []
   },
   "outputs": [],
   "source": [
    "pp_file = open(partial_pdf_file, \"r\")\n",
    "lines = pp_file.readlines()\n",
    "pp_file.close()\n",
    "\n",
    "partials = [item.strip() for item in lines[0].split(\",\")[1:]]\n",
    "partial_pdfs = dict()\n",
    "partial_pdfs[\"r\"] = []\n",
    "for i in range(len(partials)):\n",
    "    partial_pdfs[partials[i]] = []\n",
    "for line in lines[1:]:\n",
    "    if line:\n",
    "        partial_pdfs[\"r\"].append(float(line.split(\",\")[0]))\n",
    "        for i in range(len(partials)):\n",
    "            partial_pdfs[partials[i]].append(float(line.split(\",\")[i + 1]))"
   ]
  },
  {
   "cell_type": "code",
   "execution_count": 4,
   "id": "46553cfa-2165-41cf-8b38-74ab920e3d67",
   "metadata": {
    "execution": {
     "iopub.execute_input": "2022-11-16T21:13:54.570771Z",
     "iopub.status.busy": "2022-11-16T21:13:54.570584Z",
     "iopub.status.idle": "2022-11-16T21:13:54.926133Z",
     "shell.execute_reply": "2022-11-16T21:13:54.925680Z",
     "shell.execute_reply.started": "2022-11-16T21:13:54.570754Z"
    },
    "tags": []
   },
   "outputs": [
    {
     "data": {
      "application/vnd.jupyter.widget-view+json": {
       "model_id": "338ac3a2e5c7476884b32304d85937f4",
       "version_major": 2,
       "version_minor": 0
      },
      "text/plain": [
       "Label(value='')"
      ]
     },
     "metadata": {},
     "output_type": "display_data"
    },
    {
     "data": {
      "application/vnd.jupyter.widget-view+json": {
       "model_id": "9f63a3c6425a442eb00a090eb069d5c0",
       "version_major": 2,
       "version_minor": 0
      },
      "text/plain": [
       "Label(value='')"
      ]
     },
     "metadata": {},
     "output_type": "display_data"
    },
    {
     "data": {
      "application/vnd.jupyter.widget-view+json": {
       "model_id": "c892cd308621463cb43e0b2366c4273c",
       "version_major": 2,
       "version_minor": 0
      },
      "text/plain": [
       "Label(value='')"
      ]
     },
     "metadata": {},
     "output_type": "display_data"
    },
    {
     "data": {
      "application/vnd.jupyter.widget-view+json": {
       "model_id": "5e6a711b61804b18a72854dabf1de915",
       "version_major": 2,
       "version_minor": 0
      },
      "text/plain": [
       "interactive(children=(Dropdown(description='Partials', options=('U-U', 'U-Cl', 'Cl-Cl'), value='U-U'), FloatSl…"
      ]
     },
     "metadata": {},
     "output_type": "display_data"
    }
   ],
   "source": [
    "layout = go.Layout(\n",
    "    title='Partial PDFs Inspection',\n",
    "    yaxis=dict(\n",
    "        title='g(r)',\n",
    "        autorange=False\n",
    "    ),\n",
    "    xaxis=dict(\n",
    "        title='r (angstrom)',\n",
    "        autorange=False\n",
    "    ),\n",
    "    width=1000,\n",
    "    height=700,\n",
    "    autosize=False\n",
    ")\n",
    "\n",
    "\n",
    "def boltzmann(x, A1, A2, r0, delta_r):\n",
    "    y = list()\n",
    "    for item in x:\n",
    "        tmp = (item - r0) / delta_r\n",
    "        tmp = 700 if tmp > 700 else tmp\n",
    "        y.append((A1 - A2) / (1. + np.exp(tmp)) + A2)\n",
    "    \n",
    "    return y\n",
    "\n",
    "\n",
    "def update_plot(signal, A1, A2, r0, delta_r, xmin, xmax, ymin, ymax, BZ_m, X_m, Y_m):\n",
    "    \n",
    "    trace_data = go.Scatter(\n",
    "        x=partial_pdfs[\"r\"],\n",
    "        y=partial_pdfs[signal],\n",
    "        mode=\"lines\",\n",
    "        name=f\"{signal} - Data\",\n",
    "        line=dict(\n",
    "            shape='spline'\n",
    "        )\n",
    "    )\n",
    "\n",
    "    lb1.value = \"Manual Input Boltzmann Parameters: \" + BZ_m\n",
    "    lb2.value = \"Manual Input X-range: \" + X_m\n",
    "    lb3.value = \"Manual Input Y-range: \" + Y_m\n",
    "    \n",
    "    if len(BZ_m.split()) >= 4:\n",
    "        valid_input = True\n",
    "        for item in BZ_m.split():\n",
    "            if not item.strip().replace('.', '', 1).replace('-', '', 1).replace(' ', '').isdigit():\n",
    "                valid_input = False\n",
    "                break\n",
    "        if valid_input:\n",
    "            A1 = float(BZ_m.split()[0])\n",
    "            A2 = float(BZ_m.split()[1])\n",
    "            r0 = float(BZ_m.split()[2])\n",
    "            delta_r = float(BZ_m.split()[3])\n",
    "            if abs(delta_r) < 1E-2:\n",
    "                delta_r = 0.01\n",
    "    \n",
    "    trace_tail = go.Scatter(\n",
    "        x=partial_pdfs[\"r\"],\n",
    "        y=boltzmann(partial_pdfs[\"r\"], A1, A2, r0, delta_r),\n",
    "        mode=\"lines\",\n",
    "        name=f\"{signal} - Tail\",\n",
    "        line=dict(\n",
    "            shape='spline'\n",
    "        )\n",
    "    )\n",
    "    \n",
    "    data = [trace_data, trace_tail]\n",
    "    fig = go.Figure(data=data, layout=layout)\n",
    "    \n",
    "    if len(X_m.split(\",\")) == 2:\n",
    "        if X_m.split(\",\")[0].strip().replace('.', '', 1).replace('-', '', 1).replace(' ', '').isdigit():\n",
    "            xmin = float(X_m.split(\",\")[0])\n",
    "        if X_m.split(\",\")[1].strip().replace('.', '', 1).replace('-', '', 1).replace(' ', '').isdigit():\n",
    "            xmax = float(X_m.split(\",\")[1])\n",
    "    if len(Y_m.split(\",\")) == 2:\n",
    "        if Y_m.split(\",\")[0].strip().replace('.', '', 1).replace('-', '', 1).replace(' ', '').isdigit():\n",
    "            ymin = float(Y_m.split(\",\")[0])\n",
    "        if Y_m.split(\",\")[1].strip().replace('.', '', 1).replace('-', '', 1).replace(' ', '').isdigit():\n",
    "            ymax = float(Y_m.split(\",\")[1])\n",
    "            \n",
    "    if xmax < xmin:\n",
    "        tmp = xmin\n",
    "        xmin = xmax\n",
    "        xmax = tmp\n",
    "    if ymax < ymin:\n",
    "        tmp = ymin\n",
    "        ymin = ymax\n",
    "        ymax = tmp\n",
    "        \n",
    "    fig.update_xaxes(range=[xmin, xmax])\n",
    "    fig.update_yaxes(range=[ymin, ymax])\n",
    "    \n",
    "    py.offline.iplot(fig)\n",
    "    \n",
    "    \n",
    "style = {'description_width': 'initial'}\n",
    "# Tail function parameters\n",
    "signal = widgets.Dropdown(options=partials, value=partials[0], description='Partials')\n",
    "A1 = widgets.FloatSlider(min=-1, max=5, value=0, step=0.001, description='A1',\n",
    "                         layout=widgets.Layout(width='30%'), style=style,\n",
    "                         readout_format='.3f')\n",
    "A2 = widgets.FloatSlider(min=0, max=10, value=1, step=0.001, description='A2',\n",
    "                         layout=widgets.Layout(width='30%'), style=style,\n",
    "                         readout_format='.3f')\n",
    "r0 = widgets.FloatSlider(min=0, max=5, value=2.0, step=0.001, description='r0',\n",
    "                         layout=widgets.Layout(width='30%'), style=style,\n",
    "                         readout_format='.3f')\n",
    "delta_r = widgets.FloatSlider(min=0.01, max=0.5, value=0.001, step=0.01, description='delta_r',\n",
    "                              layout=widgets.Layout(width='30%'), style=style,\n",
    "                              readout_format='.3f')\n",
    "\n",
    "# Plot range parameters\n",
    "xmin = widgets.FloatSlider(min=0, max=50, value=0, step=0.01, description='X-range slider-1',\n",
    "                           layout=widgets.Layout(width='30%'), style=style, readout_format='.3f')\n",
    "xmax = widgets.FloatSlider(min=0, max=50, value=50, step=0.01, description='X-range slider-2',\n",
    "                           layout=widgets.Layout(width='30%'), style=style, readout_format='.3f')\n",
    "ymin = widgets.FloatSlider(min=-5, max=50, value=0, step=0.01, description='Y-range slider-1',\n",
    "                           layout=widgets.Layout(width='30%'), style=style, readout_format='.3f')\n",
    "ymax = widgets.FloatSlider(min=-5, max=50, value=20, step=0.01, description='Y-range slider-2',\n",
    "                           layout=widgets.Layout(width='30%'), style=style, readout_format='.3f')\n",
    "\n",
    "# Manual inputs\n",
    "BZ_m = widgets.Text(value='',\n",
    "                    placeholder='0 1 2.0 0.1',\n",
    "                    description='BZ Params: ',\n",
    "                    disabled=False)\n",
    "X_m = widgets.Text(value='',\n",
    "                   placeholder='0, 50',\n",
    "                   description='X-range: ',\n",
    "                   disabled=False)\n",
    "Y_m = widgets.Text(value='',\n",
    "                   placeholder='0, 20',\n",
    "                   description='Y-range: ',\n",
    "                   disabled=False)\n",
    "\n",
    "lb1 = widgets.Label()\n",
    "display(lb1)\n",
    "lb2 = widgets.Label()\n",
    "display(lb2)\n",
    "lb3 = widgets.Label()\n",
    "display(lb3)\n",
    "\n",
    "widgets.interactive(update_plot, signal=signal, A1=A1, A2=A2, r0=r0, delta_r=delta_r,\n",
    "                    xmin=xmin, xmax=xmax, ymin=ymin, ymax=ymax, BZ_m=BZ_m, X_m=X_m, Y_m=Y_m)"
   ]
  },
  {
   "cell_type": "code",
   "execution_count": null,
   "id": "4f31791c-248e-4048-b8e6-28ab8036186e",
   "metadata": {},
   "outputs": [],
   "source": []
  }
 ],
 "metadata": {
  "kernelspec": {
   "display_name": "Python (default)",
   "language": "python",
   "name": "python3"
  },
  "language_info": {
   "codemirror_mode": {
    "name": "ipython",
    "version": 3
   },
   "file_extension": ".py",
   "mimetype": "text/x-python",
   "name": "python",
   "nbconvert_exporter": "python",
   "pygments_lexer": "ipython3",
   "version": "3.7.13"
  }
 },
 "nbformat": 4,
 "nbformat_minor": 5
}
